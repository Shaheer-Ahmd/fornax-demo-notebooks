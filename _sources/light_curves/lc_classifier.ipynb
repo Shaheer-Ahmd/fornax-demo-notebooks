{
 "cells": [
  {
   "cell_type": "markdown",
   "id": "c461412d",
   "metadata": {},
   "source": [
    "# Light Curve Classifier\n",
    "***\n",
    "\n",
    "## Learning Goals\n",
    "By the end of this tutorial, you will be able to:\n",
    "- do some basic data cleaning and filtering to prepare the data for the ML algorithms\n",
    "- work with Pandas data frames as a way of storing time domain datasets\n",
    "- use sktime algorithms to train a classifier and predict values on a test dataset\n",
    "\n",
    "## Introduction\n",
    "This notebook takes output of a previous demo notebook which generates light curves from archival data, does data prep, and runs the light curves through multiple [`sktime`](https://www.sktime.net/en/stable/) classifiers.  The goal of the classifiers is to be able to differentiate changing look active galactic nucleii (CLAGN) from an SDSS quasar sample based on multiband light curves.  CLAGN are quite interested objects in that they appear to change state, but only a few hundred are currently known, and finding them is quite expensive requiring spectroscopic follow up.  Being able to identify CLAGN in existing large samples would allow us to identify a statisitcal sample from which we could better understand the physics of what is occuring in these systems.\n",
    "\n",
    "The challenges of this time-domain dataset are:\n",
    "1. Multi-variate = There are multiple bands of observations per target (13+)\n",
    "2. Unequal length = Each band has a light curve with different sampling than other bands\n",
    "3. Missing data = Not each object has all observations in all bands\n",
    "\n",
    "We choose to use a Pandas multiindex dataframe to store and work with the data because it fulfills these requirements:\n",
    "1. It can handle the above challenges of a dataset = multi-variate, unqueal length with missing data.\n",
    "2. Multiple targets (multiple rows)\n",
    "3. Pandas has some built in understanding of time units\n",
    "4. Can be scaled up to big data numbers of rows (altough we don't push to out of memory structures in this use case)\n",
    "5. Pandas is user friendly\n",
    "\n",
    "\n",
    "## Input\n",
    "Light curve parquet file of multiband light curves from the mulitband_lc.ipynb demo notebook.  The format of the light curves is a Pandas multiindex data frame\n",
    "\n",
    "A useful reference for what sktime expects as input to its ML algorithms: https://github.com/sktime/sktime/blob/main/examples/AA_datatypes_and_datasets.ipynb\n",
    "\n",
    "## Output\n",
    "Trained classifiers as well as estimates of their accuracy and plots of confusion matrices\n",
    "\n",
    "## Imports\n",
    "- `pandas` to work with light curve data structure\n",
    "- `numpy` for numerical calculations\n",
    "- `matplotlib` for plotting\n",
    "- `sys` for paths\n",
    "- `astropy` to work with coordinates/units and data structures\n",
    "- `tqdm` for showing progress meter\n",
    "- `sktime` ML algorithms specifically for time-domain data\n",
    "- `sklearn` general use ML algorthims with easy to use interface\n",
    "\n",
    "## Authors\n",
    "\n",
    "## Acknowledgements"
   ]
  },
  {
   "cell_type": "code",
   "execution_count": null,
   "id": "7767e727",
   "metadata": {},
   "outputs": [],
   "source": [
    "#ensure all dependencies are installed\n",
    "!pip install -r requirements-lc_classifier.txt"
   ]
  },
  {
   "cell_type": "code",
   "execution_count": null,
   "id": "b2124daa",
   "metadata": {},
   "outputs": [],
   "source": [
    "import sys\n",
    "\n",
    "import matplotlib.pyplot as plt\n",
    "import numpy as np\n",
    "import pandas as pd\n",
    "from astropy.time import Time\n",
    "from google_drive_downloader import GoogleDriveDownloader as gdd\n",
    "from scipy.stats import sigmaclip\n",
    "\n",
    "from sklearn.metrics import ConfusionMatrixDisplay, accuracy_score, confusion_matrix\n",
    "from sklearn.model_selection import train_test_split\n",
    "from sklearn.gaussian_process import GaussianProcessRegressor\n",
    "from sklearn.gaussian_process.kernels import RBF\n",
    "from sklearn.neighbors import KNeighborsRegressor\n",
    "\n",
    "from sktime.classification.deep_learning import CNNClassifier\n",
    "from sktime.classification.dictionary_based import IndividualTDE\n",
    "from sktime.classification.distance_based import KNeighborsTimeSeriesClassifier\n",
    "from sktime.classification.dummy import DummyClassifier\n",
    "from sktime.classification.ensemble import WeightedEnsembleClassifier\n",
    "from sktime.classification.feature_based import Catch22Classifier, RandomIntervalClassifier\n",
    "from sktime.classification.hybrid import HIVECOTEV2\n",
    "from sktime.classification.interval_based import CanonicalIntervalForest\n",
    "from sktime.classification.kernel_based import Arsenal, RocketClassifier\n",
    "from sktime.classification.shapelet_based import ShapeletTransformClassifier\n",
    "from sktime.registry import all_estimators, all_tags\n",
    "from tqdm import tqdm\n",
    "\n",
    "# local code imports\n",
    "sys.path.append('code_src/')\n",
    "from fluxconversions import mjd_to_jd"
   ]
  },
  {
   "cell_type": "markdown",
   "id": "3fbbf744",
   "metadata": {},
   "source": [
    "## 1. Read in a dataset of archival light curves"
   ]
  },
  {
   "cell_type": "code",
   "execution_count": null,
   "id": "05337123",
   "metadata": {},
   "outputs": [],
   "source": [
    "#access structure of light curves made in the light curve notebook\n",
    "# has CLAGN & SDSS small sample, all bands\n",
    "#https://drive.google.com/file/d/13RiPODiz2kI8j1OKpP1vfh6ByIUNsKEz/view?usp=share_link\n",
    "\n",
    "gdd.download_file_from_google_drive(file_id='13RiPODiz2kI8j1OKpP1vfh6ByIUNsKEz',\n",
    "                                    dest_path='./data/df_lc_458sample.parquet',\n",
    "                                    unzip=True)\n",
    "\n",
    "df_lc = pd.read_parquet(\"./data/df_lc_458sample.parquet\")\n",
    "\n",
    "#get rid of indices set in the light curve code and reset them as needed before sktime algorithms\n",
    "df_lc = df_lc.reset_index()  "
   ]
  },
  {
   "cell_type": "markdown",
   "id": "e46b52ee",
   "metadata": {},
   "source": [
    "## 2. Data Prep\n",
    "This dataset needs significant work before it can be fed into a ML algorithm"
   ]
  },
  {
   "cell_type": "code",
   "execution_count": null,
   "id": "de38da43",
   "metadata": {},
   "outputs": [],
   "source": [
    "#what does the dataset look like anyway?\n",
    "df_lc"
   ]
  },
  {
   "cell_type": "markdown",
   "id": "75fc141a",
   "metadata": {},
   "source": [
    "### 2.1 Remove bands with not enough data\n",
    "For this use case of CLAGN classification, we don't need to include some of the bands\n",
    "that are known to be sparse."
   ]
  },
  {
   "cell_type": "code",
   "execution_count": null,
   "id": "9e1f413f",
   "metadata": {},
   "outputs": [],
   "source": [
    "##what are the unique set of bands included in our light curves\n",
    "df_lc.band.unique()"
   ]
  },
  {
   "cell_type": "code",
   "execution_count": null,
   "id": "9db2df08",
   "metadata": {},
   "outputs": [],
   "source": [
    "# get rid of some of the bands that don't have enough data for all the sources\n",
    "\n",
    "bands_to_drop = [\"IceCube\", \"TESS\", \"FERMIGTRIG\", \"K2\"]\n",
    "df_lc = df_lc[~df_lc[\"band\"].isin(bands_to_drop)]"
   ]
  },
  {
   "cell_type": "markdown",
   "id": "e197c4bb",
   "metadata": {},
   "source": [
    "### 2.2 Combine Labels for a Simpler Classification\n",
    "All CLAGN start in the dataset as having labels based on their discovery paper.  Because we want one sample with all known CLAGN, change those discoery names to be simply \"CLAGN\" for all CLAGN, regardless of origin"
   ]
  },
  {
   "cell_type": "code",
   "execution_count": null,
   "id": "4c721f05",
   "metadata": {},
   "outputs": [],
   "source": [
    "df_lc['label'] = df_lc.label.str.replace('MacLeod 16', 'CLAGN')\n",
    "df_lc['label'] = df_lc.label.str.replace('LaMassa 15', 'CLAGN')\n",
    "df_lc['label'] = df_lc.label.str.replace('Yang 18', 'CLAGN')\n",
    "df_lc['label'] = df_lc.label.str.replace('Lyu 21', 'CLAGN')\n",
    "df_lc['label'] = df_lc.label.str.replace('Hon 22', 'CLAGN')\n",
    "df_lc['label'] = df_lc.label.str.replace('Sheng 20', 'CLAGN')\n",
    "df_lc['label'] = df_lc.label.str.replace('MacLeod 19', 'CLAGN')\n",
    "df_lc['label'] = df_lc.label.str.replace('Green 22', 'CLAGN')\n",
    "df_lc['label'] = df_lc.label.str.replace('Lopez-Navas 22', 'CLAGN')\n"
   ]
  },
  {
   "cell_type": "markdown",
   "id": "b9d229f9",
   "metadata": {},
   "source": [
    "### 2.3 Remove \"bad\"  data\n",
    "\"bad\" includes:\n",
    "- errant values\n",
    "- NaNs\n",
    "- zero flux\n",
    "- outliers in uncertainty\n",
    "- objects with not enough flux measurements to make a good light curve\n",
    "- objects with no measurements in WISE W1 band"
   ]
  },
  {
   "cell_type": "code",
   "execution_count": null,
   "id": "7ce6eb6d",
   "metadata": {},
   "outputs": [],
   "source": [
    "#find and drop bad rows\n",
    "\n",
    "#one panstarrs z has a crazy err value of -999000, definitely don't want to include that one\n",
    "querystring = 'err < -100'\n",
    "df_lc = df_lc.drop(df_lc.query(querystring).index)\n",
    "\n",
    "#drop rows which have Nans\n",
    "df_lc.dropna(inplace = True, axis = 0)\n",
    "\n",
    "#drop ~8 rows with zero flux\n",
    "#We are going to define zero flux later to be missing data, but not sure what these are\n",
    "querystring = 'flux < 0.000001'\n",
    "df_lc = df_lc.drop(df_lc.query(querystring).index)\n"
   ]
  },
  {
   "cell_type": "code",
   "execution_count": null,
   "id": "fd276bda",
   "metadata": {},
   "outputs": [],
   "source": [
    "#consider Removing all rows with uncertainties well outside of a normal distribution\n",
    "#plot histograms to see what these distributions look like\n",
    "#This is a tricky job because we want to keep astrophysical outliers of variable objects, but \n",
    "#remove instrumental noise and CR (ground based)\n",
    "\n",
    "#keep track of how many rows this removes\n",
    "start_len = len(df_lc)\n",
    "\n",
    "#setup to collect the outlier thresholds per band to later reject\n",
    "nsigmaonmean= {}\n",
    "\n",
    "#what value of sigma are we going to consider is an outlier?\n",
    "sigmaclip_value = 10.0\n",
    "\n",
    "#create the figure and axes\n",
    "fig, axs = plt.subplots(5, 3, figsize = (12, 12))\n",
    "\n",
    "# unpack all the axes subplots\n",
    "axe = axs.ravel()\n",
    "\n",
    "#for each band\n",
    "for count, (bandname, singleband) in enumerate(df_lc.groupby(\"band\")):\n",
    "    \n",
    "    #use scipy sigmaclip to iteratively determine sigma on the dataset\n",
    "    clippedarr, lower, upper = sigmaclip(singleband.err, low = sigmaclip_value, high = sigmaclip_value)\n",
    "    \n",
    "    #store this value for later\n",
    "    nsigmaonmean[bandname] = upper\n",
    "    \n",
    "    #plot distributions and print stddev\n",
    "    singleband.err.plot(kind = 'hist', bins = 30, subplots =True, ax = axe[count],label = bandname+' '+str(upper), legend=True)"
   ]
  },
  {
   "cell_type": "code",
   "execution_count": null,
   "id": "e64e8433",
   "metadata": {},
   "outputs": [],
   "source": [
    "#remove data that are outside the sigmaclip_value\n",
    "for bandname, cut in nsigmaonmean.items():\n",
    "    querystring = f'band == {bandname!r} & err > {cut}'\n",
    "    df_lc = df_lc.drop(df_lc.query(querystring).index)"
   ]
  },
  {
   "cell_type": "code",
   "execution_count": null,
   "id": "38d7045b",
   "metadata": {},
   "outputs": [],
   "source": [
    "#how much data did we remove with this sigma clipping?\n",
    "#This should inform our choice of sigmaclip_value.\n",
    "\n",
    "end_len = len(df_lc)\n",
    "fraction = (start_len - end_len) / start_len\n",
    "print(f\"This {sigmaclip_value} sigma clipping removed {fraction}% of the rows in df_lc\")"
   ]
  },
  {
   "cell_type": "code",
   "execution_count": null,
   "id": "3ae3f307",
   "metadata": {},
   "outputs": [],
   "source": [
    "#Remove objects which do not have fluxes measured in the band with which we want to normalize\n",
    "#which band has the most data?\n",
    "\n",
    "#Later in the code we will need to noramalize fluxes by one of the bands\n",
    "#This cell aims to figure out which band has the most data \n",
    "#this needs to be run before we go and fill in missing data\n",
    "\n",
    "#how many objects are there total?\n",
    "total_objectids = df_lc.groupby( \"objectid\").ngroups\n",
    "\n",
    "#how many objects have at least 1 flux in each of the band?\n",
    "for band, df_lc_band in df_lc.groupby( \"band\"):\n",
    "    total_band = df_lc_band.groupby(\"objectid\").ngroups\n",
    "    print(total_band/total_objectids, \" have \", band, \" fluxes\" )\n"
   ]
  },
  {
   "cell_type": "code",
   "execution_count": null,
   "id": "b833f397",
   "metadata": {},
   "outputs": [],
   "source": [
    "#this argues for normalizing by w1 fluxes (later)\n",
    "#We will therefore need to get rid of the 4% of light curves which do not have W1 data\n",
    "#as there will be nothing to normalize those light curves with and we don't want to \n",
    "#have un-normalized data or data that has been normalized by a different band.  \n",
    "\n",
    "#keep track of how many get dropped\n",
    "dropcount = 0\n",
    "\n",
    "#for each object\n",
    "for oid , singleoid in df_lc.groupby(\"objectid\"):\n",
    "    #what bands does that object have\n",
    "    bandname = singleoid.band.unique().tolist()\n",
    "    \n",
    "    #if it doesn't have W1:\n",
    "    if 'w1' not in bandname:\n",
    "        #delete this oid from the dataframe of light curves\n",
    "        indexoid = df_lc[ (df_lc['objectid'] == oid)].index\n",
    "        df_lc.drop(indexoid , inplace=True)\n",
    "        \n",
    "        #keep track of how many are being deleted\n",
    "        dropcount = dropcount + 1\n",
    "        \n",
    "        \n",
    "print( dropcount, \"objects do not have W1 fluxes and were removed\")"
   ]
  },
  {
   "cell_type": "markdown",
   "id": "35bae2a7",
   "metadata": {},
   "source": [
    "### 2.4 Incomplete Data\n",
    "\n",
    "Some objects have only a few datapoints.  Three data points is not large enough for KNN interpolation, so we will consider any array with fewer than 4 photometry points to be incomplete data.\n",
    "\n",
    "Another way of saying this is that we choose to remove those light curves with 3 or fewer data points."
   ]
  },
  {
   "cell_type": "code",
   "execution_count": null,
   "id": "695cec82",
   "metadata": {},
   "outputs": [],
   "source": [
    "#Define what the threshold is for too few datapoints.\n",
    "thresh_too_few = 3\n",
    "\n",
    "#how many groups do we have before we start\n",
    "print(df_lc.groupby([\"band\", \"objectid\"]).ngroups, \"n groups before\")\n",
    "\n",
    "#use pandas .filter to remove small groups\n",
    "df_lc = df_lc.groupby([\"band\", \"objectid\"]).filter(lambda x: len(x) > thresh_too_few)\n",
    "\n",
    "#how many groups do we have after culling?\n",
    "print(df_lc.groupby([\"band\", \"objectid\"]).ngroups, \"n groups after\")\n",
    "\n",
    "#currently this seems like a lot of groups because we still have the gaia single photometry points for many objects\n"
   ]
  },
  {
   "cell_type": "markdown",
   "id": "448f013e",
   "metadata": {},
   "source": [
    "### 2.5 Missing Data\n",
    "Some objects do not have light curves in all bands.  Some ML algorithms can handle mising data, but not all, so it would be useful to handle this missing data up front.\n",
    "\n",
    "We will add light curves with zero flux and err values for the missing data.  SKtime does not like NaNs, so we chose zeros."
   ]
  },
  {
   "cell_type": "code",
   "execution_count": null,
   "id": "ad15f22e",
   "metadata": {},
   "outputs": [],
   "source": [
    "def make_zero_lc(oid, band, label):\n",
    "    #randomly choose some times during the WISE survey\n",
    "    #these will all get fleshed out in the section on making uniform length time arrays\n",
    "    #so the specifics are not important now\n",
    "    timelist = [55230.0,57054.0, 57247.0, 57977.0, 58707.0]  \n",
    "    \n",
    "    #make a dictionary to hold the light curve\n",
    "    zerosingle = {\"objectid\": oid, \"label\": label, \"band\": band, \"time\": timelist, \n",
    "                  \"flux\": np.zeros(len(timelist)), \"err\":np.zeros(len(timelist))}\n",
    "    \n",
    "    return zerosingle"
   ]
  },
  {
   "cell_type": "code",
   "execution_count": null,
   "id": "47ec8694",
   "metadata": {},
   "outputs": [],
   "source": [
    "#for the case where there is no photometry in a band:\n",
    "#make light curves with flux, err set to zeros\n",
    "\n",
    "#what is the full set of unique band names?\n",
    "full_bandname = df_lc.band.unique()\n",
    "\n",
    "#setup a list to store empty light curves\n",
    "zerosingle_list = [] \n",
    "\n",
    "#for each object in each band\n",
    "for oid , singleoid in df_lc.groupby(\"objectid\"):\n",
    "                                  \n",
    "    #this is the list of bandnames for that object                                \n",
    "    oid_bandname = singleoid.band.unique()\n",
    "    \n",
    "    #figure out which bands are missing\n",
    "    missing = list(set(full_bandname).difference(oid_bandname))\n",
    "    \n",
    "    #if it is not the complete list, ie some bandnames are missing:                            \n",
    "    if len(missing) > 0:\n",
    "    \n",
    "        #make new dataframe for this object with zero flux and err values\n",
    "        for band in missing:\n",
    "            label = str(singleoid.label.unique().squeeze())\n",
    "            zerosingle = make_zero_lc(oid, band, label)\n",
    "            #keep track of these empty light curces in a list\n",
    "            zerosingle_list.append(zerosingle)\n",
    "\n",
    "            \n",
    "#turn the empty light curves into a dataframe\n",
    "df_empty = pd.DataFrame(zerosingle_list)\n",
    "# df_empty has one row per dict. time,flux, and err columns store arrays.\n",
    "# \"explode\" the dataframe to get one row per light curve point. time, flux, and err columns will now store floats.\n",
    "df_empty = df_empty.explode([\"time\", \"flux\",\"err\"], ignore_index=True)\n",
    "df_empty = df_empty.astype({col: \"float\" for col in [\"time\", \"flux\", \"err\"]})\n",
    "\n",
    "\n",
    "#now put the empty light curves back together with the main light curve dataframe\n",
    "df_lc = pd.concat([df_lc, df_empty])"
   ]
  },
  {
   "cell_type": "markdown",
   "id": "afcc8f8c",
   "metadata": {},
   "source": [
    "### 2.5  Make all objects and bands have identical time arrays (uniform length and spacing)\n",
    "\n",
    "It is very hard to find time-domain ML algorithms which can handle non uniform length datasets. Therefore we make them uniform using Pandas [reindex](https://pandas.pydata.org/docs/reference/api/pandas.DataFrame.reindex.html) which fills in the uniform length arrays with values according to the method chosen by the user.  We implement a nearest neighbor to fill the arrays.  \n",
    "\n",
    "try a sklearn regressor to fit the shape of the light curve and do interpolation\n",
    "\n",
    "Potential other options for uniformizing the time series dataset:\n",
    "- pandas.dataframe.interpolate with many methods"
   ]
  },
  {
   "cell_type": "code",
   "execution_count": null,
   "id": "e485a2cc",
   "metadata": {},
   "outputs": [],
   "source": [
    "#what does it look like?\n",
    "df_lc"
   ]
  },
  {
   "cell_type": "code",
   "execution_count": null,
   "id": "8d1dad8a",
   "metadata": {},
   "outputs": [],
   "source": [
    "#this cell takes 13seconds to run on the sample of 458 sources\n",
    "\n",
    "#change this to change the frequency of the time array\n",
    "final_freq_int = 30  #this is the timescale of interpolation in units of days\n",
    "\n",
    "#make a time array with the minimum and maximum of all light curves in the sample\n",
    "x_interpol = np.arange(df_lc.time.min(), df_lc.time.max(), final_freq_int)\n",
    "x_interpol = x_interpol.reshape(-1, 1) # needed for sklearn\n",
    "lc_interpol = []  # list to store interpolated light curves\n",
    "\n",
    "#look at each object in each band\n",
    "for (band,oid) , singleband_oid in df_lc.groupby([\"band\", \"objectid\"]):\n",
    "    #singleband_oid is now a dataframe with just one object and one band\n",
    "    X = np.array(singleband_oid[\"time\"]).reshape(-1, 1)\n",
    "    y = np.array(singleband_oid[\"flux\"])\n",
    "    dy = np.array(singleband_oid[\"err\"])\n",
    "    \n",
    "    #kernel = 1.0 * RBF(length_scale=30)\n",
    "    #gp = GaussianProcessRegressor(kernel=kernel, alpha=dy**2, normalize_y = False)\n",
    "    #gp.fit(X, y)\n",
    "    #mean_prediction,std_prediction = gp.predict(x_interpol, return_std=True)\n",
    "\n",
    "    #try KNN\n",
    "    KNN = KNeighborsRegressor(n_neighbors = 3)\n",
    "    KNN.fit(X, y)\n",
    "    mean_prediction = KNN.predict(x_interpol)\n",
    "        \n",
    "    #KNN doesnt output an uncertainty array, so make our own:\n",
    "    #an array of the same length as mean_prediction\n",
    "    #having values equal to the mean of the original uncertainty array\n",
    "    err = np.full_like(mean_prediction, singleband_oid.err.mean())  \n",
    "        \n",
    "    #get these values into the dataframe\n",
    "    # append the results as a dict. the list will be converted to a dataframe later.\n",
    "    lc_interpol.append(\n",
    "        {\"objectid\": oid, \"label\": str(singleband_oid.label.unique().squeeze()), \"band\": band, \"time\": x_interpol.reshape(-1), \n",
    "         \"flux\": mean_prediction, \"err\": err}\n",
    "    )\n",
    "    \n",
    "        \n",
    "    #se what this looks like on just a single light curve for now\n",
    "    if (band == 'zr') and (oid == 9) :  \n",
    "        #see if this looks reasonable\n",
    "        plt.errorbar(X,y,dy,linestyle=\"None\",color=\"tab:blue\",marker=\".\")\n",
    "        plt.plot(x_interpol, mean_prediction, label=\"Mean prediction\")\n",
    "        #plt.fill_between(\n",
    "        #    x_interpol.ravel(),\n",
    "        #    mean_prediction - 1.96 * std_prediction,\n",
    "        #    mean_prediction + 1.96 * std_prediction,\n",
    "        #    color=\"tab:orange\",\n",
    "        #    alpha=0.5,\n",
    "        #    label=r\"95% confidence interval\",\n",
    "        #)\n",
    "        plt.legend()\n",
    "        plt.xlabel(\"time\")\n",
    "        plt.ylabel(\"flux\")\n",
    "        _ = plt.title(\"KNN regression\")\n",
    "        \n",
    "        \n",
    "# create a dataframe of the interpolated light curves\n",
    "df_interpol = pd.DataFrame(lc_interpol)\n",
    "# df_lc_interpol has one row per dict in lc_interpol. time and flux columns store arrays.\n",
    "# \"explode\" the dataframe to get one row per light curve point. time and flux columns will now store floats.\n",
    "df_lc = df_interpol.explode([\"time\", \"flux\",\"err\"], ignore_index=True)\n",
    "df_lc = df_lc.astype({col: \"float\" for col in [\"time\", \"flux\", \"err\"]})"
   ]
  },
  {
   "cell_type": "markdown",
   "id": "f08e2d4b",
   "metadata": {},
   "source": [
    "### 2.6  Restructure dataframe in format expected by sktime\n",
    "- Make columns have band names in them and then remove band from the index\n",
    "- pivot the dataframe so that SKTIME understands its format"
   ]
  },
  {
   "cell_type": "code",
   "execution_count": null,
   "id": "3ee900f2",
   "metadata": {},
   "outputs": [],
   "source": [
    "df_lc"
   ]
  },
  {
   "cell_type": "code",
   "execution_count": null,
   "id": "76e03677",
   "metadata": {},
   "outputs": [],
   "source": [
    "#keep some columns out of the mix when doing the pivot by bandname\n",
    "#set them as indices and they won't get pivoted into\n",
    "df_lc = df_lc.set_index([\"objectid\", \"label\", \"time\"])\n",
    "\n",
    "#attach bandname to all the fluxes and uncertainties\n",
    "df_lc = df_lc.pivot(columns = \"band\")\n",
    "\n",
    "#rename the columns\n",
    "df_lc.columns = [\"_\".join(col) for col in df_lc.columns.values]\n",
    "\n",
    "#many of these flux columns still have a space in them from the bandnames, \n",
    "#convert that space to underscore\n",
    "df_lc.columns = df_lc.columns.str.replace(' ', '_') \n",
    "\n",
    "#and get rid of that index to cleanup\n",
    "df_lc = df_lc.reset_index()  "
   ]
  },
  {
   "cell_type": "code",
   "execution_count": null,
   "id": "23a78709",
   "metadata": {},
   "outputs": [],
   "source": [
    "#look at a single object to see what this array looks like\n",
    "ob_of_interest = 4\n",
    "singleob = df_lc[df_lc['objectid'] == ob_of_interest]\n",
    "singleob"
   ]
  },
  {
   "cell_type": "markdown",
   "id": "1927282c",
   "metadata": {},
   "source": [
    "### 2.7 Normalize \n",
    "- this is normalizing across all bands\n",
    "- think this is the right place to do this, rather than interpolate over time \n",
    "    so that the final light curves are normalized since that is the chunk of information \n",
    "    which goes into the ML algorithms.\n",
    "- chose max and not median or mean because there are some objects where the median flux = 0.0\n",
    "    - if we did this before the interpolating, the median might be a non-zero value\n",
    "- normalizing is required so that the CLAGN and it's comparison SDSS sample don't have different flux levels.\n",
    "\n",
    "\n",
    "Idea here is that we normalize across each object.  So the algorithms will know, for example, that within one object W1 will be brighter than ZTF bands but from one object to the next, it will not know that one is brighter than the other."
   ]
  },
  {
   "cell_type": "code",
   "execution_count": null,
   "id": "76ad7724",
   "metadata": {},
   "outputs": [],
   "source": [
    "# make a new column with max_r_flux for each objectid\n",
    "df_lc['max_W1'] = df_lc.groupby('objectid', sort=False)[\"flux_w1\"].transform('max')"
   ]
  },
  {
   "cell_type": "code",
   "execution_count": null,
   "id": "df4552b9",
   "metadata": {},
   "outputs": [],
   "source": [
    "#figure out which columns in the dataframe are flux columns\n",
    "flux_cols = [col for col in df_lc.columns if 'flux' in col]\n",
    "\n",
    "# make new normalized flux columns for all fluxes\n",
    "df_lc[flux_cols] = df_lc[flux_cols].div(df_lc['max_W1'], axis=0)"
   ]
  },
  {
   "cell_type": "markdown",
   "id": "9a7ad23f",
   "metadata": {},
   "source": [
    "### 2.8 Make datetime time column\n",
    "https://docs.python.org/3/library/datetime.html#module-datetime\n",
    "\n",
    "SKTime wants a datetime column"
   ]
  },
  {
   "cell_type": "code",
   "execution_count": null,
   "id": "b3a5d002",
   "metadata": {},
   "outputs": [],
   "source": [
    "#need to convert df_lc time into datetime\n",
    "mjd = df_lc.time\n",
    "\n",
    "#convert to JD\n",
    "jd = mjd_to_jd(mjd)\n",
    "\n",
    "#convert to individual components\n",
    "t = Time(jd, format = 'jd' )\n",
    "\n",
    "#t.datetime is now an array of type datetime\n",
    "#make it a column in the dataframe\n",
    "df_lc['datetime'] = t.datetime\n"
   ]
  },
  {
   "cell_type": "markdown",
   "id": "96c47dd8",
   "metadata": {},
   "source": [
    "### 2.9 Save this dataframe"
   ]
  },
  {
   "cell_type": "code",
   "execution_count": null,
   "id": "c8e76a78",
   "metadata": {},
   "outputs": [],
   "source": [
    "#save this dataframe to use for the ML below so we don't have to make it every time\n",
    "parquet_savename = 'output/df_lc_ML.parquet'\n",
    "df_lc.to_parquet(parquet_savename)\n",
    "#print(\"file saved!\")"
   ]
  },
  {
   "cell_type": "markdown",
   "id": "2b2d0405",
   "metadata": {},
   "source": [
    "### 2.10 make into multi-index which is what SKTime expects as input"
   ]
  },
  {
   "cell_type": "code",
   "execution_count": null,
   "id": "727286f6",
   "metadata": {},
   "outputs": [],
   "source": [
    "df_lc = df_lc.set_index([\"objectid\", \"label\", \"datetime\"])"
   ]
  },
  {
   "cell_type": "markdown",
   "id": "05feb387",
   "metadata": {},
   "source": [
    "## 3. Prep for ML algorithms in sktime"
   ]
  },
  {
   "cell_type": "code",
   "execution_count": null,
   "id": "83499b95",
   "metadata": {},
   "outputs": [],
   "source": [
    "# could load a previously saved file in order to plot\n",
    "#parquet_loadname = 'output/df_lc_ML.parquet'\n",
    "#df_lc = MultiIndexDFObject()\n",
    "#df_lc.data = pd.read_parquet(parquet_loadname)\n",
    "#print(\"file loaded!\")"
   ]
  },
  {
   "cell_type": "markdown",
   "id": "f8049f51",
   "metadata": {},
   "source": [
    "### 3.0 Consider data augmentation\n",
    "\n",
    "1. https://arxiv.org/pdf/1811.08295.pdf which has the following github\n",
    "\n",
    "    - https://github.com/gioramponi/GAN_Time_Series/tree/master\n",
    "    - not easily usable\n",
    "2. https://arxiv.org/pdf/2205.06758.pdf\n",
    "\n",
    "3. ChatGPT - give multiindex df function and it will give a starting point for augmenting\n",
    "\n",
    "\n",
    "Worried that augmenting noisy data just makes more noise"
   ]
  },
  {
   "cell_type": "markdown",
   "id": "e8f6d65f",
   "metadata": {},
   "source": [
    "### 3.1 Train test split \n",
    "- Because thre are uneven numbers of each type (many more SDSS than CLAGN), we want to make sure to stratify evenly by type\n",
    "- Random split"
   ]
  },
  {
   "cell_type": "code",
   "execution_count": null,
   "id": "a8c860dd",
   "metadata": {},
   "outputs": [],
   "source": [
    "df_lc"
   ]
  },
  {
   "cell_type": "code",
   "execution_count": null,
   "id": "25c5ea20",
   "metadata": {},
   "outputs": [],
   "source": [
    "#y is defined to be the labels\n",
    "y = df_lc.droplevel('datetime').index.unique().get_level_values('label').to_series()\n",
    "\n",
    "#want a stratified split based on label\n",
    "test_size = 0.25\n",
    "train_ix, test_ix = train_test_split(df_lc.index.levels[0], stratify = y, shuffle = True, random_state = 43, test_size = test_size)\n",
    "\n",
    "train_df = df_lc.loc[train_ix]  \n",
    "test_df = df_lc.loc[test_ix]   "
   ]
  },
  {
   "cell_type": "code",
   "execution_count": null,
   "id": "faa5a7d7",
   "metadata": {},
   "outputs": [],
   "source": [
    "#plot to show how many of each type of object in the test dataset\n",
    "\n",
    "plt.figure(figsize=(6,4))\n",
    "plt.title(\"Objects in the Test dataset\")\n",
    "h = plt.hist(test_df.droplevel('datetime').index.unique().get_level_values('label').to_series(),histtype='stepfilled',orientation='horizontal')"
   ]
  },
  {
   "cell_type": "code",
   "execution_count": null,
   "id": "16aaa66c",
   "metadata": {},
   "outputs": [],
   "source": [
    "#divide the dataframe into X and y for ML algorithms \n",
    "\n",
    "#X is the multiindex light curve without the labels\n",
    "X_train  = train_df.droplevel('label')\n",
    "X_test = test_df.droplevel('label')\n",
    "\n",
    "#y are the labels, should be a series \n",
    "y_train = train_df.droplevel('datetime').index.unique().get_level_values('label').to_series()\n",
    "y_test = test_df.droplevel('datetime').index.unique().get_level_values('label').to_series()\n"
   ]
  },
  {
   "cell_type": "markdown",
   "id": "20b0295a",
   "metadata": {},
   "source": [
    "### 3.2 Check that the data types are ok for sktime"
   ]
  },
  {
   "cell_type": "code",
   "execution_count": null,
   "id": "b619283f",
   "metadata": {},
   "outputs": [],
   "source": [
    "#ask sktime if it likes the data type of X_train\n",
    "from sktime.datatypes import check_is_mtype\n",
    "\n",
    "check_is_mtype(X_train, mtype=\"pd-multiindex\", scitype=\"Panel\", return_metadata=True)\n",
    "#check_is_mtype(X_test, mtype=\"pd-multiindex\", scitype=\"Panel\", return_metadata=True)\n",
    "\n",
    "#This test needs to pass in order for sktime to run"
   ]
  },
  {
   "cell_type": "markdown",
   "id": "d969236f",
   "metadata": {},
   "source": [
    "## 4. Run Machine Learning Algorithms on the light curves\n",
    "\n",
    "We choose to use [sktime](https://www.sktime.net/en/stable/index.html) algorithms beacuse it is a library of many algorithms specifically tailored to time series datasets.  It is based on the sklearn library so syntax is familiar to many users.\n",
    "\n",
    "Types of classifiers are listed [here](https://www.sktime.net/en/stable/api_reference/classification.html).\n",
    "\n",
    "This notebook will invert the actual workflow and show you a single example of the algorithm which best fits the data and has the most accurate classifier. Then it will show how to write a for loop over a bunch of classifiers before narrowing it down to the most accurate."
   ]
  },
  {
   "cell_type": "code",
   "execution_count": null,
   "id": "06f842d1",
   "metadata": {},
   "outputs": [],
   "source": [
    "#what is the list of all possible classifiers that work with multivariate data\n",
    "#all_tags(estimator_types = 'classifier')\n",
    "classifiers = all_estimators(\"classifier\", filter_tags={'capability:multivariate':True})\n",
    "classifiers"
   ]
  },
  {
   "cell_type": "markdown",
   "id": "6460bce6",
   "metadata": {},
   "source": [
    "### 4.1 The Most Accurate Classifier\n",
    "See section 4.2 for how we landed with this algorithm"
   ]
  },
  {
   "cell_type": "code",
   "execution_count": null,
   "id": "4861472e",
   "metadata": {},
   "outputs": [],
   "source": [
    "%%time\n",
    "#looks like RandomIntervalClassifier is performing the best for the CLAGN (not for the SDSS)\n",
    "\n",
    "#setup the classifier\n",
    "clf = RandomIntervalClassifier(n_intervals = 20, n_jobs = -1, random_state = 43)\n",
    "\n",
    "#fit the classifier on the training dataset\n",
    "clf.fit(X_train, y_train)\n",
    "\n",
    "#make predictions on the test dataset using the trained model \n",
    "y_pred = clf.predict(X_test)\n",
    "\n",
    "print(f\"Accuracy of Random Interval Classifier: {accuracy_score(y_test, y_pred)}\\n\", flush=True)\n",
    "\n",
    "#plot a confusion matrix\n",
    "cm = confusion_matrix(y_test, y_pred, labels=clf.classes_)\n",
    "disp = ConfusionMatrixDisplay(confusion_matrix=cm,display_labels=clf.classes_)\n",
    "disp.plot()\n",
    "    \n",
    "plt.show()"
   ]
  },
  {
   "cell_type": "markdown",
   "id": "d7ffd6d4",
   "metadata": {},
   "source": [
    "### 4.2 Loop over a bunch of classifiers\n",
    "\n",
    "Our method is to do a cursory check of a bunch of classifiers and then later drill down deeper on anything with good initial results.  We choose to run a loop over ~10 classifiers that seem promising and check the accuracy scores for each one.  Any classifier with a promising accuracy score could then be followed up with detailed hyperparameter tuning, or potentially with considering other classifiers in that same type."
   ]
  },
  {
   "cell_type": "code",
   "execution_count": null,
   "id": "a6318760",
   "metadata": {},
   "outputs": [],
   "source": [
    "%%time\n",
    "#which classifiers are we interestd in\n",
    "#roughly one from each type of classifier\n",
    "\n",
    "names = [\"Arsenal\",                     #kernel based\n",
    "        \"RocektClassifier\",             #kernel based\n",
    "        \"CanonicalIntervalForest\",      #interval based\n",
    "        \"HIVECOTEV2\",                   #hybrid\n",
    "#        \"CNNClassifier\",               #Deep Learning  - **requires tensorflow which is giving import errors\n",
    "#        \"WeightedEnsembleClassifier\",   #Ensemble - **maybe use in the future if we find good options\n",
    "        \"IndividualTDE\",               #Dictionary-based\n",
    "        \"KNeighborsTimeSeriesClassifier\", #Distance Based\n",
    "        \"RandomIntervalClassifier\",     #Feature based\n",
    "        \"Catch22Classifier\",            #Feature based\n",
    "        \"ShapeletTransformClassifier\"   #Shapelet based\n",
    "        \"DummyClassifier\"]             #Dummy - ignores input\n",
    "\n",
    "#for those with an impossible time limit, how long to let them run for before cutting off\n",
    "nmins = 10\n",
    "\n",
    "#these could certainly be more tailored\n",
    "classifier_call = [Arsenal(time_limit_in_minutes=nmins, n_jobs = -1), \n",
    "                  RocketClassifier(num_kernels=2000),\n",
    "                  CanonicalIntervalForest(n_jobs = -1),\n",
    "                  HIVECOTEV2(time_limit_in_minutes=nmins, n_jobs = -1),\n",
    "#                  CNNClassifier(),\n",
    "#                  WeightedEnsembleClassifier(),\n",
    "                  IndividualTDE(n_jobs=-1),\n",
    "                  KNeighborsTimeSeriesClassifier(n_jobs = -1),\n",
    "                  RandomIntervalClassifier(n_intervals = 20, n_jobs = -1, random_state = 43),\n",
    "                  Catch22Classifier(outlier_norm = True, n_jobs = -1, random_state = 43),\n",
    "                  ShapeletTransformClassifier(time_limit_in_minutes=nmins,n_jobs = -1),\n",
    "                  DummyClassifier()]\n",
    "\n",
    "#setup to store the accuracy scores\n",
    "accscore_dict = {}\n",
    "\n",
    "# iterate over classifiers\n",
    "for name, clf in tqdm(zip(names, classifier_call)):\n",
    "    #fit the classifier\n",
    "    clf.fit(X_train, y_train)\n",
    "    \n",
    "    #make predictions on the test dataset\n",
    "    y_pred = clf.predict(X_test)\n",
    "\n",
    "    #calculate and track accuracy score\n",
    "    accscore = accuracy_score(y_test, y_pred)\n",
    "    print(f\"Accuracy of {name} classifier: {accscore}\\n\", flush=True)\n",
    "    accscore_dict[name] = accscore\n",
    "    \n",
    "    #plot confusion matrix\n",
    "    cm = confusion_matrix(y_test, y_pred, labels=clf.classes_)\n",
    "    disp = ConfusionMatrixDisplay(confusion_matrix=cm,display_labels=clf.classes_)\n",
    "    disp.plot()\n",
    "    plt.show()\n",
    "\n",
    "#just for keeping track, I also tried \n",
    "#clf = SignatureClassifier(depth = 2, window_depth = 3, random_state = 43)\n",
    "#this fails to complete, and is a known limitation of this algorithm.  "
   ]
  },
  {
   "cell_type": "code",
   "execution_count": null,
   "id": "8cc2b821",
   "metadata": {},
   "outputs": [],
   "source": [
    "#show the summary of the algorithms used and their accuracy score\n",
    "accscore_dict"
   ]
  },
  {
   "cell_type": "markdown",
   "id": "8396c6d8",
   "metadata": {},
   "source": [
    "## 5.0 Conclusions:  \n",
    "This classifier can be used to predict CLAGN.  The feature based algorithms do the best jobs of having little to no predicted CLAGN that are truly normal SDSS quasars.  We infer then that if the trained model predicts CLAGN, it is a very good target for follow-up spectroscopy to confirm CLAGN.  However this algorthim will not catch all CLAGN, and will incorrectly labels some CLAGN as being normal SDSS quasars.  THis algorithm can therefore not be used to find a complete sample of CLAGN, but can be used to increase the known sample."
   ]
  },
  {
   "cell_type": "markdown",
   "id": "af357505",
   "metadata": {},
   "source": [
    "### 5.1 Potential Areas of improvement\n",
    "- Data is messy\n",
    "    - ZTF calibration??\n",
    "- Label inaccuracy is a concern\n",
    "    - mostly SDSS, \n",
    "    - but CLAGN papers all have different selection criteria\n",
    "- Not enough data on CLAGN\n",
    "    - limited number of lightcurves\n",
    "    - consider data augmentation"
   ]
  },
  {
   "cell_type": "code",
   "execution_count": null,
   "id": "e1131a46",
   "metadata": {},
   "outputs": [],
   "source": []
  }
 ],
 "metadata": {
  "jupytext": {
   "text_representation": {
    "extension": ".md",
    "format_name": "myst",
    "format_version": 0.13,
    "jupytext_version": "1.15.2"
   }
  },
  "kernelspec": {
   "display_name": "Python 3 (ipykernel)",
   "language": "python",
   "name": "python3"
  },
  "source_map": [
   12,
   61,
   66,
   98,
   102,
   115,
   120,
   123,
   129,
   134,
   139,
   144,
   156,
   167,
   184,
   218,
   225,
   234,
   252,
   277,
   285,
   300,
   307,
   321,
   361,
   372,
   377,
   443,
   449,
   453,
   472,
   477,
   491,
   496,
   502,
   509,
   523,
   527,
   532,
   536,
   538,
   543,
   549,
   564,
   570,
   574,
   586,
   594,
   605,
   609,
   617,
   628,
   633,
   638,
   659,
   665,
   727,
   730,
   735,
   747
  ]
 },
 "nbformat": 4,
 "nbformat_minor": 5
}