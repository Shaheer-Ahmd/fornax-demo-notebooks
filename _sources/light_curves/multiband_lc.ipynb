{
 "cells": [
  {
   "cell_type": "markdown",
   "id": "4560521a",
   "metadata": {},
   "source": [
    "# Make multiwavelength light curves using archival data\n",
    "***\n",
    "\n",
    "## Learning Goals    \n",
    "By the end of this tutorial, you will be able to:\n",
    " - automatically load a catalog of sources\n",
    " - automatically search NASA and non-NASA resources for light curves\n",
    " - store light curves in a Pandas multiindex dataframe\n",
    " - plot all light curves on the same plot\n",
    " \n",
    " \n",
    "## Introduction:\n",
    " - A user has a sample of interesting targets for which they would like to see a plot of available archival light curves.  We start with a small set of changing look AGN from Yang et al., 2018, which are automatically downloaded. Changing look AGN are cases where the broad emission lines appear or disappear (and not just that the flux is variable). \n",
    " - We model light curve plots after van Velzen et al. 2021.  We search through a curated list of time-domain NASA holdings as well as non-NASA sources.  HEASARC catalogs used are Fermi and Beppo-Sax, IRSA catalogs used are ZTF and WISE, and MAST catalogs used are Pan-Starrs, TESS, Kepler, and K2.  Non-NASA sources are Gaia and IceCube. This list is generalized enough to include many types of targets to make this notebook interesting for many types of science.  All of these time-domain archives are searched in an automated fashion using astroquery or APIs.\n",
    " - Light curve data storage is a tricky problem.  Currently we are using a multi-index Pandas dataframe, as the best existing choice for right now.  One downside is that we need to manually track the units of flux and time instead of relying on an astropy storage scheme which would be able to do some of the units worrying for us (even astropy can't do all magnitude to flux conversions).  Astropy does not currently have a good option for multi-band light curve storage.\n",
    " - We intend to explore a ML classifier for these changing look AGN light curves.\n",
    " \n",
    "## Input:\n",
    " - choose from a list of known changing look AGN from the literature\n",
    " \n",
    "  OR - \n",
    " - input your own sample\n",
    "\n",
    "## Output:\n",
    " - an archival optical + IR + neutrino light curve\n",
    " \n",
    "## Non-standard Imports:\n",
    "- `acstools` to work with HST magnitude to flux conversion\n",
    "- `astropy` to work with coordinates/units and data structures\n",
    "- `astroquery` to interface with archives APIs\n",
    "- `hpgeom` to locate coordinates in HEALPix space\n",
    "- `lightkurve` to search TESSS, Kepler, and K2 archives\n",
    "- `pyarrow` to work with Parquet files for WISE and ZTF\n",
    "- `s3fs` to connect to AWS S3 buckets\n",
    "- `urllib` to handle archive searches with website interface\n",
    "\n",
    "## Authors:\n",
    "Jessica Krick, Shoubaneh Hemmati, Andreas Faisst, Troy Raen, Brigitta Sipőcz, Dave Shupe\n",
    "\n",
    "## Acknowledgements:\n",
    "Suvi Gezari, Antara Basu-zych,Stephanie LaMassa\\\n",
    "MAST, HEASARC, & IRSA Fornax teams"
   ]
  },
  {
   "cell_type": "code",
   "execution_count": 1,
   "id": "7093c8a1",
   "metadata": {},
   "outputs": [
    {
     "name": "stdout",
     "output_type": "stream",
     "text": [
      "Collecting git+https://github.com/sevamoo/SOMPY (from -r requirements.txt (line 17))\r\n",
      "  Cloning https://github.com/sevamoo/SOMPY to /private/var/folders/9s/070g0pd502q70k3gffpxv8km0000gq/T/pip-req-build-v9tvs56t\r\n",
      "  Running command git clone --filter=blob:none --quiet https://github.com/sevamoo/SOMPY /private/var/folders/9s/070g0pd502q70k3gffpxv8km0000gq/T/pip-req-build-v9tvs56t\r\n"
     ]
    },
    {
     "name": "stdout",
     "output_type": "stream",
     "text": [
      "  Resolved https://github.com/sevamoo/SOMPY to commit 6aca604b06e5eea1391ecf507810c7aabafc3f8b\r\n"
     ]
    },
    {
     "name": "stdout",
     "output_type": "stream",
     "text": [
      "  Preparing metadata (setup.py) ... \u001b[?25l-"
     ]
    },
    {
     "name": "stdout",
     "output_type": "stream",
     "text": [
      "\b \bdone\r\n",
      "\u001b[?25hRequirement already satisfied: acstools in /Users/bsipocz/.pyenv/versions/3.11.0/lib/python3.11/site-packages (from -r requirements.txt (line 4)) (3.6.1)\r\n",
      "Requirement already satisfied: astropy in /Users/bsipocz/.pyenv/versions/3.11.0/lib/python3.11/site-packages (from -r requirements.txt (line 5)) (6.0.dev560+gf2a40ddd0)\r\n",
      "Requirement already satisfied: astroquery in /Users/bsipocz/.pyenv/versions/3.11.0/lib/python3.11/site-packages (from -r requirements.txt (line 6)) (0.4.7.dev8947)\r\n",
      "Requirement already satisfied: hpgeom in /Users/bsipocz/.pyenv/versions/3.11.0/lib/python3.11/site-packages (from -r requirements.txt (line 7)) (1.0.0)\r\n",
      "Requirement already satisfied: lightkurve in /Users/bsipocz/.pyenv/versions/3.11.0/lib/python3.11/site-packages (from -r requirements.txt (line 8)) (2.4.2)\r\n",
      "Requirement already satisfied: matplotlib in /Users/bsipocz/.pyenv/versions/3.11.0/lib/python3.11/site-packages (from -r requirements.txt (line 9)) (3.7.1)\r\n",
      "Requirement already satisfied: numpy in /Users/bsipocz/.pyenv/versions/3.11.0/lib/python3.11/site-packages (from -r requirements.txt (line 10)) (1.25.0)\r\n",
      "Requirement already satisfied: pandas in /Users/bsipocz/.pyenv/versions/3.11.0/lib/python3.11/site-packages (from -r requirements.txt (line 11)) (2.1.1)\r\n",
      "Requirement already satisfied: pyvo in /Users/bsipocz/.pyenv/versions/3.11.0/lib/python3.11/site-packages (from -r requirements.txt (line 12)) (1.5.dev192+g75bcb73)\r\n",
      "Requirement already satisfied: s3fs in /Users/bsipocz/.pyenv/versions/3.11.0/lib/python3.11/site-packages (from -r requirements.txt (line 13)) (2022.11.0)\r\n",
      "Requirement already satisfied: tqdm in /Users/bsipocz/.pyenv/versions/3.11.0/lib/python3.11/site-packages (from -r requirements.txt (line 14)) (4.66.1)\r\n",
      "Requirement already satisfied: alerce in /Users/bsipocz/.pyenv/versions/3.11.0/lib/python3.11/site-packages (from -r requirements.txt (line 15)) (1.2.0)\r\n",
      "Requirement already satisfied: umap-learn[plot] in /Users/bsipocz/.pyenv/versions/3.11.0/lib/python3.11/site-packages (from -r requirements.txt (line 16)) (0.5.5)\r\n",
      "Requirement already satisfied: requests in /Users/bsipocz/.pyenv/versions/3.11.0/lib/python3.11/site-packages (from acstools->-r requirements.txt (line 4)) (2.28.1)\r\n",
      "Requirement already satisfied: PyYAML in /Users/bsipocz/.pyenv/versions/3.11.0/lib/python3.11/site-packages (from acstools->-r requirements.txt (line 4)) (6.0)\r\n",
      "Requirement already satisfied: pyerfa>=2.0 in /Users/bsipocz/.pyenv/versions/3.11.0/lib/python3.11/site-packages (from astropy->-r requirements.txt (line 5)) (2.0.0.1)\r\n"
     ]
    },
    {
     "name": "stdout",
     "output_type": "stream",
     "text": [
      "Requirement already satisfied: astropy-iers-data>=0.2023.7.31.0.32.45 in /Users/bsipocz/.pyenv/versions/3.11.0/lib/python3.11/site-packages (from astropy->-r requirements.txt (line 5)) (0.2023.9.18.0.29.41)\r\n",
      "Requirement already satisfied: packaging>=19.0 in /Users/bsipocz/.pyenv/versions/3.11.0/lib/python3.11/site-packages (from astropy->-r requirements.txt (line 5)) (23.1)\r\n",
      "Requirement already satisfied: beautifulsoup4>=4.8 in /Users/bsipocz/.pyenv/versions/3.11.0/lib/python3.11/site-packages (from astroquery->-r requirements.txt (line 6)) (4.11.1)\r\n",
      "Requirement already satisfied: html5lib>=0.999 in /Users/bsipocz/.pyenv/versions/3.11.0/lib/python3.11/site-packages (from astroquery->-r requirements.txt (line 6)) (1.1)\r\n",
      "Requirement already satisfied: keyring>=15.0 in /Users/bsipocz/.pyenv/versions/3.11.0/lib/python3.11/site-packages (from astroquery->-r requirements.txt (line 6)) (23.11.0)\r\n",
      "Requirement already satisfied: bokeh>=2.0.0 in /Users/bsipocz/.pyenv/versions/3.11.0/lib/python3.11/site-packages (from lightkurve->-r requirements.txt (line 8)) (3.3.1)\r\n",
      "Requirement already satisfied: fbpca>=1.0 in /Users/bsipocz/.pyenv/versions/3.11.0/lib/python3.11/site-packages (from lightkurve->-r requirements.txt (line 8)) (1.0)\r\n",
      "Requirement already satisfied: memoization>=0.3.1 in /Users/bsipocz/.pyenv/versions/3.11.0/lib/python3.11/site-packages (from lightkurve->-r requirements.txt (line 8)) (0.4.0)\r\n",
      "Requirement already satisfied: oktopus>=0.1.2 in /Users/bsipocz/.pyenv/versions/3.11.0/lib/python3.11/site-packages (from lightkurve->-r requirements.txt (line 8)) (0.1.2)\r\n",
      "Requirement already satisfied: patsy>=0.5.0 in /Users/bsipocz/.pyenv/versions/3.11.0/lib/python3.11/site-packages (from lightkurve->-r requirements.txt (line 8)) (0.5.4)\r\n",
      "Requirement already satisfied: scikit-learn>=0.24.0 in /Users/bsipocz/.pyenv/versions/3.11.0/lib/python3.11/site-packages (from lightkurve->-r requirements.txt (line 8)) (1.2.2)\r\n",
      "Requirement already satisfied: uncertainties>=3.1.4 in /Users/bsipocz/.pyenv/versions/3.11.0/lib/python3.11/site-packages (from lightkurve->-r requirements.txt (line 8)) (3.1.7)\r\n",
      "Requirement already satisfied: urllib3>=1.23 in /Users/bsipocz/.pyenv/versions/3.11.0/lib/python3.11/site-packages (from lightkurve->-r requirements.txt (line 8)) (1.26.13)\r\n",
      "Requirement already satisfied: contourpy>=1.0.1 in /Users/bsipocz/.pyenv/versions/3.11.0/lib/python3.11/site-packages (from matplotlib->-r requirements.txt (line 9)) (1.0.6)\r\n",
      "Requirement already satisfied: cycler>=0.10 in /Users/bsipocz/.pyenv/versions/3.11.0/lib/python3.11/site-packages (from matplotlib->-r requirements.txt (line 9)) (0.11.0)\r\n",
      "Requirement already satisfied: fonttools>=4.22.0 in /Users/bsipocz/.pyenv/versions/3.11.0/lib/python3.11/site-packages (from matplotlib->-r requirements.txt (line 9)) (4.38.0)\r\n",
      "Requirement already satisfied: kiwisolver>=1.0.1 in /Users/bsipocz/.pyenv/versions/3.11.0/lib/python3.11/site-packages (from matplotlib->-r requirements.txt (line 9)) (1.4.4)\r\n",
      "Requirement already satisfied: pillow>=6.2.0 in /Users/bsipocz/.pyenv/versions/3.11.0/lib/python3.11/site-packages (from matplotlib->-r requirements.txt (line 9)) (9.3.0)\r\n",
      "Requirement already satisfied: pyparsing>=2.3.1 in /Users/bsipocz/.pyenv/versions/3.11.0/lib/python3.11/site-packages (from matplotlib->-r requirements.txt (line 9)) (3.0.9)\r\n",
      "Requirement already satisfied: python-dateutil>=2.7 in /Users/bsipocz/.pyenv/versions/3.11.0/lib/python3.11/site-packages (from matplotlib->-r requirements.txt (line 9)) (2.8.2)\r\n"
     ]
    },
    {
     "name": "stdout",
     "output_type": "stream",
     "text": [
      "Requirement already satisfied: pytz>=2020.1 in /Users/bsipocz/.pyenv/versions/3.11.0/lib/python3.11/site-packages (from pandas->-r requirements.txt (line 11)) (2022.6)\r\n",
      "Requirement already satisfied: tzdata>=2022.1 in /Users/bsipocz/.pyenv/versions/3.11.0/lib/python3.11/site-packages (from pandas->-r requirements.txt (line 11)) (2023.3)\r\n",
      "Requirement already satisfied: aiobotocore~=2.4.0 in /Users/bsipocz/.pyenv/versions/3.11.0/lib/python3.11/site-packages (from s3fs->-r requirements.txt (line 13)) (2.4.1)\r\n",
      "Requirement already satisfied: fsspec==2022.11.0 in /Users/bsipocz/.pyenv/versions/3.11.0/lib/python3.11/site-packages (from s3fs->-r requirements.txt (line 13)) (2022.11.0)\r\n",
      "Requirement already satisfied: aiohttp!=4.0.0a0,!=4.0.0a1 in /Users/bsipocz/.pyenv/versions/3.11.0/lib/python3.11/site-packages (from s3fs->-r requirements.txt (line 13)) (3.8.3)\r\n"
     ]
    },
    {
     "name": "stdout",
     "output_type": "stream",
     "text": [
      "Requirement already satisfied: scipy>=1.3.1 in /Users/bsipocz/.pyenv/versions/3.11.0/lib/python3.11/site-packages (from umap-learn[plot]->-r requirements.txt (line 16)) (1.12.0.dev0)\r\n",
      "Requirement already satisfied: numba>=0.51.2 in /Users/bsipocz/.pyenv/versions/3.11.0/lib/python3.11/site-packages (from umap-learn[plot]->-r requirements.txt (line 16)) (0.58.1)\r\n",
      "Requirement already satisfied: pynndescent>=0.5 in /Users/bsipocz/.pyenv/versions/3.11.0/lib/python3.11/site-packages (from umap-learn[plot]->-r requirements.txt (line 16)) (0.5.11)\r\n",
      "Requirement already satisfied: datashader in /Users/bsipocz/.pyenv/versions/3.11.0/lib/python3.11/site-packages (from umap-learn[plot]->-r requirements.txt (line 16)) (0.16.0)\r\n",
      "Requirement already satisfied: holoviews in /Users/bsipocz/.pyenv/versions/3.11.0/lib/python3.11/site-packages (from umap-learn[plot]->-r requirements.txt (line 16)) (1.18.1)\r\n",
      "Requirement already satisfied: colorcet in /Users/bsipocz/.pyenv/versions/3.11.0/lib/python3.11/site-packages (from umap-learn[plot]->-r requirements.txt (line 16)) (3.0.1)\r\n",
      "Requirement already satisfied: seaborn in /Users/bsipocz/.pyenv/versions/3.11.0/lib/python3.11/site-packages (from umap-learn[plot]->-r requirements.txt (line 16)) (0.13.0)\r\n",
      "Requirement already satisfied: scikit-image in /Users/bsipocz/.pyenv/versions/3.11.0/lib/python3.11/site-packages (from umap-learn[plot]->-r requirements.txt (line 16)) (0.22.0)\r\n"
     ]
    },
    {
     "name": "stdout",
     "output_type": "stream",
     "text": [
      "Requirement already satisfied: numexpr>=2.5 in /Users/bsipocz/.pyenv/versions/3.11.0/lib/python3.11/site-packages (from SOMPY==1.1.1->-r requirements.txt (line 17)) (2.8.7)\r\n",
      "Requirement already satisfied: botocore<1.27.60,>=1.27.59 in /Users/bsipocz/.pyenv/versions/3.11.0/lib/python3.11/site-packages (from aiobotocore~=2.4.0->s3fs->-r requirements.txt (line 13)) (1.27.59)\r\n",
      "Requirement already satisfied: wrapt>=1.10.10 in /Users/bsipocz/.pyenv/versions/3.11.0/lib/python3.11/site-packages (from aiobotocore~=2.4.0->s3fs->-r requirements.txt (line 13)) (1.14.1)\r\n",
      "Requirement already satisfied: aioitertools>=0.5.1 in /Users/bsipocz/.pyenv/versions/3.11.0/lib/python3.11/site-packages (from aiobotocore~=2.4.0->s3fs->-r requirements.txt (line 13)) (0.11.0)\r\n",
      "Requirement already satisfied: attrs>=17.3.0 in /Users/bsipocz/.pyenv/versions/3.11.0/lib/python3.11/site-packages (from aiohttp!=4.0.0a0,!=4.0.0a1->s3fs->-r requirements.txt (line 13)) (21.4.0)\r\n",
      "Requirement already satisfied: charset-normalizer<3.0,>=2.0 in /Users/bsipocz/.pyenv/versions/3.11.0/lib/python3.11/site-packages (from aiohttp!=4.0.0a0,!=4.0.0a1->s3fs->-r requirements.txt (line 13)) (2.1.1)\r\n",
      "Requirement already satisfied: multidict<7.0,>=4.5 in /Users/bsipocz/.pyenv/versions/3.11.0/lib/python3.11/site-packages (from aiohttp!=4.0.0a0,!=4.0.0a1->s3fs->-r requirements.txt (line 13)) (6.0.3)\r\n",
      "Requirement already satisfied: async-timeout<5.0,>=4.0.0a3 in /Users/bsipocz/.pyenv/versions/3.11.0/lib/python3.11/site-packages (from aiohttp!=4.0.0a0,!=4.0.0a1->s3fs->-r requirements.txt (line 13)) (4.0.2)\r\n",
      "Requirement already satisfied: yarl<2.0,>=1.0 in /Users/bsipocz/.pyenv/versions/3.11.0/lib/python3.11/site-packages (from aiohttp!=4.0.0a0,!=4.0.0a1->s3fs->-r requirements.txt (line 13)) (1.8.2)\r\n",
      "Requirement already satisfied: frozenlist>=1.1.1 in /Users/bsipocz/.pyenv/versions/3.11.0/lib/python3.11/site-packages (from aiohttp!=4.0.0a0,!=4.0.0a1->s3fs->-r requirements.txt (line 13)) (1.3.3)\r\n",
      "Requirement already satisfied: aiosignal>=1.1.2 in /Users/bsipocz/.pyenv/versions/3.11.0/lib/python3.11/site-packages (from aiohttp!=4.0.0a0,!=4.0.0a1->s3fs->-r requirements.txt (line 13)) (1.3.1)\r\n"
     ]
    },
    {
     "name": "stdout",
     "output_type": "stream",
     "text": [
      "Requirement already satisfied: soupsieve>1.2 in /Users/bsipocz/.pyenv/versions/3.11.0/lib/python3.11/site-packages (from beautifulsoup4>=4.8->astroquery->-r requirements.txt (line 6)) (2.3.2.post1)\r\n",
      "Requirement already satisfied: Jinja2>=2.9 in /Users/bsipocz/.pyenv/versions/3.11.0/lib/python3.11/site-packages (from bokeh>=2.0.0->lightkurve->-r requirements.txt (line 8)) (3.1.2)\r\n",
      "Requirement already satisfied: tornado>=5.1 in /Users/bsipocz/.pyenv/versions/3.11.0/lib/python3.11/site-packages (from bokeh>=2.0.0->lightkurve->-r requirements.txt (line 8)) (6.2)\r\n",
      "Requirement already satisfied: xyzservices>=2021.09.1 in /Users/bsipocz/.pyenv/versions/3.11.0/lib/python3.11/site-packages (from bokeh>=2.0.0->lightkurve->-r requirements.txt (line 8)) (2023.10.1)\r\n"
     ]
    },
    {
     "name": "stdout",
     "output_type": "stream",
     "text": [
      "Requirement already satisfied: six>=1.9 in /Users/bsipocz/.pyenv/versions/3.11.0/lib/python3.11/site-packages (from html5lib>=0.999->astroquery->-r requirements.txt (line 6)) (1.16.0)\r\n",
      "Requirement already satisfied: webencodings in /Users/bsipocz/.pyenv/versions/3.11.0/lib/python3.11/site-packages (from html5lib>=0.999->astroquery->-r requirements.txt (line 6)) (0.5.1)\r\n"
     ]
    },
    {
     "name": "stdout",
     "output_type": "stream",
     "text": [
      "Requirement already satisfied: jaraco.classes in /Users/bsipocz/.pyenv/versions/3.11.0/lib/python3.11/site-packages (from keyring>=15.0->astroquery->-r requirements.txt (line 6)) (3.2.3)\r\n",
      "Requirement already satisfied: importlib-metadata>=4.11.4 in /Users/bsipocz/.pyenv/versions/3.11.0/lib/python3.11/site-packages (from keyring>=15.0->astroquery->-r requirements.txt (line 6)) (5.1.0)\r\n",
      "Requirement already satisfied: llvmlite<0.42,>=0.41.0dev0 in /Users/bsipocz/.pyenv/versions/3.11.0/lib/python3.11/site-packages (from numba>=0.51.2->umap-learn[plot]->-r requirements.txt (line 16)) (0.41.1)\r\n"
     ]
    },
    {
     "name": "stdout",
     "output_type": "stream",
     "text": [
      "Requirement already satisfied: autograd in /Users/bsipocz/.pyenv/versions/3.11.0/lib/python3.11/site-packages (from oktopus>=0.1.2->lightkurve->-r requirements.txt (line 8)) (1.6.2)\r\n"
     ]
    },
    {
     "name": "stdout",
     "output_type": "stream",
     "text": [
      "Requirement already satisfied: joblib>=0.11 in /Users/bsipocz/.pyenv/versions/3.11.0/lib/python3.11/site-packages (from pynndescent>=0.5->umap-learn[plot]->-r requirements.txt (line 16)) (1.2.0)\r\n"
     ]
    },
    {
     "name": "stdout",
     "output_type": "stream",
     "text": [
      "Requirement already satisfied: idna<4,>=2.5 in /Users/bsipocz/.pyenv/versions/3.11.0/lib/python3.11/site-packages (from requests->acstools->-r requirements.txt (line 4)) (3.4)\r\n",
      "Requirement already satisfied: certifi>=2017.4.17 in /Users/bsipocz/.pyenv/versions/3.11.0/lib/python3.11/site-packages (from requests->acstools->-r requirements.txt (line 4)) (2022.9.24)\r\n"
     ]
    },
    {
     "name": "stdout",
     "output_type": "stream",
     "text": [
      "Requirement already satisfied: threadpoolctl>=2.0.0 in /Users/bsipocz/.pyenv/versions/3.11.0/lib/python3.11/site-packages (from scikit-learn>=0.24.0->lightkurve->-r requirements.txt (line 8)) (3.1.0)\r\n"
     ]
    },
    {
     "name": "stdout",
     "output_type": "stream",
     "text": [
      "Requirement already satisfied: future in /Users/bsipocz/.pyenv/versions/3.11.0/lib/python3.11/site-packages (from uncertainties>=3.1.4->lightkurve->-r requirements.txt (line 8)) (0.18.3)\r\n"
     ]
    },
    {
     "name": "stdout",
     "output_type": "stream",
     "text": [
      "Requirement already satisfied: pyct>=0.4.4 in /Users/bsipocz/.pyenv/versions/3.11.0/lib/python3.11/site-packages (from colorcet->umap-learn[plot]->-r requirements.txt (line 16)) (0.5.0)\r\n"
     ]
    },
    {
     "name": "stdout",
     "output_type": "stream",
     "text": [
      "Requirement already satisfied: dask in /Users/bsipocz/.pyenv/versions/3.11.0/lib/python3.11/site-packages (from datashader->umap-learn[plot]->-r requirements.txt (line 16)) (2023.11.0)\r\n",
      "Requirement already satisfied: multipledispatch in /Users/bsipocz/.pyenv/versions/3.11.0/lib/python3.11/site-packages (from datashader->umap-learn[plot]->-r requirements.txt (line 16)) (1.0.0)\r\n",
      "Requirement already satisfied: param in /Users/bsipocz/.pyenv/versions/3.11.0/lib/python3.11/site-packages (from datashader->umap-learn[plot]->-r requirements.txt (line 16)) (2.0.1)\r\n",
      "Requirement already satisfied: toolz in /Users/bsipocz/.pyenv/versions/3.11.0/lib/python3.11/site-packages (from datashader->umap-learn[plot]->-r requirements.txt (line 16)) (0.12.0)\r\n",
      "Requirement already satisfied: xarray in /Users/bsipocz/.pyenv/versions/3.11.0/lib/python3.11/site-packages (from datashader->umap-learn[plot]->-r requirements.txt (line 16)) (2023.11.0)\r\n"
     ]
    },
    {
     "name": "stdout",
     "output_type": "stream",
     "text": [
      "Requirement already satisfied: pyviz-comms>=0.7.4 in /Users/bsipocz/.pyenv/versions/3.11.0/lib/python3.11/site-packages (from holoviews->umap-learn[plot]->-r requirements.txt (line 16)) (3.0.0)\r\n",
      "Requirement already satisfied: panel>=1.0 in /Users/bsipocz/.pyenv/versions/3.11.0/lib/python3.11/site-packages (from holoviews->umap-learn[plot]->-r requirements.txt (line 16)) (1.3.4)\r\n"
     ]
    },
    {
     "name": "stdout",
     "output_type": "stream",
     "text": [
      "Requirement already satisfied: networkx>=2.8 in /Users/bsipocz/.pyenv/versions/3.11.0/lib/python3.11/site-packages (from scikit-image->umap-learn[plot]->-r requirements.txt (line 16)) (2.8.8)\r\n",
      "Requirement already satisfied: imageio>=2.27 in /Users/bsipocz/.pyenv/versions/3.11.0/lib/python3.11/site-packages (from scikit-image->umap-learn[plot]->-r requirements.txt (line 16)) (2.33.0)\r\n",
      "Requirement already satisfied: tifffile>=2022.8.12 in /Users/bsipocz/.pyenv/versions/3.11.0/lib/python3.11/site-packages (from scikit-image->umap-learn[plot]->-r requirements.txt (line 16)) (2023.9.26)\r\n",
      "Requirement already satisfied: lazy_loader>=0.3 in /Users/bsipocz/.pyenv/versions/3.11.0/lib/python3.11/site-packages (from scikit-image->umap-learn[plot]->-r requirements.txt (line 16)) (0.3)\r\n"
     ]
    },
    {
     "name": "stdout",
     "output_type": "stream",
     "text": [
      "Requirement already satisfied: jmespath<2.0.0,>=0.7.1 in /Users/bsipocz/.pyenv/versions/3.11.0/lib/python3.11/site-packages (from botocore<1.27.60,>=1.27.59->aiobotocore~=2.4.0->s3fs->-r requirements.txt (line 13)) (1.0.1)\r\n"
     ]
    },
    {
     "name": "stdout",
     "output_type": "stream",
     "text": [
      "Requirement already satisfied: zipp>=0.5 in /Users/bsipocz/.pyenv/versions/3.11.0/lib/python3.11/site-packages (from importlib-metadata>=4.11.4->keyring>=15.0->astroquery->-r requirements.txt (line 6)) (3.11.0)\r\n"
     ]
    },
    {
     "name": "stdout",
     "output_type": "stream",
     "text": [
      "Requirement already satisfied: MarkupSafe>=2.0 in /Users/bsipocz/.pyenv/versions/3.11.0/lib/python3.11/site-packages (from Jinja2>=2.9->bokeh>=2.0.0->lightkurve->-r requirements.txt (line 8)) (2.1.1)\r\n"
     ]
    },
    {
     "name": "stdout",
     "output_type": "stream",
     "text": [
      "Requirement already satisfied: markdown in /Users/bsipocz/.pyenv/versions/3.11.0/lib/python3.11/site-packages (from panel>=1.0->holoviews->umap-learn[plot]->-r requirements.txt (line 16)) (3.5.1)\r\n",
      "Requirement already satisfied: markdown-it-py in /Users/bsipocz/.pyenv/versions/3.11.0/lib/python3.11/site-packages (from panel>=1.0->holoviews->umap-learn[plot]->-r requirements.txt (line 16)) (2.2.0)\r\n",
      "Requirement already satisfied: linkify-it-py in /Users/bsipocz/.pyenv/versions/3.11.0/lib/python3.11/site-packages (from panel>=1.0->holoviews->umap-learn[plot]->-r requirements.txt (line 16)) (1.0.3)\r\n",
      "Requirement already satisfied: mdit-py-plugins in /Users/bsipocz/.pyenv/versions/3.11.0/lib/python3.11/site-packages (from panel>=1.0->holoviews->umap-learn[plot]->-r requirements.txt (line 16)) (0.3.3)\r\n",
      "Requirement already satisfied: bleach in /Users/bsipocz/.pyenv/versions/3.11.0/lib/python3.11/site-packages (from panel>=1.0->holoviews->umap-learn[plot]->-r requirements.txt (line 16)) (5.0.1)\r\n",
      "Requirement already satisfied: typing-extensions in /Users/bsipocz/.pyenv/versions/3.11.0/lib/python3.11/site-packages (from panel>=1.0->holoviews->umap-learn[plot]->-r requirements.txt (line 16)) (4.4.0)\r\n"
     ]
    },
    {
     "name": "stdout",
     "output_type": "stream",
     "text": [
      "Requirement already satisfied: click>=8.1 in /Users/bsipocz/.pyenv/versions/3.11.0/lib/python3.11/site-packages (from dask->datashader->umap-learn[plot]->-r requirements.txt (line 16)) (8.1.3)\r\n"
     ]
    },
    {
     "name": "stdout",
     "output_type": "stream",
     "text": [
      "Requirement already satisfied: cloudpickle>=1.5.0 in /Users/bsipocz/.pyenv/versions/3.11.0/lib/python3.11/site-packages (from dask->datashader->umap-learn[plot]->-r requirements.txt (line 16)) (2.2.1)\r\n",
      "Requirement already satisfied: partd>=1.2.0 in /Users/bsipocz/.pyenv/versions/3.11.0/lib/python3.11/site-packages (from dask->datashader->umap-learn[plot]->-r requirements.txt (line 16)) (1.4.1)\r\n"
     ]
    },
    {
     "name": "stdout",
     "output_type": "stream",
     "text": [
      "Requirement already satisfied: more-itertools in /Users/bsipocz/.pyenv/versions/3.11.0/lib/python3.11/site-packages (from jaraco.classes->keyring>=15.0->astroquery->-r requirements.txt (line 6)) (9.0.0)\r\n"
     ]
    },
    {
     "name": "stdout",
     "output_type": "stream",
     "text": [
      "Requirement already satisfied: locket in /Users/bsipocz/.pyenv/versions/3.11.0/lib/python3.11/site-packages (from partd>=1.2.0->dask->datashader->umap-learn[plot]->-r requirements.txt (line 16)) (1.0.0)\r\n"
     ]
    },
    {
     "name": "stdout",
     "output_type": "stream",
     "text": [
      "Requirement already satisfied: uc-micro-py in /Users/bsipocz/.pyenv/versions/3.11.0/lib/python3.11/site-packages (from linkify-it-py->panel>=1.0->holoviews->umap-learn[plot]->-r requirements.txt (line 16)) (1.0.1)\r\n"
     ]
    },
    {
     "name": "stdout",
     "output_type": "stream",
     "text": [
      "Requirement already satisfied: mdurl~=0.1 in /Users/bsipocz/.pyenv/versions/3.11.0/lib/python3.11/site-packages (from markdown-it-py->panel>=1.0->holoviews->umap-learn[plot]->-r requirements.txt (line 16)) (0.1.2)\r\n"
     ]
    },
    {
     "name": "stdout",
     "output_type": "stream",
     "text": [
      "\r\n",
      "\u001b[1m[\u001b[0m\u001b[34;49mnotice\u001b[0m\u001b[1;39;49m]\u001b[0m\u001b[39;49m A new release of pip available: \u001b[0m\u001b[31;49m22.3\u001b[0m\u001b[39;49m -> \u001b[0m\u001b[32;49m23.3.1\u001b[0m\r\n",
      "\u001b[1m[\u001b[0m\u001b[34;49mnotice\u001b[0m\u001b[1;39;49m]\u001b[0m\u001b[39;49m To update, run: \u001b[0m\u001b[32;49mpip install --upgrade pip\u001b[0m\r\n"
     ]
    }
   ],
   "source": [
    "#ensure all dependencies are installed\n",
    "!pip install -r requirements.txt"
   ]
  },
  {
   "cell_type": "code",
   "execution_count": 2,
   "id": "a54772b0",
   "metadata": {},
   "outputs": [],
   "source": [
    "import multiprocessing as mp\n",
    "import sys\n",
    "import time\n",
    "import warnings\n",
    "\n",
    "import astropy.units as u\n",
    "import pandas as pd\n",
    "from astropy.table import Table\n",
    "\n",
    "warnings.filterwarnings('ignore')\n",
    "\n",
    "# local code imports\n",
    "sys.path.append('code_src/')\n",
    "from data_structures import MultiIndexDFObject\n",
    "from gaia_functions import Gaia_get_lightcurve\n",
    "from HCV_functions import HCV_get_lightcurves\n",
    "from heasarc_functions import HEASARC_get_lightcurves\n",
    "from icecube_functions import icecube_get_lightcurve\n",
    "from panstarrs import panstarrs_get_lightcurves\n",
    "from plot_functions import create_figures\n",
    "from sample_selection import (clean_sample, get_green_sample, get_hon_sample, get_lamassa_sample, get_lopeznavas_sample,\n",
    "    get_lyu_sample, get_macleod16_sample, get_macleod19_sample, get_ruan_sample, get_SDSS_sample, get_sheng_sample, get_yang_sample)\n",
    "from TESS_Kepler_functions import TESS_Kepler_get_lightcurves\n",
    "# Note: WISE and ZTF data are temporarily located in a non-public AWS S3 bucket. It is automatically\n",
    "# available from the Fornax SMCE, but will require user credentials for access outside the SMCE.\n",
    "from WISE_functions import WISE_get_lightcurves\n",
    "from ztf_functions import ZTF_get_lightcurve"
   ]
  },
  {
   "cell_type": "markdown",
   "id": "b829f511",
   "metadata": {},
   "source": [
    "## 1. Define the Sample\n",
    " We define here a \"gold\" sample of spectroscopically confirmed changing look AGN and quasars. This sample includes both objects which change from type 1 to type 2 and also the opposite.  Future studies may want to treat these as seperate objects or seperate QSOs from AGN.\n",
    " \n",
    " Bibcodes for the samples used are listed next to their functions for reference.  \n",
    " \n",
    " Functions used to grab the samples from the papers use Astroquery, NED, SIMBAD, Vizier, and in a few cases grab the tables from the html versions of the paper."
   ]
  },
  {
   "cell_type": "code",
   "execution_count": 3,
   "id": "757fd567",
   "metadata": {},
   "outputs": [
    {
     "name": "stdout",
     "output_type": "stream",
     "text": [
      "Changing Look AGN- Yang et al:  31\n",
      "after duplicates removal, sample size: 30\n"
     ]
    }
   ],
   "source": [
    "#build up the sample\n",
    "coords =[]\n",
    "labels = []\n",
    "\n",
    "#choose your own adventure:\n",
    "\n",
    "#get_lamassa_sample(coords, labels)  #2015ApJ...800..144L\n",
    "#get_macleod16_sample(coords, labels) #2016MNRAS.457..389M\n",
    "#get_ruan_sample(coords, labels) #2016ApJ...826..188R\n",
    "#get_macleod19_sample(coords, labels)  #2019ApJ...874....8M\n",
    "#get_sheng_sample(coords, labels)  #2020ApJ...889...46S\n",
    "#get_green_sample(coords, labels)  #2022ApJ...933..180G\n",
    "#get_lyu_sample(coords, labels)  #z32022ApJ...927..227L\n",
    "#get_lopeznavas_sample(coords, labels)  #2022MNRAS.513L..57L\n",
    "#get_hon_sample(coords, labels)  #2022MNRAS.511...54H\n",
    "get_yang_sample(coords, labels)   #2018ApJ...862..109Y\n",
    "\n",
    "#now get some \"normal\" QSOs for use in the classifier\n",
    "#there are ~500K of these, so choose the number based on\n",
    "#a balance between speed of running the light curves and whatever \n",
    "#the ML algorithms would like to have\n",
    "\n",
    "#num_normal_QSO = 50\n",
    "#get_SDSS_sample(coords, labels, num_normal_QSO)\n",
    "\n",
    "# remove duplicates and attach an objectid to the coords\n",
    "sample_table = clean_sample(coords, labels)\n"
   ]
  },
  {
   "cell_type": "markdown",
   "id": "f95ebf9e",
   "metadata": {},
   "source": [
    "### 1.1 Build your own Sample\n",
    "\n",
    "To build your own sample, you can follow the examples of functions above to grab coordinates from your favorite literature resource, \n",
    "\n",
    "or\n",
    "\n",
    "You can use [astropy's read](https://docs.astropy.org/en/stable/io/ascii/read.html) function to read in an input table\n",
    "and then convert that table into a list of [skycoords](https://docs.astropy.org/en/stable/api/astropy.coordinates.SkyCoord.html)"
   ]
  },
  {
   "cell_type": "markdown",
   "id": "662875cd",
   "metadata": {},
   "source": [
    "### 1.2 Write out your sample to disk\n",
    "\n",
    "At this point you may wish to write out your sample to disk and reuse that in future work sessions, instead of creating it from scratch again.\n",
    "\n",
    "We would suggest to choose from various formats that fully supports the astropy objects, such as SkyCoord, in the so-called Mixin columns. E.g  Enhanced Character-Separated Values or 'ecsv' is one such format: https://docs.astropy.org/en/stable/io/ascii/ecsv.html"
   ]
  },
  {
   "cell_type": "code",
   "execution_count": 4,
   "id": "1d3e1fc5",
   "metadata": {},
   "outputs": [
    {
     "ename": "OSError",
     "evalue": "File data/input_sample.ecsv already exists. If you mean to replace it then use the argument \"overwrite=True\".",
     "output_type": "error",
     "traceback": [
      "\u001b[0;31m---------------------------------------------------------------------------\u001b[0m",
      "\u001b[0;31mOSError\u001b[0m                                   Traceback (most recent call last)",
      "Cell \u001b[0;32mIn [4], line 1\u001b[0m\n\u001b[0;32m----> 1\u001b[0m \u001b[43msample_table\u001b[49m\u001b[38;5;241;43m.\u001b[39;49m\u001b[43mwrite\u001b[49m\u001b[43m(\u001b[49m\u001b[38;5;124;43m'\u001b[39;49m\u001b[38;5;124;43mdata/input_sample.ecsv\u001b[39;49m\u001b[38;5;124;43m'\u001b[39;49m\u001b[43m,\u001b[49m\u001b[43m \u001b[49m\u001b[38;5;28;43mformat\u001b[39;49m\u001b[38;5;241;43m=\u001b[39;49m\u001b[38;5;124;43m'\u001b[39;49m\u001b[38;5;124;43mascii.ecsv\u001b[39;49m\u001b[38;5;124;43m'\u001b[39;49m\u001b[43m)\u001b[49m\n",
      "File \u001b[0;32m~/.pyenv/versions/3.11.0/lib/python3.11/site-packages/astropy/table/connect.py:130\u001b[0m, in \u001b[0;36mTableWrite.__call__\u001b[0;34m(self, serialize_method, *args, **kwargs)\u001b[0m\n\u001b[1;32m    128\u001b[0m instance \u001b[38;5;241m=\u001b[39m \u001b[38;5;28mself\u001b[39m\u001b[38;5;241m.\u001b[39m_instance\n\u001b[1;32m    129\u001b[0m \u001b[38;5;28;01mwith\u001b[39;00m serialize_method_as(instance, serialize_method):\n\u001b[0;32m--> 130\u001b[0m     \u001b[38;5;28;43mself\u001b[39;49m\u001b[38;5;241;43m.\u001b[39;49m\u001b[43mregistry\u001b[49m\u001b[38;5;241;43m.\u001b[39;49m\u001b[43mwrite\u001b[49m\u001b[43m(\u001b[49m\u001b[43minstance\u001b[49m\u001b[43m,\u001b[49m\u001b[43m \u001b[49m\u001b[38;5;241;43m*\u001b[39;49m\u001b[43margs\u001b[49m\u001b[43m,\u001b[49m\u001b[43m \u001b[49m\u001b[38;5;241;43m*\u001b[39;49m\u001b[38;5;241;43m*\u001b[39;49m\u001b[43mkwargs\u001b[49m\u001b[43m)\u001b[49m\n",
      "File \u001b[0;32m~/.pyenv/versions/3.11.0/lib/python3.11/site-packages/astropy/io/registry/core.py:382\u001b[0m, in \u001b[0;36mUnifiedOutputRegistry.write\u001b[0;34m(self, data, format, *args, **kwargs)\u001b[0m\n\u001b[1;32m    377\u001b[0m     \u001b[38;5;28mformat\u001b[39m \u001b[38;5;241m=\u001b[39m \u001b[38;5;28mself\u001b[39m\u001b[38;5;241m.\u001b[39m_get_valid_format(\n\u001b[1;32m    378\u001b[0m         \u001b[38;5;124m\"\u001b[39m\u001b[38;5;124mwrite\u001b[39m\u001b[38;5;124m\"\u001b[39m, data\u001b[38;5;241m.\u001b[39m\u001b[38;5;18m__class__\u001b[39m, path, fileobj, args, kwargs\n\u001b[1;32m    379\u001b[0m     )\n\u001b[1;32m    381\u001b[0m writer \u001b[38;5;241m=\u001b[39m \u001b[38;5;28mself\u001b[39m\u001b[38;5;241m.\u001b[39mget_writer(\u001b[38;5;28mformat\u001b[39m, data\u001b[38;5;241m.\u001b[39m\u001b[38;5;18m__class__\u001b[39m)\n\u001b[0;32m--> 382\u001b[0m \u001b[38;5;28;01mreturn\u001b[39;00m \u001b[43mwriter\u001b[49m\u001b[43m(\u001b[49m\u001b[43mdata\u001b[49m\u001b[43m,\u001b[49m\u001b[43m \u001b[49m\u001b[38;5;241;43m*\u001b[39;49m\u001b[43margs\u001b[49m\u001b[43m,\u001b[49m\u001b[43m \u001b[49m\u001b[38;5;241;43m*\u001b[39;49m\u001b[38;5;241;43m*\u001b[39;49m\u001b[43mkwargs\u001b[49m\u001b[43m)\u001b[49m\n",
      "File \u001b[0;32m~/.pyenv/versions/3.11.0/lib/python3.11/site-packages/astropy/io/ascii/connect.py:28\u001b[0m, in \u001b[0;36mio_write\u001b[0;34m(format, table, filename, **kwargs)\u001b[0m\n\u001b[1;32m     26\u001b[0m     \u001b[38;5;28mformat\u001b[39m \u001b[38;5;241m=\u001b[39m re\u001b[38;5;241m.\u001b[39msub(\u001b[38;5;124mr\u001b[39m\u001b[38;5;124m\"\u001b[39m\u001b[38;5;124m^ascii\u001b[39m\u001b[38;5;124m\\\u001b[39m\u001b[38;5;124m.\u001b[39m\u001b[38;5;124m\"\u001b[39m, \u001b[38;5;124m\"\u001b[39m\u001b[38;5;124m\"\u001b[39m, \u001b[38;5;28mformat\u001b[39m)\n\u001b[1;32m     27\u001b[0m     kwargs[\u001b[38;5;124m\"\u001b[39m\u001b[38;5;124mformat\u001b[39m\u001b[38;5;124m\"\u001b[39m] \u001b[38;5;241m=\u001b[39m \u001b[38;5;28mformat\u001b[39m\n\u001b[0;32m---> 28\u001b[0m \u001b[38;5;28;01mreturn\u001b[39;00m \u001b[43mwrite\u001b[49m\u001b[43m(\u001b[49m\u001b[43mtable\u001b[49m\u001b[43m,\u001b[49m\u001b[43m \u001b[49m\u001b[43mfilename\u001b[49m\u001b[43m,\u001b[49m\u001b[43m \u001b[49m\u001b[38;5;241;43m*\u001b[39;49m\u001b[38;5;241;43m*\u001b[39;49m\u001b[43mkwargs\u001b[49m\u001b[43m)\u001b[49m\n",
      "File \u001b[0;32m~/.pyenv/versions/3.11.0/lib/python3.11/site-packages/astropy/io/ascii/ui.py:938\u001b[0m, in \u001b[0;36mwrite\u001b[0;34m(table, output, format, Writer, fast_writer, overwrite, **kwargs)\u001b[0m\n\u001b[1;32m    936\u001b[0m     output \u001b[38;5;241m=\u001b[39m os\u001b[38;5;241m.\u001b[39mpath\u001b[38;5;241m.\u001b[39mexpanduser(output)\n\u001b[1;32m    937\u001b[0m     \u001b[38;5;28;01mif\u001b[39;00m \u001b[38;5;129;01mnot\u001b[39;00m overwrite \u001b[38;5;129;01mand\u001b[39;00m os\u001b[38;5;241m.\u001b[39mpath\u001b[38;5;241m.\u001b[39mlexists(output):\n\u001b[0;32m--> 938\u001b[0m         \u001b[38;5;28;01mraise\u001b[39;00m \u001b[38;5;167;01mOSError\u001b[39;00m(NOT_OVERWRITING_MSG\u001b[38;5;241m.\u001b[39mformat(output))\n\u001b[1;32m    940\u001b[0m \u001b[38;5;28;01mif\u001b[39;00m output \u001b[38;5;129;01mis\u001b[39;00m \u001b[38;5;28;01mNone\u001b[39;00m:\n\u001b[1;32m    941\u001b[0m     output \u001b[38;5;241m=\u001b[39m sys\u001b[38;5;241m.\u001b[39mstdout\n",
      "\u001b[0;31mOSError\u001b[0m: File data/input_sample.ecsv already exists. If you mean to replace it then use the argument \"overwrite=True\"."
     ]
    }
   ],
   "source": [
    "sample_table.write('data/input_sample.ecsv', format='ascii.ecsv')"
   ]
  },
  {
   "cell_type": "markdown",
   "id": "7eeae00d",
   "metadata": {},
   "source": [
    "### 1.3 Load the sample table from disk\n",
    "\n",
    "Do only this step from this section when you have a previously generated sample table"
   ]
  },
  {
   "cell_type": "code",
   "execution_count": null,
   "id": "23a6b55f",
   "metadata": {},
   "outputs": [],
   "source": [
    "sample_table = Table.read('data/input_sample.ecsv', format='ascii.ecsv')"
   ]
  },
  {
   "cell_type": "markdown",
   "id": "6551d216",
   "metadata": {},
   "source": [
    "### Temporary cell, remove when all functions take a Table sample_table rather than lists"
   ]
  },
  {
   "cell_type": "code",
   "execution_count": null,
   "id": "d87ffb3d",
   "metadata": {},
   "outputs": [],
   "source": [
    "coords_list = [(row['objectid'] - 1, row['coord']) for row in sample_table]\n",
    "\n",
    "labels_list = [row['label'] for row in sample_table]"
   ]
  },
  {
   "cell_type": "markdown",
   "id": "a6028b7b",
   "metadata": {},
   "source": [
    "## 2. Find light curves for these targets in NASA catalogs\n",
    "  - We search a curated list of time-domain catalogs from all NASA astrophysics archives"
   ]
  },
  {
   "cell_type": "code",
   "execution_count": null,
   "id": "ceb7fd21",
   "metadata": {},
   "outputs": [],
   "source": [
    "### Initialize Pandas MultiIndex data frame for storing the light curves\n",
    "df_lc = MultiIndexDFObject()"
   ]
  },
  {
   "cell_type": "markdown",
   "id": "459ebae1",
   "metadata": {},
   "source": [
    "### 2.1 HEASARC: FERMI & Beppo SAX"
   ]
  },
  {
   "cell_type": "code",
   "execution_count": null,
   "id": "8c31e3b8",
   "metadata": {},
   "outputs": [],
   "source": [
    "start_serial = time.time()\n",
    "\n",
    "#what is the size of error_radius for the fermi catalog that we will accept for our cross-matching?\n",
    "#in degrees; chosen based on histogram of all values for these catalogs\n",
    "max_fermi_error_radius = str(1.0)  \n",
    "max_sax_error_radius = str(3.0)\n",
    "\n",
    "#list of missions to query and their corresponding error radii\n",
    "heasarc_cat = [\"FERMIGTRIG\", \"SAXGRBMGRB\"]\n",
    "error_radius = [max_fermi_error_radius , max_sax_error_radius]\n",
    "\n",
    "\n",
    "#go out and find all light curves in the above curated list which match our target positions\n",
    "df_lc_fermi = HEASARC_get_lightcurves(sample_table, heasarc_cat, error_radius)\n",
    "df_lc.append(df_lc_fermi)\n",
    "    "
   ]
  },
  {
   "cell_type": "markdown",
   "id": "59b2c9b7",
   "metadata": {},
   "source": [
    "### 2.2 IRSA: ZTF"
   ]
  },
  {
   "cell_type": "code",
   "execution_count": null,
   "id": "3603c21b",
   "metadata": {},
   "outputs": [],
   "source": [
    "# use the nworkers arg to control the amount of parallelization in the data loading step\n",
    "df_lc_ZTF = ZTF_get_lightcurve(coords_list, labels_list, nworkers=6)\n",
    "\n",
    "#add the resulting dataframe to all other archives\n",
    "df_lc.append(df_lc_ZTF)"
   ]
  },
  {
   "cell_type": "markdown",
   "id": "e112d8ba",
   "metadata": {},
   "source": [
    "### 2.3 IRSA: WISE\n",
    "\n",
    "- use the unWISE light curves catalog which ties together all WISE & NEOWISE 2010 - 2020 epochs.  Specifically it combined all observations at a single epoch to achieve deeper mag limits than individual observations alone.\n",
    "- [Meisner et al., 2023, 2023AJ....165...36M](https://ui.adsabs.harvard.edu/abs/2023AJ....165...36M/abstract)"
   ]
  },
  {
   "cell_type": "code",
   "execution_count": null,
   "id": "96ea8be3",
   "metadata": {},
   "outputs": [],
   "source": [
    "bandlist = ['W1', 'W2']\n",
    "WISE_radius = 1.0 * u.arcsec\n",
    "\n",
    "df_lc_WISE = WISE_get_lightcurves(sample_table, WISE_radius, bandlist)\n",
    "\n",
    "#add the resulting dataframe to all other archives\n",
    "df_lc.append(df_lc_WISE)"
   ]
  },
  {
   "cell_type": "markdown",
   "id": "d2009ca9",
   "metadata": {},
   "source": [
    "### 2.4 MAST: Pan-STARRS\n",
    "Query the Pan-STARRS API; based on this [example](https://ps1images.stsci.edu/ps1_dr2_api.html)"
   ]
  },
  {
   "cell_type": "code",
   "execution_count": null,
   "id": "2c214388",
   "metadata": {},
   "outputs": [],
   "source": [
    "#Do a panstarrs search\n",
    "panstarrs_radius = 1.0/3600.0    # search radius = 1 arcsec\n",
    "df_lc_panstarrs = panstarrs_get_lightcurves(coords_list, labels_list, panstarrs_radius)\n",
    "\n",
    "#add the resulting dataframe to all other archives\n",
    "df_lc.append(df_lc_panstarrs)"
   ]
  },
  {
   "cell_type": "markdown",
   "id": "dfaaa142",
   "metadata": {},
   "source": [
    "### 2.5 MAST: Asteroid Terrestrial-impact Last Alert System (ATLAS)\n",
    " - All-sky stellar reference catalog \n",
    " -  MAST hosts this catalog but there are three barriers to using it\n",
    "     1. it is unclear if the MAST [holdings]( https://archive.stsci.edu/hlsp/atlas-refcat2#section-a737bc3e-2d56-4827-9ab4-838fbf8d67c1) include the individual epoch photometry and \n",
    "     2. it is only accessible with casjobs, not through python notebooks.  \n",
    "     3. magnitude range (g, r, i) < 19mag makes it not relevant for this use case\n",
    " \n",
    "One path forward if this catalog becomes scientifically interesting is to put in a MAST helpdesk ticket to see if 1) they do have the light curves, and 2) they could switch the catalog to a searchable with python version.  There are some ways of [accessing casjobs with python](<https://github.com/spacetelescope/notebooks/blob/master/notebooks/MAST/HSC/HCV_CASJOBS/HCV_casjobs_demo.ipynb), but not this particular catalog."
   ]
  },
  {
   "cell_type": "markdown",
   "id": "0973ec4d",
   "metadata": {},
   "source": [
    "### 2.6 MAST: TESS, Kepler and K2\n",
    " - use [`lightKurve`](https://docs.lightkurve.org/index.html) to search all 3 missions and download light curves"
   ]
  },
  {
   "cell_type": "code",
   "execution_count": null,
   "id": "0002ce8b",
   "metadata": {},
   "outputs": [],
   "source": [
    "#go get the lightcurves using lightkurve\n",
    "TESS_radius = 1.0  #arcseconds\n",
    "df_lc_TESS = TESS_Kepler_get_lightcurves(coords_list, labels_list, TESS_radius)\n",
    "\n",
    "#add the resulting dataframe to all other archives\n",
    "df_lc.append(df_lc_TESS)"
   ]
  },
  {
   "cell_type": "markdown",
   "id": "8393dc9a",
   "metadata": {},
   "source": [
    "### 2.7 MAST: HCV\n",
    " - [hubble catalog of variables](https://archive.stsci.edu/hlsp/hcv) \n",
    " - using [this notebook](https://archive.stsci.edu/hst/hsc/help/HCV/HCV_API_demo.html) as a reference to search and download light curves via API"
   ]
  },
  {
   "cell_type": "code",
   "execution_count": null,
   "id": "1b67f84a",
   "metadata": {},
   "outputs": [],
   "source": [
    "#Do an HCV search\n",
    "HCV_radius = 1.0/3600.0 # radius = 1 arcsec\n",
    "df_lc_HCV = HCV_get_lightcurves(coords_list, labels_list, HCV_radius)\n",
    "\n",
    "#add the resulting dataframe to all other archives\n",
    "df_lc.append(df_lc_HCV)"
   ]
  },
  {
   "cell_type": "markdown",
   "id": "1b254370",
   "metadata": {},
   "source": [
    "## 3. Find light curves for these targets in relevant, non-NASA catalogs"
   ]
  },
  {
   "cell_type": "markdown",
   "id": "392048ae",
   "metadata": {},
   "source": [
    "### 3.1 Gaia"
   ]
  },
  {
   "cell_type": "code",
   "execution_count": null,
   "id": "b0a2bbe4",
   "metadata": {},
   "outputs": [],
   "source": [
    "gaiastarttime = time.time()\n",
    "df_lc_gaia = gaia_get_lightcurve(sample_table, 1/3600., 0)\n",
    "\n",
    "#add the resulting dataframe to all other archives\n",
    "df_lc.append(df_lc_gaia)\n",
    "\n",
    "print('gaia search took:', time.time() - gaiastarttime, 's')"
   ]
  },
  {
   "cell_type": "markdown",
   "id": "9111827a",
   "metadata": {},
   "source": [
    "### 3.2 ASAS-SN (all sky automated survey for supernovae) \n",
    "- Has a [website](https://asas-sn.osu.edu/photometry) that can be manually searched; but no API which would allow automatic searches from within this notebook\n",
    "- Magnitude range of this survey is not consistent with the magnitude range of our CLAGN.  If this catalog becomes scientifically interesting, one path forward would be to ask ASAS-SN team about implementing an API"
   ]
  },
  {
   "cell_type": "markdown",
   "id": "164b3d9b",
   "metadata": {},
   "source": [
    "### 3.3 Icecube Neutrinos\n",
    "\n",
    "There are several [catalogs](https://icecube.wisc.edu/data-releases/2021/01/all-sky-point-source-icecube-data-years-2008-2018) (basically one for each year of IceCube data from 2008 - 2018). The following code creates a large catalog by combining\n",
    "all the yearly catalogs.\n",
    "The IceCube catalog contains Neutrino detections with associated energy and time and approximate direction (which is uncertain by half-degree scales....). Usually, for active events only one or two Neutrinos are detected, which makes matching quite different compared to \"photons\". For our purpose, we will list the top 3 events in energy that are within a given distance to the target.\n",
    "\n",
    "This time series (time vs. neutrino energy) information is similar to photometry. We choose to storing time and energy in our data structure, leaving error = 0. What is __not__ stored in this format is the distance or angular uncertainty of the event direction."
   ]
  },
  {
   "cell_type": "code",
   "execution_count": null,
   "id": "a06b0e2b",
   "metadata": {},
   "outputs": [],
   "source": [
    "df_lc_icecube = icecube_get_lightcurve(coords_list , labels_list ,\n",
    "                                   icecube_select_topN = 3,\n",
    "                                   verbose = 1)\n",
    "\n",
    "#add the resulting dataframe to all other archives\n",
    "df_lc.append(df_lc_icecube)\n",
    "end_serial = time.time()"
   ]
  },
  {
   "cell_type": "code",
   "execution_count": null,
   "id": "52b7748a",
   "metadata": {},
   "outputs": [],
   "source": [
    "#benchmarking\n",
    "print('total time for serial archive calls is ', end_serial - start_serial, 's')"
   ]
  },
  {
   "cell_type": "markdown",
   "id": "30c548c2",
   "metadata": {},
   "source": [
    "## 4. Parallel Processing the archive calls"
   ]
  },
  {
   "cell_type": "code",
   "execution_count": null,
   "id": "97f88aa6",
   "metadata": {},
   "outputs": [],
   "source": [
    "# define some variables in case the above serial cells are not run\n",
    "max_fermi_error_radius = str(1.0)  \n",
    "max_sax_error_radius = str(3.0)\n",
    "heasarc_cat = [\"FERMIGTRIG\", \"SAXGRBMGRB\"]\n",
    "error_radius = [max_fermi_error_radius , max_sax_error_radius]\n",
    "bandlist = [\"W1\", \"W2\"]\n",
    "wise_radius = 1.0 * u.arcsec\n",
    "panstarrs_radius = 1.0 / 3600.0  # search radius = 1 arcsec\n",
    "lk_radius = 1.0  # arcseconds\n",
    "hcv_radius = 1.0 / 3600.0  # radius = 1 arcsec"
   ]
  },
  {
   "cell_type": "code",
   "execution_count": null,
   "id": "1234831e",
   "metadata": {},
   "outputs": [],
   "source": [
    "# number of workers to use in the parallel processing pool\n",
    "# this should equal the total number of archives called\n",
    "n_workers = 8\n",
    "\n",
    "# \"spawn\" new processes because it uses less memory and is thread safe\n",
    "# in particular, this is required for pd.read_parquet (used by ZTF_get_lightcurve)\n",
    "# https://stackoverflow.com/questions/64095876/multiprocessing-fork-vs-spawn\n",
    "mp.set_start_method(\"spawn\", force=True)"
   ]
  },
  {
   "cell_type": "code",
   "execution_count": null,
   "id": "ebd823f8",
   "metadata": {},
   "outputs": [],
   "source": [
    "# the ZTF call can be parallelized internally, separate from the pool launched below.\n",
    "# these parallelizations are mutually exclusive, so we must turn off the internal parallelization.\n",
    "ztf_nworkers = None\n",
    "\n",
    "# note that the ZTF call is relatively slow compared to other archives.\n",
    "# if you want to query for a large number of objects, it will be faster to call ZTF individually\n",
    "# (code above) and use the internal parallelization. try 8-12 workers."
   ]
  },
  {
   "cell_type": "code",
   "execution_count": null,
   "id": "556cb0fd",
   "metadata": {},
   "outputs": [],
   "source": [
    "parallel_starttime = time.time()\n",
    "\n",
    "# start a multiprocessing pool and run all the archive queries\n",
    "parallel_df_lc = MultiIndexDFObject()  # to collect the results\n",
    "callback = parallel_df_lc.append  # will be called once on the result returned by each archive\n",
    "with mp.Pool(processes=n_workers) as pool:\n",
    "\n",
    "    # start the processes that call the archives\n",
    "    pool.apply_async(\n",
    "        Gaia_get_lightcurve, (sample_table, 1/3600., 0), callback=callback\n",
    "    )\n",
    "    pool.apply_async(\n",
    "        HEASARC_get_lightcurves, (coords_list, labels_list, heasarc_cat, error_radius), callback=callback\n",
    "    )\n",
    "    pool.apply_async(\n",
    "        HCV_get_lightcurves, (coords_list, labels_list, hcv_radius), callback=callback\n",
    "    )\n",
    "    pool.apply_async(\n",
    "        icecube_get_lightcurve, (coords_list, labels_list, 3, 1), callback=callback\n",
    "    )\n",
    "    pool.apply_async(\n",
    "        panstarrs_get_lightcurves, (coords_list, labels_list, panstarrs_radius), callback=callback\n",
    "    )\n",
    "    pool.apply_async(\n",
    "        TESS_Kepler_get_lightcurves, (coords_list, labels_list, lk_radius), callback=callback\n",
    "    )\n",
    "    pool.apply_async(\n",
    "        WISE_get_lightcurves, (coords_list, labels_list, wise_radius, bandlist), callback=callback\n",
    "    )\n",
    "    pool.apply_async(\n",
    "        ZTF_get_lightcurve, (coords_list, labels_list, ztf_nworkers), callback=callback\n",
    "    )\n",
    "\n",
    "    pool.close()  # signal that no more jobs will be submitted to the pool\n",
    "    pool.join()  # wait for all jobs to complete, including the callback\n",
    "\n",
    "parallel_endtime = time.time()"
   ]
  },
  {
   "cell_type": "code",
   "execution_count": null,
   "id": "9e43e26e",
   "metadata": {},
   "outputs": [],
   "source": [
    "# How long did parallel processing take?\n",
    "# and look at the results\n",
    "print('parallel processing took', parallel_endtime - parallel_starttime, 's')\n",
    "parallel_df_lc.data"
   ]
  },
  {
   "cell_type": "code",
   "execution_count": null,
   "id": "37723230",
   "metadata": {},
   "outputs": [],
   "source": [
    "# Save the data for future use with ML notebook\n",
    "#parquet_savename = 'output/df_lc_090723_yang.parquet'\n",
    "#parallel_df_lc.data.to_parquet(parquet_savename)\n",
    "#print(\"file saved!\")"
   ]
  },
  {
   "cell_type": "code",
   "execution_count": null,
   "id": "3668edf9",
   "metadata": {},
   "outputs": [],
   "source": [
    "# could load a previously saved file in order to plot\n",
    "#parquet_loadname = 'output/df_lc_090723_yang.parquet'\n",
    "#parallel_df_lc = MultiIndexDFObject()\n",
    "#parallel_df_lc.data = pd.read_parquet(parquet_loadname)\n",
    "#print(\"file loaded!\")"
   ]
  },
  {
   "cell_type": "markdown",
   "id": "3be28abc",
   "metadata": {},
   "source": [
    "## 5. Make plots of luminosity as a function of time\n",
    "Model plots after [van Velzen et al., 2021](https://arxiv.org/pdf/2111.09391.pdf).\n",
    "\n",
    "__Note__ that in the following, we can either plot the results from `df_lc` (from the serial call) or `parallel_df_lc` (from the parallel call). By default (see next cell) the output of the parallel call is used."
   ]
  },
  {
   "cell_type": "code",
   "execution_count": null,
   "id": "fc68b9ec",
   "metadata": {},
   "outputs": [],
   "source": [
    "_ = create_figures(coords_list = coords_list ,\n",
    "                   df_lc = parallel_df_lc, # either df_lc (serial call) or parallel_df_lc (parallel call)\n",
    "                   show_nbr_figures = 5,\n",
    "                   save_output = True ,\n",
    "                  )"
   ]
  },
  {
   "cell_type": "markdown",
   "id": "57a228ce",
   "metadata": {},
   "source": [
    "## References\n",
    "\n",
    "This work made use of:\n",
    "\n",
    "- Astroquery; Ginsburg et al., 2019, 2019AJ....157...98G\n",
    "\n",
    "- Astropy; Astropy Collaboration 2022, Astropy Collaboration 2018, Astropy Collaboration 2013, 2022ApJ...935..167A, 2018AJ....156..123A, 2013A&A...558A..33A\n",
    "\n",
    "- Lightkurve; Lightkurve Collaboration 2018, 2018ascl.soft12013L\n",
    "\n",
    "- acstools; https://zenodo.org/record/7406933#.ZBH1HS-B0eY\n",
    "\n",
    "- unWISE light curves; Meisner et al., 2023, 2023AJ....165...36M\n",
    "\n",
    "- Alerce; Forster et al., 2021, 2021AJ....161..242F"
   ]
  }
 ],
 "metadata": {
  "jupytext": {
   "text_representation": {
    "extension": ".md",
    "format_name": "myst",
    "format_version": 0.13,
    "jupytext_version": "1.15.2"
   }
  },
  "kernelspec": {
   "display_name": "Python 3 (ipykernel)",
   "language": "python",
   "name": "python3"
  },
  "language_info": {
   "codemirror_mode": {
    "name": "ipython",
    "version": 3
   },
   "file_extension": ".py",
   "mimetype": "text/x-python",
   "name": "python",
   "nbconvert_exporter": "python",
   "pygments_lexer": "ipython3",
   "version": "3.11.0"
  },
  "source_map": [
   12,
   58,
   63,
   91,
   100,
   129,
   140,
   148,
   150,
   156,
   158,
   162,
   166,
   171,
   174,
   178,
   195,
   199,
   205,
   212,
   220,
   225,
   232,
   244,
   250,
   257,
   263,
   270,
   274,
   278,
   286,
   293,
   303,
   313,
   316,
   320,
   333,
   344,
   354,
   394,
   401,
   408,
   414,
   421,
   427
  ]
 },
 "nbformat": 4,
 "nbformat_minor": 5
}