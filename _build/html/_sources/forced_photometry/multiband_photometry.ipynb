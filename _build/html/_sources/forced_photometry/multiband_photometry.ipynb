{
 "cells": [
  {
   "cell_type": "markdown",
   "id": "7d4b1c5f",
   "metadata": {},
   "source": [
    "# Automated Multiband Forced Photometry on Large Datasets\n",
    "***\n",
    "\n",
    "## Learning Goals:\n",
    "By the end of this tutorial, you will be able to:\n",
    "- get catalogs and images from NASA archives in the cloud where possible\n",
    "- measure fluxes at any location by running forced photometry using \"The Tractor\"\n",
    "- employ parallel processing to make this as fast as possible\n",
    "- cross match large catalogs\n",
    "- plot results\n",
    "\n",
    "## Introduction:\n",
    "This code performs photometry in an automated fashion at all locations in an input catalog on 4 bands of IRAC data from IRSA and 2 bands of Galex data from MAST.  The resulting catalog is then cross-matched with a Chandra catalog from HEASARC to generate a multiband catalog to facilitate galaxy evolution studies.\n",
    "\n",
    "The code will run on 2 different science platforms and makes full use of multiple processors to optimize run time on large datasets.\n",
    "\n",
    "## Input:\n",
    "- RA and DEC within COSMOS catalog\n",
    "- desired catalog radius in arcminutes\n",
    "- mosaics of that region for IRAC and Galex\n",
    "\n",
    "## Output:\n",
    "- merged, multiband, science ready pandas dataframe\n",
    "- IRAC color color plot for identifying interesting populations\n",
    "\n",
    "## Non-standard Imports\n",
    "- `tractor` code which does the forced photometry from Lang et al., 2016\n",
    "- `astroquery` to interface with archives APIs\n",
    "- `astropy` to work with coordinates/units and data structures\n",
    "- `skimage` to work with the images\n",
    "\n",
    "\n",
    "## Authors:\n",
    "Jessica Krick, David Shupe, Marziye JafariYazani, Brigitta Sipőcz, Vandana Desai, Steve Groom, Troy Raen\n",
    "\n",
    "\n",
    "## Acknowledgements:\n",
    "Kristina Nyland for the workflow of the tractor wrapper.\\\n",
    "MAST, HEASARC, & IRSA Fornax teams"
   ]
  },
  {
   "cell_type": "code",
   "execution_count": 1,
   "id": "e4cbe7a1",
   "metadata": {},
   "outputs": [
    {
     "name": "stdout",
     "output_type": "stream",
     "text": [
      "Requirement already satisfied: numpy in /Users/bsipocz/.pyenv/versions/3.11.0/lib/python3.11/site-packages (from -r requirements.txt (line 4)) (1.25.0)\r\n",
      "Requirement already satisfied: matplotlib in /Users/bsipocz/.pyenv/versions/3.11.0/lib/python3.11/site-packages (from -r requirements.txt (line 5)) (3.7.1)\r\n",
      "Requirement already satisfied: scikit-image in /Users/bsipocz/.pyenv/versions/3.11.0/lib/python3.11/site-packages (from -r requirements.txt (line 6)) (0.22.0)\r\n",
      "Requirement already satisfied: pandas in /Users/bsipocz/.pyenv/versions/3.11.0/lib/python3.11/site-packages (from -r requirements.txt (line 7)) (2.1.1)\r\n",
      "Requirement already satisfied: seaborn in /Users/bsipocz/.pyenv/versions/3.11.0/lib/python3.11/site-packages (from -r requirements.txt (line 8)) (0.13.0)\r\n"
     ]
    },
    {
     "name": "stdout",
     "output_type": "stream",
     "text": [
      "Collecting statsmodels\r\n"
     ]
    },
    {
     "name": "stdout",
     "output_type": "stream",
     "text": [
      "  Using cached statsmodels-0.14.0-cp311-cp311-macosx_11_0_arm64.whl (9.4 MB)\r\n"
     ]
    },
    {
     "name": "stdout",
     "output_type": "stream",
     "text": [
      "Collecting mpld3\r\n",
      "  Using cached mpld3-0.5.9-py3-none-any.whl (201 kB)\r\n",
      "Collecting firefly_client\r\n",
      "  Using cached firefly_client-2.9.0-py2.py3-none-any.whl (28 kB)\r\n",
      "Requirement already satisfied: astropy in /Users/bsipocz/.pyenv/versions/3.11.0/lib/python3.11/site-packages (from -r requirements.txt (line 12)) (6.0.dev560+gf2a40ddd0)\r\n",
      "Requirement already satisfied: astroquery in /Users/bsipocz/.pyenv/versions/3.11.0/lib/python3.11/site-packages (from -r requirements.txt (line 13)) (0.4.7.dev8947)\r\n"
     ]
    },
    {
     "name": "stdout",
     "output_type": "stream",
     "text": [
      "Collecting nway\r\n",
      "  Using cached nway-4.5.4-py2.py3-none-any.whl (49 kB)\r\n",
      "Requirement already satisfied: boto3 in /Users/bsipocz/.pyenv/versions/3.11.0/lib/python3.11/site-packages (from -r requirements.txt (line 15)) (1.26.16)\r\n",
      "Requirement already satisfied: tqdm in /Users/bsipocz/.pyenv/versions/3.11.0/lib/python3.11/site-packages (from -r requirements.txt (line 16)) (4.66.1)\r\n",
      "Requirement already satisfied: contourpy>=1.0.1 in /Users/bsipocz/.pyenv/versions/3.11.0/lib/python3.11/site-packages (from matplotlib->-r requirements.txt (line 5)) (1.0.6)\r\n",
      "Requirement already satisfied: cycler>=0.10 in /Users/bsipocz/.pyenv/versions/3.11.0/lib/python3.11/site-packages (from matplotlib->-r requirements.txt (line 5)) (0.11.0)\r\n",
      "Requirement already satisfied: fonttools>=4.22.0 in /Users/bsipocz/.pyenv/versions/3.11.0/lib/python3.11/site-packages (from matplotlib->-r requirements.txt (line 5)) (4.38.0)\r\n",
      "Requirement already satisfied: kiwisolver>=1.0.1 in /Users/bsipocz/.pyenv/versions/3.11.0/lib/python3.11/site-packages (from matplotlib->-r requirements.txt (line 5)) (1.4.4)\r\n",
      "Requirement already satisfied: packaging>=20.0 in /Users/bsipocz/.pyenv/versions/3.11.0/lib/python3.11/site-packages (from matplotlib->-r requirements.txt (line 5)) (23.1)\r\n",
      "Requirement already satisfied: pillow>=6.2.0 in /Users/bsipocz/.pyenv/versions/3.11.0/lib/python3.11/site-packages (from matplotlib->-r requirements.txt (line 5)) (9.3.0)\r\n",
      "Requirement already satisfied: pyparsing>=2.3.1 in /Users/bsipocz/.pyenv/versions/3.11.0/lib/python3.11/site-packages (from matplotlib->-r requirements.txt (line 5)) (3.0.9)\r\n",
      "Requirement already satisfied: python-dateutil>=2.7 in /Users/bsipocz/.pyenv/versions/3.11.0/lib/python3.11/site-packages (from matplotlib->-r requirements.txt (line 5)) (2.8.2)\r\n"
     ]
    },
    {
     "name": "stdout",
     "output_type": "stream",
     "text": [
      "Requirement already satisfied: scipy>=1.8 in /Users/bsipocz/.pyenv/versions/3.11.0/lib/python3.11/site-packages (from scikit-image->-r requirements.txt (line 6)) (1.12.0.dev0)\r\n",
      "Requirement already satisfied: networkx>=2.8 in /Users/bsipocz/.pyenv/versions/3.11.0/lib/python3.11/site-packages (from scikit-image->-r requirements.txt (line 6)) (2.8.8)\r\n",
      "Requirement already satisfied: imageio>=2.27 in /Users/bsipocz/.pyenv/versions/3.11.0/lib/python3.11/site-packages (from scikit-image->-r requirements.txt (line 6)) (2.33.0)\r\n",
      "Requirement already satisfied: tifffile>=2022.8.12 in /Users/bsipocz/.pyenv/versions/3.11.0/lib/python3.11/site-packages (from scikit-image->-r requirements.txt (line 6)) (2023.9.26)\r\n",
      "Requirement already satisfied: lazy_loader>=0.3 in /Users/bsipocz/.pyenv/versions/3.11.0/lib/python3.11/site-packages (from scikit-image->-r requirements.txt (line 6)) (0.3)\r\n",
      "Requirement already satisfied: pytz>=2020.1 in /Users/bsipocz/.pyenv/versions/3.11.0/lib/python3.11/site-packages (from pandas->-r requirements.txt (line 7)) (2022.6)\r\n",
      "Requirement already satisfied: tzdata>=2022.1 in /Users/bsipocz/.pyenv/versions/3.11.0/lib/python3.11/site-packages (from pandas->-r requirements.txt (line 7)) (2023.3)\r\n"
     ]
    },
    {
     "name": "stdout",
     "output_type": "stream",
     "text": [
      "Requirement already satisfied: patsy>=0.5.2 in /Users/bsipocz/.pyenv/versions/3.11.0/lib/python3.11/site-packages (from statsmodels->-r requirements.txt (line 9)) (0.5.4)\r\n",
      "Requirement already satisfied: jinja2 in /Users/bsipocz/.pyenv/versions/3.11.0/lib/python3.11/site-packages (from mpld3->-r requirements.txt (line 10)) (3.1.2)\r\n",
      "Requirement already satisfied: websocket-client in /Users/bsipocz/.pyenv/versions/3.11.0/lib/python3.11/site-packages (from firefly_client->-r requirements.txt (line 11)) (1.4.2)\r\n",
      "Requirement already satisfied: requests in /Users/bsipocz/.pyenv/versions/3.11.0/lib/python3.11/site-packages (from firefly_client->-r requirements.txt (line 11)) (2.28.1)\r\n"
     ]
    },
    {
     "name": "stdout",
     "output_type": "stream",
     "text": [
      "Requirement already satisfied: pyerfa>=2.0 in /Users/bsipocz/.pyenv/versions/3.11.0/lib/python3.11/site-packages (from astropy->-r requirements.txt (line 12)) (2.0.0.1)\r\n",
      "Requirement already satisfied: astropy-iers-data>=0.2023.7.31.0.32.45 in /Users/bsipocz/.pyenv/versions/3.11.0/lib/python3.11/site-packages (from astropy->-r requirements.txt (line 12)) (0.2023.9.18.0.29.41)\r\n",
      "Requirement already satisfied: PyYAML>=3.13 in /Users/bsipocz/.pyenv/versions/3.11.0/lib/python3.11/site-packages (from astropy->-r requirements.txt (line 12)) (6.0)\r\n",
      "Requirement already satisfied: beautifulsoup4>=4.8 in /Users/bsipocz/.pyenv/versions/3.11.0/lib/python3.11/site-packages (from astroquery->-r requirements.txt (line 13)) (4.11.1)\r\n",
      "Requirement already satisfied: html5lib>=0.999 in /Users/bsipocz/.pyenv/versions/3.11.0/lib/python3.11/site-packages (from astroquery->-r requirements.txt (line 13)) (1.1)\r\n",
      "Requirement already satisfied: keyring>=15.0 in /Users/bsipocz/.pyenv/versions/3.11.0/lib/python3.11/site-packages (from astroquery->-r requirements.txt (line 13)) (23.11.0)\r\n",
      "Requirement already satisfied: pyvo>=1.1 in /Users/bsipocz/.pyenv/versions/3.11.0/lib/python3.11/site-packages (from astroquery->-r requirements.txt (line 13)) (1.5.dev192+g75bcb73)\r\n"
     ]
    },
    {
     "name": "stdout",
     "output_type": "stream",
     "text": [
      "Collecting healpy\r\n",
      "  Using cached healpy-1.16.6.tar.gz (4.4 MB)\r\n"
     ]
    },
    {
     "name": "stdout",
     "output_type": "stream",
     "text": [
      "  Installing build dependencies ... \u001b[?25l-"
     ]
    },
    {
     "name": "stdout",
     "output_type": "stream",
     "text": [
      "\b \b\\"
     ]
    },
    {
     "name": "stdout",
     "output_type": "stream",
     "text": [
      "\b \b|"
     ]
    },
    {
     "name": "stdout",
     "output_type": "stream",
     "text": [
      "\b \b/"
     ]
    },
    {
     "name": "stdout",
     "output_type": "stream",
     "text": [
      "\b \b-"
     ]
    },
    {
     "name": "stdout",
     "output_type": "stream",
     "text": [
      "\b \b\\"
     ]
    },
    {
     "name": "stdout",
     "output_type": "stream",
     "text": [
      "\b \bdone\r\n"
     ]
    },
    {
     "name": "stdout",
     "output_type": "stream",
     "text": [
      "\u001b[?25h  Getting requirements to build wheel ... \u001b[?25l-"
     ]
    },
    {
     "name": "stdout",
     "output_type": "stream",
     "text": [
      "\b \b\\"
     ]
    },
    {
     "name": "stdout",
     "output_type": "stream",
     "text": [
      "\b \bdone\r\n"
     ]
    },
    {
     "name": "stdout",
     "output_type": "stream",
     "text": [
      "\u001b[?25h  Preparing metadata (pyproject.toml) ... \u001b[?25l-"
     ]
    },
    {
     "name": "stdout",
     "output_type": "stream",
     "text": [
      "\b \b\\"
     ]
    },
    {
     "name": "stdout",
     "output_type": "stream",
     "text": [
      "\b \bdone\r\n",
      "\u001b[?25hRequirement already satisfied: joblib in /Users/bsipocz/.pyenv/versions/3.11.0/lib/python3.11/site-packages (from nway->-r requirements.txt (line 14)) (1.2.0)\r\n"
     ]
    },
    {
     "name": "stdout",
     "output_type": "stream",
     "text": [
      "Collecting botocore<1.30.0,>=1.29.16\r\n",
      "  Using cached botocore-1.29.165-py3-none-any.whl (11.0 MB)\r\n",
      "Requirement already satisfied: jmespath<2.0.0,>=0.7.1 in /Users/bsipocz/.pyenv/versions/3.11.0/lib/python3.11/site-packages (from boto3->-r requirements.txt (line 15)) (1.0.1)\r\n",
      "Requirement already satisfied: s3transfer<0.7.0,>=0.6.0 in /Users/bsipocz/.pyenv/versions/3.11.0/lib/python3.11/site-packages (from boto3->-r requirements.txt (line 15)) (0.6.0)\r\n"
     ]
    },
    {
     "name": "stdout",
     "output_type": "stream",
     "text": [
      "Requirement already satisfied: soupsieve>1.2 in /Users/bsipocz/.pyenv/versions/3.11.0/lib/python3.11/site-packages (from beautifulsoup4>=4.8->astroquery->-r requirements.txt (line 13)) (2.3.2.post1)\r\n",
      "Requirement already satisfied: urllib3<1.27,>=1.25.4 in /Users/bsipocz/.pyenv/versions/3.11.0/lib/python3.11/site-packages (from botocore<1.30.0,>=1.29.16->boto3->-r requirements.txt (line 15)) (1.26.13)\r\n"
     ]
    },
    {
     "name": "stdout",
     "output_type": "stream",
     "text": [
      "Requirement already satisfied: six>=1.9 in /Users/bsipocz/.pyenv/versions/3.11.0/lib/python3.11/site-packages (from html5lib>=0.999->astroquery->-r requirements.txt (line 13)) (1.16.0)\r\n",
      "Requirement already satisfied: webencodings in /Users/bsipocz/.pyenv/versions/3.11.0/lib/python3.11/site-packages (from html5lib>=0.999->astroquery->-r requirements.txt (line 13)) (0.5.1)\r\n"
     ]
    },
    {
     "name": "stdout",
     "output_type": "stream",
     "text": [
      "Requirement already satisfied: jaraco.classes in /Users/bsipocz/.pyenv/versions/3.11.0/lib/python3.11/site-packages (from keyring>=15.0->astroquery->-r requirements.txt (line 13)) (3.2.3)\r\n",
      "Requirement already satisfied: importlib-metadata>=4.11.4 in /Users/bsipocz/.pyenv/versions/3.11.0/lib/python3.11/site-packages (from keyring>=15.0->astroquery->-r requirements.txt (line 13)) (5.1.0)\r\n"
     ]
    },
    {
     "name": "stdout",
     "output_type": "stream",
     "text": [
      "Requirement already satisfied: charset-normalizer<3,>=2 in /Users/bsipocz/.pyenv/versions/3.11.0/lib/python3.11/site-packages (from requests->firefly_client->-r requirements.txt (line 11)) (2.1.1)\r\n",
      "Requirement already satisfied: idna<4,>=2.5 in /Users/bsipocz/.pyenv/versions/3.11.0/lib/python3.11/site-packages (from requests->firefly_client->-r requirements.txt (line 11)) (3.4)\r\n",
      "Requirement already satisfied: certifi>=2017.4.17 in /Users/bsipocz/.pyenv/versions/3.11.0/lib/python3.11/site-packages (from requests->firefly_client->-r requirements.txt (line 11)) (2022.9.24)\r\n"
     ]
    },
    {
     "name": "stdout",
     "output_type": "stream",
     "text": [
      "Requirement already satisfied: MarkupSafe>=2.0 in /Users/bsipocz/.pyenv/versions/3.11.0/lib/python3.11/site-packages (from jinja2->mpld3->-r requirements.txt (line 10)) (2.1.1)\r\n"
     ]
    },
    {
     "name": "stdout",
     "output_type": "stream",
     "text": [
      "Requirement already satisfied: zipp>=0.5 in /Users/bsipocz/.pyenv/versions/3.11.0/lib/python3.11/site-packages (from importlib-metadata>=4.11.4->keyring>=15.0->astroquery->-r requirements.txt (line 13)) (3.11.0)\r\n"
     ]
    },
    {
     "name": "stdout",
     "output_type": "stream",
     "text": [
      "Requirement already satisfied: more-itertools in /Users/bsipocz/.pyenv/versions/3.11.0/lib/python3.11/site-packages (from jaraco.classes->keyring>=15.0->astroquery->-r requirements.txt (line 13)) (9.0.0)\r\n"
     ]
    },
    {
     "name": "stdout",
     "output_type": "stream",
     "text": [
      "Building wheels for collected packages: healpy\r\n"
     ]
    },
    {
     "name": "stdout",
     "output_type": "stream",
     "text": [
      "  Building wheel for healpy (pyproject.toml) ... \u001b[?25l-"
     ]
    },
    {
     "name": "stdout",
     "output_type": "stream",
     "text": [
      "\b \b\\"
     ]
    },
    {
     "name": "stdout",
     "output_type": "stream",
     "text": [
      "\b \b|"
     ]
    },
    {
     "name": "stdout",
     "output_type": "stream",
     "text": [
      "\b \b/"
     ]
    },
    {
     "name": "stdout",
     "output_type": "stream",
     "text": [
      "\b \b-"
     ]
    },
    {
     "name": "stdout",
     "output_type": "stream",
     "text": [
      "\b \b\\"
     ]
    },
    {
     "name": "stdout",
     "output_type": "stream",
     "text": [
      "\b \b|"
     ]
    },
    {
     "name": "stdout",
     "output_type": "stream",
     "text": [
      "\b \b/"
     ]
    },
    {
     "name": "stdout",
     "output_type": "stream",
     "text": [
      "\b \b-"
     ]
    },
    {
     "name": "stdout",
     "output_type": "stream",
     "text": [
      "\b \b\\"
     ]
    },
    {
     "name": "stdout",
     "output_type": "stream",
     "text": [
      "\b \b|"
     ]
    },
    {
     "name": "stdout",
     "output_type": "stream",
     "text": [
      "\b \b/"
     ]
    },
    {
     "name": "stdout",
     "output_type": "stream",
     "text": [
      "\b \b-"
     ]
    },
    {
     "name": "stdout",
     "output_type": "stream",
     "text": [
      "\b \b\\"
     ]
    },
    {
     "name": "stdout",
     "output_type": "stream",
     "text": [
      "\b \b|"
     ]
    },
    {
     "name": "stdout",
     "output_type": "stream",
     "text": [
      "\b \b/"
     ]
    },
    {
     "name": "stdout",
     "output_type": "stream",
     "text": [
      "\b \b-"
     ]
    },
    {
     "name": "stdout",
     "output_type": "stream",
     "text": [
      "\b \b\\"
     ]
    },
    {
     "name": "stdout",
     "output_type": "stream",
     "text": [
      "\b \b|"
     ]
    },
    {
     "name": "stdout",
     "output_type": "stream",
     "text": [
      "\b \b/"
     ]
    },
    {
     "name": "stdout",
     "output_type": "stream",
     "text": [
      "\b \b-"
     ]
    },
    {
     "name": "stdout",
     "output_type": "stream",
     "text": [
      "\b \b\\"
     ]
    },
    {
     "name": "stdout",
     "output_type": "stream",
     "text": [
      "\b \b|"
     ]
    },
    {
     "name": "stdout",
     "output_type": "stream",
     "text": [
      "\b \b/"
     ]
    },
    {
     "name": "stdout",
     "output_type": "stream",
     "text": [
      "\b \b-"
     ]
    },
    {
     "name": "stdout",
     "output_type": "stream",
     "text": [
      "\b \b\\"
     ]
    },
    {
     "name": "stdout",
     "output_type": "stream",
     "text": [
      "\b \b|"
     ]
    },
    {
     "name": "stdout",
     "output_type": "stream",
     "text": [
      "\b \b/"
     ]
    },
    {
     "name": "stdout",
     "output_type": "stream",
     "text": [
      "\b \b-"
     ]
    },
    {
     "name": "stdout",
     "output_type": "stream",
     "text": [
      "\b \b\\"
     ]
    },
    {
     "name": "stdout",
     "output_type": "stream",
     "text": [
      "\b \b|"
     ]
    },
    {
     "name": "stdout",
     "output_type": "stream",
     "text": [
      "\b \b/"
     ]
    },
    {
     "name": "stdout",
     "output_type": "stream",
     "text": [
      "\b \b-"
     ]
    },
    {
     "name": "stdout",
     "output_type": "stream",
     "text": [
      "\b \b\\"
     ]
    },
    {
     "name": "stdout",
     "output_type": "stream",
     "text": [
      "\b \b|"
     ]
    },
    {
     "name": "stdout",
     "output_type": "stream",
     "text": [
      "\b \b/"
     ]
    },
    {
     "name": "stdout",
     "output_type": "stream",
     "text": [
      "\b \b-"
     ]
    },
    {
     "name": "stdout",
     "output_type": "stream",
     "text": [
      "\b \b\\"
     ]
    },
    {
     "name": "stdout",
     "output_type": "stream",
     "text": [
      "\b \b|"
     ]
    },
    {
     "name": "stdout",
     "output_type": "stream",
     "text": [
      "\b \b/"
     ]
    },
    {
     "name": "stdout",
     "output_type": "stream",
     "text": [
      "\b \b-"
     ]
    },
    {
     "name": "stdout",
     "output_type": "stream",
     "text": [
      "\b \b\\"
     ]
    },
    {
     "name": "stdout",
     "output_type": "stream",
     "text": [
      "\b \b|"
     ]
    },
    {
     "name": "stdout",
     "output_type": "stream",
     "text": [
      "\b \b/"
     ]
    },
    {
     "name": "stdout",
     "output_type": "stream",
     "text": [
      "\b \b-\b \berror\r\n"
     ]
    },
    {
     "name": "stdout",
     "output_type": "stream",
     "text": [
      "  \u001b[1;31merror\u001b[0m: \u001b[1msubprocess-exited-with-error\u001b[0m\r\n",
      "  \r\n",
      "  \u001b[31m×\u001b[0m \u001b[32mBuilding wheel for healpy \u001b[0m\u001b[1;32m(\u001b[0m\u001b[32mpyproject.toml\u001b[0m\u001b[1;32m)\u001b[0m did not run successfully.\r\n",
      "  \u001b[31m│\u001b[0m exit code: \u001b[1;36m1\u001b[0m\r\n",
      "  \u001b[31m╰─>\u001b[0m \u001b[31m[645 lines of output]\u001b[0m\r\n",
      "  \u001b[31m   \u001b[0m /private/var/folders/9s/070g0pd502q70k3gffpxv8km0000gq/T/pip-build-env-g0rlko6_/overlay/lib/python3.11/site-packages/setuptools/_distutils/extension.py:134: UserWarning: Unknown Extension options: 'cython_directives'\r\n",
      "  \u001b[31m   \u001b[0m   warnings.warn(msg)\r\n",
      "  \u001b[31m   \u001b[0m running bdist_wheel\r\n",
      "  \u001b[31m   \u001b[0m running build\r\n",
      "  \u001b[31m   \u001b[0m running build_py\r\n",
      "  \u001b[31m   \u001b[0m creating build\r\n",
      "  \u001b[31m   \u001b[0m creating build/lib.macosx-12.5-arm64-cpython-311\r\n",
      "  \u001b[31m   \u001b[0m creating build/lib.macosx-12.5-arm64-cpython-311/healpy\r\n",
      "  \u001b[31m   \u001b[0m copying healpy/__init__.py -> build/lib.macosx-12.5-arm64-cpython-311/healpy\r\n",
      "  \u001b[31m   \u001b[0m copying healpy/pixelfunc.py -> build/lib.macosx-12.5-arm64-cpython-311/healpy\r\n",
      "  \u001b[31m   \u001b[0m copying healpy/sphtfunc.py -> build/lib.macosx-12.5-arm64-cpython-311/healpy\r\n",
      "  \u001b[31m   \u001b[0m copying healpy/visufunc.py -> build/lib.macosx-12.5-arm64-cpython-311/healpy\r\n",
      "  \u001b[31m   \u001b[0m copying healpy/fitsfunc.py -> build/lib.macosx-12.5-arm64-cpython-311/healpy\r\n",
      "  \u001b[31m   \u001b[0m copying healpy/projector.py -> build/lib.macosx-12.5-arm64-cpython-311/healpy\r\n",
      "  \u001b[31m   \u001b[0m copying healpy/rotator.py -> build/lib.macosx-12.5-arm64-cpython-311/healpy\r\n",
      "  \u001b[31m   \u001b[0m copying healpy/projaxes.py -> build/lib.macosx-12.5-arm64-cpython-311/healpy\r\n",
      "  \u001b[31m   \u001b[0m creating build/lib.macosx-12.5-arm64-cpython-311/healpy/utils\r\n",
      "  \u001b[31m   \u001b[0m copying healpy/utils/__init__.py -> build/lib.macosx-12.5-arm64-cpython-311/healpy/utils\r\n",
      "  \u001b[31m   \u001b[0m copying healpy/utils/deprecation.py -> build/lib.macosx-12.5-arm64-cpython-311/healpy/utils\r\n",
      "  \u001b[31m   \u001b[0m copying healpy/version.py -> build/lib.macosx-12.5-arm64-cpython-311/healpy\r\n",
      "  \u001b[31m   \u001b[0m copying healpy/zoomtool.py -> build/lib.macosx-12.5-arm64-cpython-311/healpy\r\n",
      "  \u001b[31m   \u001b[0m copying healpy/version.py -> build/lib.macosx-12.5-arm64-cpython-311/healpy\r\n",
      "  \u001b[31m   \u001b[0m copying healpy/cookbook.py -> build/lib.macosx-12.5-arm64-cpython-311/healpy\r\n",
      "  \u001b[31m   \u001b[0m copying healpy/newvisufunc.py -> build/lib.macosx-12.5-arm64-cpython-311/healpy\r\n",
      "  \u001b[31m   \u001b[0m creating build/lib.macosx-12.5-arm64-cpython-311/healpy/test\r\n",
      "  \u001b[31m   \u001b[0m copying healpy/test/test_pixelweights.py -> build/lib.macosx-12.5-arm64-cpython-311/healpy/test\r\n",
      "  \u001b[31m   \u001b[0m copying healpy/test/test_deprecation.py -> build/lib.macosx-12.5-arm64-cpython-311/healpy/test\r\n",
      "  \u001b[31m   \u001b[0m copying healpy/test/test_query_disc.py -> build/lib.macosx-12.5-arm64-cpython-311/healpy/test\r\n",
      "  \u001b[31m   \u001b[0m copying healpy/test/conftest.py -> build/lib.macosx-12.5-arm64-cpython-311/healpy/test\r\n",
      "  \u001b[31m   \u001b[0m copying healpy/test/test_cookbook.py -> build/lib.macosx-12.5-arm64-cpython-311/healpy/test\r\n",
      "  \u001b[31m   \u001b[0m copying healpy/test/test_visufunc.py -> build/lib.macosx-12.5-arm64-cpython-311/healpy/test\r\n",
      "  \u001b[31m   \u001b[0m copying healpy/test/__init__.py -> build/lib.macosx-12.5-arm64-cpython-311/healpy/test\r\n",
      "  \u001b[31m   \u001b[0m copying healpy/test/test_line_integral_convolution.py -> build/lib.macosx-12.5-arm64-cpython-311/healpy/test\r\n",
      "  \u001b[31m   \u001b[0m copying healpy/test/test_fitsfunc.py -> build/lib.macosx-12.5-arm64-cpython-311/healpy/test\r\n",
      "  \u001b[31m   \u001b[0m copying healpy/test/test_rotator.py -> build/lib.macosx-12.5-arm64-cpython-311/healpy/test\r\n",
      "  \u001b[31m   \u001b[0m copying healpy/test/test_pixelfunc.py -> build/lib.macosx-12.5-arm64-cpython-311/healpy/test\r\n",
      "  \u001b[31m   \u001b[0m copying healpy/test/test_spinfunc.py -> build/lib.macosx-12.5-arm64-cpython-311/healpy/test\r\n",
      "  \u001b[31m   \u001b[0m copying healpy/test/test_sphtfunc.py -> build/lib.macosx-12.5-arm64-cpython-311/healpy/test\r\n",
      "  \u001b[31m   \u001b[0m running egg_info\r\n",
      "  \u001b[31m   \u001b[0m writing healpy.egg-info/PKG-INFO\r\n",
      "  \u001b[31m   \u001b[0m writing dependency_links to healpy.egg-info/dependency_links.txt\r\n",
      "  \u001b[31m   \u001b[0m writing requirements to healpy.egg-info/requires.txt\r\n",
      "  \u001b[31m   \u001b[0m writing top-level names to healpy.egg-info/top_level.txt\r\n",
      "  \u001b[31m   \u001b[0m checking if configure script for library 'cfitsio' exists\r\n",
      "  \u001b[31m   \u001b[0m checking if configure script for library 'sharp' exists\r\n",
      "  \u001b[31m   \u001b[0m checking if configure script for library 'healpix_cxx' exists\r\n",
      "  \u001b[31m   \u001b[0m ERROR setuptools_scm._file_finders.git listing git files failed - pretending there aren't any\r\n",
      "  \u001b[31m   \u001b[0m reading manifest file 'healpy.egg-info/SOURCES.txt'\r\n",
      "  \u001b[31m   \u001b[0m reading manifest template 'MANIFEST.in'\r\n",
      "  \u001b[31m   \u001b[0m warning: no previously-included files found matching 'healpy/test/data/ipython*'\r\n",
      "  \u001b[31m   \u001b[0m warning: no previously-included files found matching 'cfitsio/*pdf'\r\n",
      "  \u001b[31m   \u001b[0m warning: no previously-included files found matching 'cfitsio/*ps'\r\n",
      "  \u001b[31m   \u001b[0m warning: no previously-included files found matching 'cfitsio/*doc'\r\n",
      "  \u001b[31m   \u001b[0m warning: no previously-included files found matching 'cfitsio/*tex'\r\n",
      "  \u001b[31m   \u001b[0m no previously-included directories found matching 'cfitsio/docs'\r\n",
      "  \u001b[31m   \u001b[0m warning: no previously-included files found matching '*.so'\r\n",
      "  \u001b[31m   \u001b[0m warning: no previously-included files found matching '*.a'\r\n",
      "  \u001b[31m   \u001b[0m warning: no previously-included files found matching '.gitignore'\r\n",
      "  \u001b[31m   \u001b[0m warning: no previously-included files found matching '.gitmodules'\r\n",
      "  \u001b[31m   \u001b[0m warning: no previously-included files found matching '.travis.yml'\r\n",
      "  \u001b[31m   \u001b[0m warning: no previously-included files found matching 'clean.sh'\r\n",
      "  \u001b[31m   \u001b[0m warning: no files found matching 'ez_setup.py'\r\n",
      "  \u001b[31m   \u001b[0m warning: no files found matching 'run_pykg_config.py'\r\n",
      "  \u001b[31m   \u001b[0m warning: no files found matching 'healpy/src/_line_integral_convolution_lib.h'\r\n",
      "  \u001b[31m   \u001b[0m warning: no files found matching 'healpy/src/_query_disc.cpp'\r\n",
      "  \u001b[31m   \u001b[0m warning: no files found matching 'healpy/src/_sphtools.cpp'\r\n",
      "  \u001b[31m   \u001b[0m warning: no files found matching 'healpy/src/_pixelfunc.cpp'\r\n",
      "  \u001b[31m   \u001b[0m warning: no files found matching 'healpy/src/_masktools.cpp'\r\n",
      "  \u001b[31m   \u001b[0m warning: no files found matching 'healpy/src/_hotspots.cpp'\r\n",
      "  \u001b[31m   \u001b[0m warning: no files found matching 'healpy/src/_line_integral_convolution.cpp'\r\n",
      "  \u001b[31m   \u001b[0m adding license file 'COPYING'\r\n",
      "  \u001b[31m   \u001b[0m writing manifest file 'healpy.egg-info/SOURCES.txt'\r\n",
      "  \u001b[31m   \u001b[0m /private/var/folders/9s/070g0pd502q70k3gffpxv8km0000gq/T/pip-build-env-g0rlko6_/overlay/lib/python3.11/site-packages/setuptools/command/build_py.py:207: _Warning: Package 'healpy.data' is absent from the `packages` configuration.\r\n",
      "  \u001b[31m   \u001b[0m !!\r\n",
      "  \u001b[31m   \u001b[0m \r\n",
      "  \u001b[31m   \u001b[0m         ********************************************************************************\r\n",
      "  \u001b[31m   \u001b[0m         ############################\r\n",
      "  \u001b[31m   \u001b[0m         # Package would be ignored #\r\n",
      "  \u001b[31m   \u001b[0m         ############################\r\n",
      "  \u001b[31m   \u001b[0m         Python recognizes 'healpy.data' as an importable package[^1],\r\n",
      "  \u001b[31m   \u001b[0m         but it is absent from setuptools' `packages` configuration.\r\n",
      "  \u001b[31m   \u001b[0m \r\n",
      "  \u001b[31m   \u001b[0m         This leads to an ambiguous overall configuration. If you want to distribute this\r\n",
      "  \u001b[31m   \u001b[0m         package, please make sure that 'healpy.data' is explicitly added\r\n",
      "  \u001b[31m   \u001b[0m         to the `packages` configuration field.\r\n",
      "  \u001b[31m   \u001b[0m \r\n",
      "  \u001b[31m   \u001b[0m         Alternatively, you can also rely on setuptools' discovery methods\r\n",
      "  \u001b[31m   \u001b[0m         (for example by using `find_namespace_packages(...)`/`find_namespace:`\r\n",
      "  \u001b[31m   \u001b[0m         instead of `find_packages(...)`/`find:`).\r\n",
      "  \u001b[31m   \u001b[0m \r\n",
      "  \u001b[31m   \u001b[0m         You can read more about \"package discovery\" on setuptools documentation page:\r\n",
      "  \u001b[31m   \u001b[0m \r\n",
      "  \u001b[31m   \u001b[0m         - https://setuptools.pypa.io/en/latest/userguide/package_discovery.html\r\n",
      "  \u001b[31m   \u001b[0m \r\n",
      "  \u001b[31m   \u001b[0m         If you don't want 'healpy.data' to be distributed and are\r\n",
      "  \u001b[31m   \u001b[0m         already explicitly excluding 'healpy.data' via\r\n",
      "  \u001b[31m   \u001b[0m         `find_namespace_packages(...)/find_namespace` or `find_packages(...)/find`,\r\n",
      "  \u001b[31m   \u001b[0m         you can try to use `exclude_package_data`, or `include-package-data=False` in\r\n",
      "  \u001b[31m   \u001b[0m         combination with a more fine grained `package-data` configuration.\r\n",
      "  \u001b[31m   \u001b[0m \r\n",
      "  \u001b[31m   \u001b[0m         You can read more about \"package data files\" on setuptools documentation page:\r\n",
      "  \u001b[31m   \u001b[0m \r\n",
      "  \u001b[31m   \u001b[0m         - https://setuptools.pypa.io/en/latest/userguide/datafiles.html\r\n",
      "  \u001b[31m   \u001b[0m \r\n",
      "  \u001b[31m   \u001b[0m \r\n",
      "  \u001b[31m   \u001b[0m         [^1]: For Python, any directory (with suitable naming) can be imported,\r\n",
      "  \u001b[31m   \u001b[0m               even if it does not contain any `.py` files.\r\n",
      "  \u001b[31m   \u001b[0m               On the other hand, currently there is no concept of package data\r\n",
      "  \u001b[31m   \u001b[0m               directory, all directories are treated like packages.\r\n",
      "  \u001b[31m   \u001b[0m         ********************************************************************************\r\n",
      "  \u001b[31m   \u001b[0m \r\n",
      "  \u001b[31m   \u001b[0m !!\r\n",
      "  \u001b[31m   \u001b[0m   check.warn(importable)\r\n",
      "  \u001b[31m   \u001b[0m /private/var/folders/9s/070g0pd502q70k3gffpxv8km0000gq/T/pip-build-env-g0rlko6_/overlay/lib/python3.11/site-packages/setuptools/command/build_py.py:207: _Warning: Package 'healpy.src' is absent from the `packages` configuration.\r\n",
      "  \u001b[31m   \u001b[0m !!\r\n",
      "  \u001b[31m   \u001b[0m \r\n",
      "  \u001b[31m   \u001b[0m         ********************************************************************************\r\n",
      "  \u001b[31m   \u001b[0m         ############################\r\n",
      "  \u001b[31m   \u001b[0m         # Package would be ignored #\r\n",
      "  \u001b[31m   \u001b[0m         ############################\r\n",
      "  \u001b[31m   \u001b[0m         Python recognizes 'healpy.src' as an importable package[^1],\r\n",
      "  \u001b[31m   \u001b[0m         but it is absent from setuptools' `packages` configuration.\r\n",
      "  \u001b[31m   \u001b[0m \r\n",
      "  \u001b[31m   \u001b[0m         This leads to an ambiguous overall configuration. If you want to distribute this\r\n",
      "  \u001b[31m   \u001b[0m         package, please make sure that 'healpy.src' is explicitly added\r\n",
      "  \u001b[31m   \u001b[0m         to the `packages` configuration field.\r\n",
      "  \u001b[31m   \u001b[0m \r\n",
      "  \u001b[31m   \u001b[0m         Alternatively, you can also rely on setuptools' discovery methods\r\n",
      "  \u001b[31m   \u001b[0m         (for example by using `find_namespace_packages(...)`/`find_namespace:`\r\n",
      "  \u001b[31m   \u001b[0m         instead of `find_packages(...)`/`find:`).\r\n",
      "  \u001b[31m   \u001b[0m \r\n",
      "  \u001b[31m   \u001b[0m         You can read more about \"package discovery\" on setuptools documentation page:\r\n",
      "  \u001b[31m   \u001b[0m \r\n",
      "  \u001b[31m   \u001b[0m         - https://setuptools.pypa.io/en/latest/userguide/package_discovery.html\r\n",
      "  \u001b[31m   \u001b[0m \r\n",
      "  \u001b[31m   \u001b[0m         If you don't want 'healpy.src' to be distributed and are\r\n",
      "  \u001b[31m   \u001b[0m         already explicitly excluding 'healpy.src' via\r\n",
      "  \u001b[31m   \u001b[0m         `find_namespace_packages(...)/find_namespace` or `find_packages(...)/find`,\r\n",
      "  \u001b[31m   \u001b[0m         you can try to use `exclude_package_data`, or `include-package-data=False` in\r\n",
      "  \u001b[31m   \u001b[0m         combination with a more fine grained `package-data` configuration.\r\n",
      "  \u001b[31m   \u001b[0m \r\n",
      "  \u001b[31m   \u001b[0m         You can read more about \"package data files\" on setuptools documentation page:\r\n",
      "  \u001b[31m   \u001b[0m \r\n",
      "  \u001b[31m   \u001b[0m         - https://setuptools.pypa.io/en/latest/userguide/datafiles.html\r\n",
      "  \u001b[31m   \u001b[0m \r\n",
      "  \u001b[31m   \u001b[0m \r\n",
      "  \u001b[31m   \u001b[0m         [^1]: For Python, any directory (with suitable naming) can be imported,\r\n",
      "  \u001b[31m   \u001b[0m               even if it does not contain any `.py` files.\r\n",
      "  \u001b[31m   \u001b[0m               On the other hand, currently there is no concept of package data\r\n",
      "  \u001b[31m   \u001b[0m               directory, all directories are treated like packages.\r\n",
      "  \u001b[31m   \u001b[0m         ********************************************************************************\r\n",
      "  \u001b[31m   \u001b[0m \r\n",
      "  \u001b[31m   \u001b[0m !!\r\n",
      "  \u001b[31m   \u001b[0m   check.warn(importable)\r\n",
      "  \u001b[31m   \u001b[0m /private/var/folders/9s/070g0pd502q70k3gffpxv8km0000gq/T/pip-build-env-g0rlko6_/overlay/lib/python3.11/site-packages/setuptools/command/build_py.py:207: _Warning: Package 'healpy.test.data' is absent from the `packages` configuration.\r\n",
      "  \u001b[31m   \u001b[0m !!\r\n",
      "  \u001b[31m   \u001b[0m \r\n",
      "  \u001b[31m   \u001b[0m         ********************************************************************************\r\n",
      "  \u001b[31m   \u001b[0m         ############################\r\n",
      "  \u001b[31m   \u001b[0m         # Package would be ignored #\r\n",
      "  \u001b[31m   \u001b[0m         ############################\r\n",
      "  \u001b[31m   \u001b[0m         Python recognizes 'healpy.test.data' as an importable package[^1],\r\n",
      "  \u001b[31m   \u001b[0m         but it is absent from setuptools' `packages` configuration.\r\n",
      "  \u001b[31m   \u001b[0m \r\n",
      "  \u001b[31m   \u001b[0m         This leads to an ambiguous overall configuration. If you want to distribute this\r\n",
      "  \u001b[31m   \u001b[0m         package, please make sure that 'healpy.test.data' is explicitly added\r\n",
      "  \u001b[31m   \u001b[0m         to the `packages` configuration field.\r\n",
      "  \u001b[31m   \u001b[0m \r\n",
      "  \u001b[31m   \u001b[0m         Alternatively, you can also rely on setuptools' discovery methods\r\n",
      "  \u001b[31m   \u001b[0m         (for example by using `find_namespace_packages(...)`/`find_namespace:`\r\n",
      "  \u001b[31m   \u001b[0m         instead of `find_packages(...)`/`find:`).\r\n",
      "  \u001b[31m   \u001b[0m \r\n",
      "  \u001b[31m   \u001b[0m         You can read more about \"package discovery\" on setuptools documentation page:\r\n",
      "  \u001b[31m   \u001b[0m \r\n",
      "  \u001b[31m   \u001b[0m         - https://setuptools.pypa.io/en/latest/userguide/package_discovery.html\r\n",
      "  \u001b[31m   \u001b[0m \r\n",
      "  \u001b[31m   \u001b[0m         If you don't want 'healpy.test.data' to be distributed and are\r\n",
      "  \u001b[31m   \u001b[0m         already explicitly excluding 'healpy.test.data' via\r\n",
      "  \u001b[31m   \u001b[0m         `find_namespace_packages(...)/find_namespace` or `find_packages(...)/find`,\r\n",
      "  \u001b[31m   \u001b[0m         you can try to use `exclude_package_data`, or `include-package-data=False` in\r\n",
      "  \u001b[31m   \u001b[0m         combination with a more fine grained `package-data` configuration.\r\n",
      "  \u001b[31m   \u001b[0m \r\n",
      "  \u001b[31m   \u001b[0m         You can read more about \"package data files\" on setuptools documentation page:\r\n",
      "  \u001b[31m   \u001b[0m \r\n",
      "  \u001b[31m   \u001b[0m         - https://setuptools.pypa.io/en/latest/userguide/datafiles.html\r\n",
      "  \u001b[31m   \u001b[0m \r\n",
      "  \u001b[31m   \u001b[0m \r\n",
      "  \u001b[31m   \u001b[0m         [^1]: For Python, any directory (with suitable naming) can be imported,\r\n",
      "  \u001b[31m   \u001b[0m               even if it does not contain any `.py` files.\r\n",
      "  \u001b[31m   \u001b[0m               On the other hand, currently there is no concept of package data\r\n",
      "  \u001b[31m   \u001b[0m               directory, all directories are treated like packages.\r\n",
      "  \u001b[31m   \u001b[0m         ********************************************************************************\r\n",
      "  \u001b[31m   \u001b[0m \r\n",
      "  \u001b[31m   \u001b[0m !!\r\n",
      "  \u001b[31m   \u001b[0m   check.warn(importable)\r\n",
      "  \u001b[31m   \u001b[0m /private/var/folders/9s/070g0pd502q70k3gffpxv8km0000gq/T/pip-build-env-g0rlko6_/overlay/lib/python3.11/site-packages/setuptools/command/build_py.py:207: _Warning: Package 'healpy.utils' is absent from the `packages` configuration.\r\n",
      "  \u001b[31m   \u001b[0m !!\r\n",
      "  \u001b[31m   \u001b[0m \r\n",
      "  \u001b[31m   \u001b[0m         ********************************************************************************\r\n",
      "  \u001b[31m   \u001b[0m         ############################\r\n",
      "  \u001b[31m   \u001b[0m         # Package would be ignored #\r\n",
      "  \u001b[31m   \u001b[0m         ############################\r\n",
      "  \u001b[31m   \u001b[0m         Python recognizes 'healpy.utils' as an importable package[^1],\r\n",
      "  \u001b[31m   \u001b[0m         but it is absent from setuptools' `packages` configuration.\r\n",
      "  \u001b[31m   \u001b[0m \r\n",
      "  \u001b[31m   \u001b[0m         This leads to an ambiguous overall configuration. If you want to distribute this\r\n",
      "  \u001b[31m   \u001b[0m         package, please make sure that 'healpy.utils' is explicitly added\r\n",
      "  \u001b[31m   \u001b[0m         to the `packages` configuration field.\r\n",
      "  \u001b[31m   \u001b[0m \r\n",
      "  \u001b[31m   \u001b[0m         Alternatively, you can also rely on setuptools' discovery methods\r\n",
      "  \u001b[31m   \u001b[0m         (for example by using `find_namespace_packages(...)`/`find_namespace:`\r\n",
      "  \u001b[31m   \u001b[0m         instead of `find_packages(...)`/`find:`).\r\n",
      "  \u001b[31m   \u001b[0m \r\n",
      "  \u001b[31m   \u001b[0m         You can read more about \"package discovery\" on setuptools documentation page:\r\n",
      "  \u001b[31m   \u001b[0m \r\n",
      "  \u001b[31m   \u001b[0m         - https://setuptools.pypa.io/en/latest/userguide/package_discovery.html\r\n",
      "  \u001b[31m   \u001b[0m \r\n",
      "  \u001b[31m   \u001b[0m         If you don't want 'healpy.utils' to be distributed and are\r\n",
      "  \u001b[31m   \u001b[0m         already explicitly excluding 'healpy.utils' via\r\n",
      "  \u001b[31m   \u001b[0m         `find_namespace_packages(...)/find_namespace` or `find_packages(...)/find`,\r\n",
      "  \u001b[31m   \u001b[0m         you can try to use `exclude_package_data`, or `include-package-data=False` in\r\n",
      "  \u001b[31m   \u001b[0m         combination with a more fine grained `package-data` configuration.\r\n",
      "  \u001b[31m   \u001b[0m \r\n",
      "  \u001b[31m   \u001b[0m         You can read more about \"package data files\" on setuptools documentation page:\r\n",
      "  \u001b[31m   \u001b[0m \r\n",
      "  \u001b[31m   \u001b[0m         - https://setuptools.pypa.io/en/latest/userguide/datafiles.html\r\n",
      "  \u001b[31m   \u001b[0m \r\n",
      "  \u001b[31m   \u001b[0m \r\n",
      "  \u001b[31m   \u001b[0m         [^1]: For Python, any directory (with suitable naming) can be imported,\r\n",
      "  \u001b[31m   \u001b[0m               even if it does not contain any `.py` files.\r\n",
      "  \u001b[31m   \u001b[0m               On the other hand, currently there is no concept of package data\r\n",
      "  \u001b[31m   \u001b[0m               directory, all directories are treated like packages.\r\n",
      "  \u001b[31m   \u001b[0m         ********************************************************************************\r\n",
      "  \u001b[31m   \u001b[0m \r\n",
      "  \u001b[31m   \u001b[0m !!\r\n",
      "  \u001b[31m   \u001b[0m   check.warn(importable)\r\n",
      "  \u001b[31m   \u001b[0m creating build/lib.macosx-12.5-arm64-cpython-311/healpy/data\r\n",
      "  \u001b[31m   \u001b[0m copying healpy/data/pixel_window_n0002.fits -> build/lib.macosx-12.5-arm64-cpython-311/healpy/data\r\n",
      "  \u001b[31m   \u001b[0m copying healpy/data/pixel_window_n0004.fits -> build/lib.macosx-12.5-arm64-cpython-311/healpy/data\r\n",
      "  \u001b[31m   \u001b[0m copying healpy/data/pixel_window_n0008.fits -> build/lib.macosx-12.5-arm64-cpython-311/healpy/data\r\n",
      "  \u001b[31m   \u001b[0m copying healpy/data/pixel_window_n0016.fits -> build/lib.macosx-12.5-arm64-cpython-311/healpy/data\r\n",
      "  \u001b[31m   \u001b[0m copying healpy/data/pixel_window_n0032.fits -> build/lib.macosx-12.5-arm64-cpython-311/healpy/data\r\n",
      "  \u001b[31m   \u001b[0m copying healpy/data/pixel_window_n0064.fits -> build/lib.macosx-12.5-arm64-cpython-311/healpy/data\r\n",
      "  \u001b[31m   \u001b[0m copying healpy/data/pixel_window_n0128.fits -> build/lib.macosx-12.5-arm64-cpython-311/healpy/data\r\n",
      "  \u001b[31m   \u001b[0m copying healpy/data/pixel_window_n0256.fits -> build/lib.macosx-12.5-arm64-cpython-311/healpy/data\r",
      "\r\n",
      "  \u001b[31m   \u001b[0m copying healpy/data/pixel_window_n0512.fits -> build/lib.macosx-12.5-arm64-cpython-311/healpy/data\r\n",
      "  \u001b[31m   \u001b[0m copying healpy/data/pixel_window_n1024.fits -> build/lib.macosx-12.5-arm64-cpython-311/healpy/data\r\n",
      "  \u001b[31m   \u001b[0m copying healpy/data/pixel_window_n2048.fits -> build/lib.macosx-12.5-arm64-cpython-311/healpy/data\r\n",
      "  \u001b[31m   \u001b[0m copying healpy/data/pixel_window_n4096.fits -> build/lib.macosx-12.5-arm64-cpython-311/healpy/data\r\n",
      "  \u001b[31m   \u001b[0m copying healpy/data/pixel_window_n8192.fits -> build/lib.macosx-12.5-arm64-cpython-311/healpy/data\r\n",
      "  \u001b[31m   \u001b[0m copying healpy/data/planck_cmap.dat -> build/lib.macosx-12.5-arm64-cpython-311/healpy/data\r\n",
      "  \u001b[31m   \u001b[0m copying healpy/data/planck_log_cmap.dat -> build/lib.macosx-12.5-arm64-cpython-311/healpy/data\r\n",
      "  \u001b[31m   \u001b[0m copying healpy/data/totcls.dat -> build/lib.macosx-12.5-arm64-cpython-311/healpy/data\r\n",
      "  \u001b[31m   \u001b[0m copying healpy/data/weight_ring_n00002.fits -> build/lib.macosx-12.5-arm64-cpython-311/healpy/data\r\n",
      "  \u001b[31m   \u001b[0m copying healpy/data/weight_ring_n00004.fits -> build/lib.macosx-12.5-arm64-cpython-311/healpy/data\r\n",
      "  \u001b[31m   \u001b[0m copying healpy/data/weight_ring_n00008.fits -> build/lib.macosx-12.5-arm64-cpython-311/healpy/data\r\n",
      "  \u001b[31m   \u001b[0m copying healpy/data/weight_ring_n00016.fits -> build/lib.macosx-12.5-arm64-cpython-311/healpy/data\r\n",
      "  \u001b[31m   \u001b[0m copying healpy/data/weight_ring_n00032.fits -> build/lib.macosx-12.5-arm64-cpython-311/healpy/data\r\n",
      "  \u001b[31m   \u001b[0m copying healpy/data/weight_ring_n00064.fits -> build/lib.macosx-12.5-arm64-cpython-311/healpy/data\r\n",
      "  \u001b[31m   \u001b[0m copying healpy/data/weight_ring_n00128.fits -> build/lib.macosx-12.5-arm64-cpython-311/healpy/data\r\n",
      "  \u001b[31m   \u001b[0m copying healpy/data/weight_ring_n00256.fits -> build/lib.macosx-12.5-arm64-cpython-311/healpy/data\r\n",
      "  \u001b[31m   \u001b[0m copying healpy/data/weight_ring_n00512.fits -> build/lib.macosx-12.5-arm64-cpython-311/healpy/data\r\n",
      "  \u001b[31m   \u001b[0m copying healpy/data/weight_ring_n01024.fits -> build/lib.macosx-12.5-arm64-cpython-311/healpy/data\r\n",
      "  \u001b[31m   \u001b[0m copying healpy/data/weight_ring_n02048.fits -> build/lib.macosx-12.5-arm64-cpython-311/healpy/data\r\n",
      "  \u001b[31m   \u001b[0m copying healpy/data/weight_ring_n04096.fits -> build/lib.macosx-12.5-arm64-cpython-311/healpy/data\r\n",
      "  \u001b[31m   \u001b[0m copying healpy/data/weight_ring_n08192.fits -> build/lib.macosx-12.5-arm64-cpython-311/healpy/data\r\n",
      "  \u001b[31m   \u001b[0m copying healpy/data/wmap_cmap.dat -> build/lib.macosx-12.5-arm64-cpython-311/healpy/data\r\n",
      "  \u001b[31m   \u001b[0m creating build/lib.macosx-12.5-arm64-cpython-311/healpy/src\r\n",
      "  \u001b[31m   \u001b[0m copying healpy/src/_common.pxd -> build/lib.macosx-12.5-arm64-cpython-311/healpy/src\r\n",
      "  \u001b[31m   \u001b[0m copying healpy/src/_healpy_hotspots_lib.cc -> build/lib.macosx-12.5-arm64-cpython-311/healpy/src\r\n",
      "  \u001b[31m   \u001b[0m copying healpy/src/_healpy_hotspots_lib.h -> build/lib.macosx-12.5-arm64-cpython-311/healpy/src\r\n",
      "  \u001b[31m   \u001b[0m copying healpy/src/_healpy_pixel_lib.cc -> build/lib.macosx-12.5-arm64-cpython-311/healpy/src\r\n",
      "  \u001b[31m   \u001b[0m copying healpy/src/_healpy_sph_transform_lib.cc -> build/lib.macosx-12.5-arm64-cpython-311/healpy/src\r\n",
      "  \u001b[31m   \u001b[0m copying healpy/src/_healpy_utils.h -> build/lib.macosx-12.5-arm64-cpython-311/healpy/src\r\n",
      "  \u001b[31m   \u001b[0m copying healpy/src/_hotspots.pyx -> build/lib.macosx-12.5-arm64-cpython-311/healpy/src\r\n",
      "  \u001b[31m   \u001b[0m copying healpy/src/_line_integral_convolution.pyx -> build/lib.macosx-12.5-arm64-cpython-311/healpy/src\r\n",
      "  \u001b[31m   \u001b[0m copying healpy/src/_masktools.pyx -> build/lib.macosx-12.5-arm64-cpython-311/healpy/src\r\n",
      "  \u001b[31m   \u001b[0m copying healpy/src/_pixelfunc.pyx -> build/lib.macosx-12.5-arm64-cpython-311/healpy/src\r\n",
      "  \u001b[31m   \u001b[0m copying healpy/src/_query_disc.pyx -> build/lib.macosx-12.5-arm64-cpython-311/healpy/src\r\n",
      "  \u001b[31m   \u001b[0m copying healpy/src/_sphtools.pyx -> build/lib.macosx-12.5-arm64-cpython-311/healpy/src\r\n",
      "  \u001b[31m   \u001b[0m creating build/lib.macosx-12.5-arm64-cpython-311/healpy/test/data\r\n",
      "  \u001b[31m   \u001b[0m copying healpy/test/data/wmap_band_iqumap_r9_7yr_W_v4_udgraded32.fits -> build/lib.macosx-12.5-arm64-cpython-311/healpy/test/data\r\n",
      "  \u001b[31m   \u001b[0m copying healpy/test/data/gaussbeam_10arcmin_lmax512_pol.fits -> build/lib.macosx-12.5-arm64-cpython-311/healpy/test/data\r\n",
      "  \u001b[31m   \u001b[0m copying healpy/test/data/wmap_band_iqumap_r9_7yr_W_v4_udgraded32_smoothed10deg_fortran.fits -> build/lib.macosx-12.5-arm64-cpython-311/healpy/test/data\r\n",
      "  \u001b[31m   \u001b[0m copying healpy/test/data/cl_wmap_band_iqumap_r9_7yr_WVxspec_v4_udgraded32_II_lmax64_rmmono_3iter.fits -> build/lib.macosx-12.5-arm64-cpython-311/healpy/test/data\r\n",
      "  \u001b[31m   \u001b[0m copying healpy/test/data/wmap_band_iqumap_r9_7yr_V_v4_udgraded32_masked.fits -> build/lib.macosx-12.5-arm64-cpython-311/healpy/test/data\r\n",
      "  \u001b[31m   \u001b[0m copying healpy/test/data/cl_wmap_band_iqumap_r9_7yr_W_v4_udgraded32_II_lmax64_rmmono_3iter.fits -> build/lib.macosx-12.5-arm64-cpython-311/healpy/test/data\r\n",
      "  \u001b[31m   \u001b[0m copying healpy/test/data/cl_wmap_band_iqumap_r9_7yr_W_v4_udgraded32_II_lmax64_rmmono_3iter_nomask.fits -> build/lib.macosx-12.5-arm64-cpython-311/healpy/test/data\r\n",
      "  \u001b[31m   \u001b[0m copying healpy/test/data/wmap_band_iqumap_r9_7yr_W_v4_udgraded32_masked_smoothed10deg_fortran.fits -> build/lib.macosx-12.5-arm64-cpython-311/healpy/test/data\r\n",
      "  \u001b[31m   \u001b[0m copying healpy/test/data/map_synfast_seed12345.fits -> build/lib.macosx-12.5-arm64-cpython-311/healpy/test/data\r\n",
      "  \u001b[31m   \u001b[0m copying healpy/test/data/wmap_band_iqumap_r9_7yr_W_v4_udgraded32_masked.fits -> build/lib.macosx-12.5-arm64-cpython-311/healpy/test/data\r\n",
      "  \u001b[31m   \u001b[0m copying healpy/test/data/cl_wmap_band_iqumap_r9_7yr_W_v4_udgraded32_IQU_lmax64_rmmono_3iter.fits -> build/lib.macosx-12.5-arm64-cpython-311/healpy/test/data\r\n",
      "  \u001b[31m   \u001b[0m copying healpy/test/data/wmap_band_iqumap_r9_7yr_V_v4_udgraded32.fits -> build/lib.macosx-12.5-arm64-cpython-311/healpy/test/data\r\n",
      "  \u001b[31m   \u001b[0m copying healpy/test/data/wmap_temperature_analysis_mask_r9_7yr_v4_udgraded32.fits -> build/lib.macosx-12.5-arm64-cpython-311/healpy/test/data\r\n",
      "  \u001b[31m   \u001b[0m copying healpy/test/data/justq_gal2ecl.fits.gz -> build/lib.macosx-12.5-arm64-cpython-311/healpy/test/data\r\n",
      "  \u001b[31m   \u001b[0m copying healpy/test/data/anafast_3_11_config_test_anafast.par -> build/lib.macosx-12.5-arm64-cpython-311/healpy/test/data\r\n",
      "  \u001b[31m   \u001b[0m copying healpy/test/data/anafast_3_11_config_test_anafast_nomask.par -> build/lib.macosx-12.5-arm64-cpython-311/healpy/test/data\r\n",
      "  \u001b[31m   \u001b[0m copying healpy/test/data/anafast_3_11_config_test_anafast_xspectra.par -> build/lib.macosx-12.5-arm64-cpython-311/healpy/test/data\r\n",
      "  \u001b[31m   \u001b[0m copying healpy/test/data/smoothing_3_11_config_test_smoothing_masked.par -> build/lib.macosx-12.5-arm64-cpython-311/healpy/test/data\r\n",
      "  \u001b[31m   \u001b[0m copying healpy/test/data/smoothing_3_11_config_test_smoothing_notmasked.par -> build/lib.macosx-12.5-arm64-cpython-311/healpy/test/data\r\n",
      "  \u001b[31m   \u001b[0m copying healpy/test/data/synfast_3_11_config_test_synfast.par -> build/lib.macosx-12.5-arm64-cpython-311/healpy/test/data\r\n",
      "  \u001b[31m   \u001b[0m running build_clib\r\n",
      "  \u001b[31m   \u001b[0m checking if library 'cfitsio' is installed\r\n",
      "  \u001b[31m   \u001b[0m found 'cfitsio' installed, using it\r\n",
      "  \u001b[31m   \u001b[0m checking if library 'sharp' is installed\r\n",
      "  \u001b[31m   \u001b[0m Package libsharp was not found in the pkg-config search path.\r\n",
      "  \u001b[31m   \u001b[0m Perhaps you should add the directory containing `libsharp.pc'\r\n",
      "  \u001b[31m   \u001b[0m to the PKG_CONFIG_PATH environment variable\r\n",
      "  \u001b[31m   \u001b[0m No package 'libsharp' found\r\n",
      "  \u001b[31m   \u001b[0m building library 'sharp' from source\r\n",
      "  \u001b[31m   \u001b[0m creating /private/var/folders/9s/070g0pd502q70k3gffpxv8km0000gq/T/pip-install-xvs87ft4/healpy_b62a0cd5b3a3405aae11b091d17cda44/build/temp.macosx-12.5-arm64-cpython-311\r\n",
      "  \u001b[31m   \u001b[0m creating /private/var/folders/9s/070g0pd502q70k3gffpxv8km0000gq/T/pip-install-xvs87ft4/healpy_b62a0cd5b3a3405aae11b091d17cda44/build/temp.macosx-12.5-arm64-cpython-311/sharp\r\n",
      "  \u001b[31m   \u001b[0m /bin/sh /private/var/folders/9s/070g0pd502q70k3gffpxv8km0000gq/T/pip-install-xvs87ft4/healpy_b62a0cd5b3a3405aae11b091d17cda44/healpixsubmodule/src/common_libraries/libsharp/configure --prefix=/private/var/folders/9s/070g0pd502q70k3gffpxv8km0000gq/T/pip-install-xvs87ft4/healpy_b62a0cd5b3a3405aae11b091d17cda44/build/temp.macosx-12.5-arm64-cpython-311 --disable-shared --with-pic --disable-maintainer-mode\r\n",
      "  \u001b[31m   \u001b[0m checking for a BSD-compatible install... /usr/bin/install -c\r\n",
      "  \u001b[31m   \u001b[0m checking whether build environment is sane... yes\r\n",
      "  \u001b[31m   \u001b[0m checking for a race-free mkdir -p... /private/var/folders/9s/070g0pd502q70k3gffpxv8km0000gq/T/pip-install-xvs87ft4/healpy_b62a0cd5b3a3405aae11b091d17cda44/healpixsubmodule/src/common_libraries/libsharp/install-sh -c -d\r\n",
      "  \u001b[31m   \u001b[0m checking for gawk... gawk\r\n",
      "  \u001b[31m   \u001b[0m checking whether make sets $(MAKE)... yes\r\n",
      "  \u001b[31m   \u001b[0m checking whether make supports nested variables... yes\r\n",
      "  \u001b[31m   \u001b[0m checking whether to enable maintainer-specific portions of Makefiles... no\r\n",
      "  \u001b[31m   \u001b[0m checking whether make supports the include directive... yes (GNU style)\r\n",
      "  \u001b[31m   \u001b[0m checking for gcc... clang\r\n",
      "  \u001b[31m   \u001b[0m checking whether the C compiler works... yes\r\n",
      "  \u001b[31m   \u001b[0m checking for C compiler default output file name... a.out\r\n",
      "  \u001b[31m   \u001b[0m checking for suffix of executables...\r\n",
      "  \u001b[31m   \u001b[0m checking whether we are cross compiling... no\r\n",
      "  \u001b[31m   \u001b[0m checking for suffix of object files... o\r\n",
      "  \u001b[31m   \u001b[0m checking whether the compiler supports GNU C... yes\r\n",
      "  \u001b[31m   \u001b[0m checking whether clang accepts -g... yes\r\n",
      "  \u001b[31m   \u001b[0m checking for clang option to enable C11 features... none needed\r\n",
      "  \u001b[31m   \u001b[0m checking whether clang understands -c and -o together... rm: conftest.dSYM: is a directory\r\n",
      "  \u001b[31m   \u001b[0m yes\r\n",
      "  \u001b[31m   \u001b[0m checking dependency style of clang... gcc3\r\n",
      "  \u001b[31m   \u001b[0m checking for ar... ar\r\n",
      "  \u001b[31m   \u001b[0m checking the archiver (ar) interface... ar\r\n",
      "  \u001b[31m   \u001b[0m checking build system type... aarch64-apple-darwin21.6.0\r\n",
      "  \u001b[31m   \u001b[0m checking host system type... aarch64-apple-darwin21.6.0\r\n",
      "  \u001b[31m   \u001b[0m checking how to print strings... printf\r\n",
      "  \u001b[31m   \u001b[0m checking for a sed that does not truncate output... /opt/homebrew/bin/gsed\r\n",
      "  \u001b[31m   \u001b[0m checking for grep that handles long lines and -e... /opt/homebrew/bin/ggrep\r\n",
      "  \u001b[31m   \u001b[0m checking for egrep... /opt/homebrew/bin/ggrep -E\r\n",
      "  \u001b[31m   \u001b[0m checking for fgrep... /opt/homebrew/bin/ggrep -F\r\n",
      "  \u001b[31m   \u001b[0m checking for ld used by clang... /Applications/Xcode.app/Contents/Developer/Toolchains/XcodeDefault.xctoolchain/usr/bin/ld\r\n",
      "  \u001b[31m   \u001b[0m checking if the linker (/Applications/Xcode.app/Contents/Developer/Toolchains/XcodeDefault.xctoolchain/usr/bin/ld) is GNU ld... no\r\n",
      "  \u001b[31m   \u001b[0m checking for BSD- or MS-compatible name lister (nm)... /usr/bin/nm -B\r\n",
      "  \u001b[31m   \u001b[0m checking the name lister (/usr/bin/nm -B) interface... rm: conftest.dSYM: is a directory\r\n",
      "  \u001b[31m   \u001b[0m BSD nm\r\n",
      "  \u001b[31m   \u001b[0m checking whether ln -s works... yes\r\n",
      "  \u001b[31m   \u001b[0m checking the maximum length of command line arguments... 786432\r\n",
      "  \u001b[31m   \u001b[0m checking how to convert aarch64-apple-darwin21.6.0 file names to aarch64-apple-darwin21.6.0 format... func_convert_file_noop\r\n",
      "  \u001b[31m   \u001b[0m checking how to convert aarch64-apple-darwin21.6.0 file names to toolchain format... func_convert_file_noop\r\n",
      "  \u001b[31m   \u001b[0m checking for /Applications/Xcode.app/Contents/Developer/Toolchains/XcodeDefault.xctoolchain/usr/bin/ld option to reload object files... -r\r\n",
      "  \u001b[31m   \u001b[0m checking for file... file\r\n",
      "  \u001b[31m   \u001b[0m checking for objdump... objdump\r\n",
      "  \u001b[31m   \u001b[0m checking how to recognize dependent libraries... pass_all\r\n",
      "  \u001b[31m   \u001b[0m checking for dlltool... no\r\n",
      "  \u001b[31m   \u001b[0m checking how to associate runtime and link libraries... printf %s\\n\r\n",
      "  \u001b[31m   \u001b[0m checking for archiver @FILE support... rm: conftest.dSYM: is a directory\r\n",
      "  \u001b[31m   \u001b[0m no\r\n",
      "  \u001b[31m   \u001b[0m checking for strip... strip\r\n",
      "  \u001b[31m   \u001b[0m checking for ranlib... ranlib\r\n",
      "  \u001b[31m   \u001b[0m checking command to parse /usr/bin/nm -B output from clang object... rm: conftest.dSYM: is a directory\r\n",
      "  \u001b[31m   \u001b[0m ok\r\n",
      "  \u001b[31m   \u001b[0m checking for sysroot... no\r\n",
      "  \u001b[31m   \u001b[0m checking for a working dd... /bin/dd\r\n",
      "  \u001b[31m   \u001b[0m checking how to truncate binary pipes... /bin/dd bs=4096 count=1\r\n",
      "  \u001b[31m   \u001b[0m checking for mt... no\r\n",
      "  \u001b[31m   \u001b[0m checking if : is a manifest tool... no\r\n",
      "  \u001b[31m   \u001b[0m checking for dsymutil... dsymutil\r\n",
      "  \u001b[31m   \u001b[0m checking for nmedit... nmedit\r\n",
      "  \u001b[31m   \u001b[0m checking for lipo... lipo\r\n",
      "  \u001b[31m   \u001b[0m checking for otool... otool\r\n",
      "  \u001b[31m   \u001b[0m checking for otool64... no\r\n",
      "  \u001b[31m   \u001b[0m checking for -single_module linker flag... yes\r\n",
      "  \u001b[31m   \u001b[0m checking for -exported_symbols_list linker flag... yes\r\n",
      "  \u001b[31m   \u001b[0m checking for -force_load linker flag... yes\r\n",
      "  \u001b[31m   \u001b[0m checking for stdio.h... yes\r\n",
      "  \u001b[31m   \u001b[0m checking for stdlib.h... yes\r\n",
      "  \u001b[31m   \u001b[0m checking for string.h... yes\r\n",
      "  \u001b[31m   \u001b[0m checking for inttypes.h... yes\r\n",
      "  \u001b[31m   \u001b[0m checking for stdint.h... yes\r\n",
      "  \u001b[31m   \u001b[0m checking for strings.h... yes\r\n",
      "  \u001b[31m   \u001b[0m checking for sys/stat.h... yes\r\n",
      "  \u001b[31m   \u001b[0m checking for sys/types.h... yes\r\n",
      "  \u001b[31m   \u001b[0m checking for unistd.h... yes\r\n",
      "  \u001b[31m   \u001b[0m checking for dlfcn.h... yes\r\n",
      "  \u001b[31m   \u001b[0m checking for objdir... .libs\r\n",
      "  \u001b[31m   \u001b[0m checking if clang supports -fno-rtti -fno-exceptions... yes\r\n",
      "  \u001b[31m   \u001b[0m checking for clang option to produce PIC... -fno-common -DPIC\r\n",
      "  \u001b[31m   \u001b[0m checking if clang PIC flag -fno-common -DPIC works... yes\r\n",
      "  \u001b[31m   \u001b[0m checking if clang static flag -static works... no\r\n",
      "  \u001b[31m   \u001b[0m checking if clang supports -c -o file.o... yes\r\n",
      "  \u001b[31m   \u001b[0m checking if clang supports -c -o file.o... (cached) yes\r\n",
      "  \u001b[31m   \u001b[0m checking whether the clang linker (/Applications/Xcode.app/Contents/Developer/Toolchains/XcodeDefault.xctoolchain/usr/bin/ld) supports shared libraries... yes\r\n",
      "  \u001b[31m   \u001b[0m checking dynamic linker characteristics... darwin21.6.0 dyld\r\n",
      "  \u001b[31m   \u001b[0m checking how to hardcode library paths into programs... immediate\r\n",
      "  \u001b[31m   \u001b[0m checking whether stripping libraries is possible... yes\r\n",
      "  \u001b[31m   \u001b[0m checking if libtool supports shared libraries... yes\r\n",
      "  \u001b[31m   \u001b[0m checking whether to build shared libraries... no\r\n",
      "  \u001b[31m   \u001b[0m checking whether to build static libraries... yes\r\n",
      "  \u001b[31m   \u001b[0m checking whether make supports nested variables... (cached) yes\r\n",
      "  \u001b[31m   \u001b[0m checking for gcc... (cached) clang\r\n",
      "  \u001b[31m   \u001b[0m checking whether the compiler supports GNU C... (cached) yes\r\n",
      "  \u001b[31m   \u001b[0m checking whether clang accepts -g... (cached) yes\r\n",
      "  \u001b[31m   \u001b[0m checking for clang option to enable C11 features... (cached) none needed\r\n",
      "  \u001b[31m   \u001b[0m checking whether clang understands -c and -o together... (cached) yes\r\n",
      "  \u001b[31m   \u001b[0m checking dependency style of clang... (cached) gcc3\r\n",
      "  \u001b[31m   \u001b[0m checking for clang option to support OpenMP... unsupported\r\n",
      "  \u001b[31m   \u001b[0m checking our pkgconfig libname... libsharp\r\n",
      "  \u001b[31m   \u001b[0m checking our pkgconfig version... 1.0.0\r\n",
      "  \u001b[31m   \u001b[0m checking our pkgconfig_libdir... ${libdir}/pkgconfig\r\n",
      "  \u001b[31m   \u001b[0m expanded our pkgconfig_libdir... /private/var/folders/9s/070g0pd502q70k3gffpxv8km0000gq/T/pip-install-xvs87ft4/healpy_b62a0cd5b3a3405aae11b091d17cda44/build/temp.macosx-12.5-arm64-cpython-311/lib/pkgconfig\r\n",
      "  \u001b[31m   \u001b[0m checking our pkgconfig_libfile... libsharp.pc\r\n",
      "  \u001b[31m   \u001b[0m checking our package / suffix... libsharp /\r\n",
      "  \u001b[31m   \u001b[0m checking our pkgconfig description... libsharp Library\r\n",
      "  \u001b[31m   \u001b[0m checking our pkgconfig requires...\r\n",
      "  \u001b[31m   \u001b[0m checking our pkgconfig ext libs... -lsharp -lm\r\n",
      "  \u001b[31m   \u001b[0m checking our pkgconfig cppflags...\r\n",
      "  \u001b[31m   \u001b[0m checking our pkgconfig ldflags...\r\n",
      "  \u001b[31m   \u001b[0m noninstalled pkgconfig -L /private/var/folders/9s/070g0pd502q70k3gffpxv8km0000gq/T/pip-install-xvs87ft4/healpy_b62a0cd5b3a3405aae11b091d17cda44/build/temp.macosx-12.5-arm64-cpython-311/sharp/.libs\r\n",
      "  \u001b[31m   \u001b[0m noninstalled pkgconfig -I //private/var/folders/9s/070g0pd502q70k3gffpxv8km0000gq/T/pip-install-xvs87ft4/healpy_b62a0cd5b3a3405aae11b091d17cda44/healpixsubmodule/src/common_libraries/libsharp\r\n",
      "  \u001b[31m   \u001b[0m checking that generated files are newer than configure... done\r\n",
      "  \u001b[31m   \u001b[0m configure: creating ./config.status\r\n",
      "  \u001b[31m   \u001b[0m config.status: creating Makefile\r\n",
      "  \u001b[31m   \u001b[0m config.status: executing depfiles commands\r\n",
      "  \u001b[31m   \u001b[0m config.status: executing libtool commands\r\n",
      "  \u001b[31m   \u001b[0m config.status: executing libsharp.pc commands\r\n",
      "  \u001b[31m   \u001b[0m config.status: creating libsharp.pc.in\r\n",
      "  \u001b[31m   \u001b[0m config.status: creating libsharp.pc\r\n",
      "  \u001b[31m   \u001b[0m config.status: creating libsharp-uninstalled.pc\r\n",
      "  \u001b[31m   \u001b[0m config.status: creating libsharp-uninstalled.sh\r\n",
      "  \u001b[31m   \u001b[0m make install\r\n",
      "  \u001b[31m   \u001b[0m   CC       c_utils/c_utils.lo\r\n",
      "  \u001b[31m   \u001b[0m   CC       c_utils/walltime_c.lo\r\n",
      "  \u001b[31m   \u001b[0m   CC       pocketfft/pocketfft.lo\r\n",
      "  \u001b[31m   \u001b[0m   CC       libsharp/sharp.lo\r\n",
      "  \u001b[31m   \u001b[0m   CC       libsharp/sharp_almhelpers.lo\r\n",
      "  \u001b[31m   \u001b[0m   CC       libsharp/sharp_core.lo\r\n",
      "  \u001b[31m   \u001b[0m   CC       libsharp/sharp_geomhelpers.lo\r\n",
      "  \u001b[31m   \u001b[0m   CC       libsharp/sharp_legendre_roots.lo\r\n",
      "  \u001b[31m   \u001b[0m   CC       libsharp/sharp_ylmgen_c.lo\r\n",
      "  \u001b[31m   \u001b[0m   CCLD     libsharp.la\r\n",
      "  \u001b[31m   \u001b[0m  /private/var/folders/9s/070g0pd502q70k3gffpxv8km0000gq/T/pip-install-xvs87ft4/healpy_b62a0cd5b3a3405aae11b091d17cda44/healpixsubmodule/src/common_libraries/libsharp/install-sh -c -d '/private/var/folders/9s/070g0pd502q70k3gffpxv8km0000gq/T/pip-install-xvs87ft4/healpy_b62a0cd5b3a3405aae11b091d17cda44/build/temp.macosx-12.5-arm64-cpython-311/lib'\r\n",
      "  \u001b[31m   \u001b[0m  /bin/sh ./libtool   --mode=install /usr/bin/install -c   libsharp.la '/private/var/folders/9s/070g0pd502q70k3gffpxv8km0000gq/T/pip-install-xvs87ft4/healpy_b62a0cd5b3a3405aae11b091d17cda44/build/temp.macosx-12.5-arm64-cpython-311/lib'\r\n",
      "  \u001b[31m   \u001b[0m libtool: install: /usr/bin/install -c .libs/libsharp.lai /private/var/folders/9s/070g0pd502q70k3gffpxv8km0000gq/T/pip-install-xvs87ft4/healpy_b62a0cd5b3a3405aae11b091d17cda44/build/temp.macosx-12.5-arm64-cpython-311/lib/libsharp.la\r\n",
      "  \u001b[31m   \u001b[0m libtool: install: /usr/bin/install -c .libs/libsharp.a /private/var/folders/9s/070g0pd502q70k3gffpxv8km0000gq/T/pip-install-xvs87ft4/healpy_b62a0cd5b3a3405aae11b091d17cda44/build/temp.macosx-12.5-arm64-cpython-311/lib/libsharp.a\r\n",
      "  \u001b[31m   \u001b[0m libtool: install: chmod 644 /private/var/folders/9s/070g0pd502q70k3gffpxv8km0000gq/T/pip-install-xvs87ft4/healpy_b62a0cd5b3a3405aae11b091d17cda44/build/temp.macosx-12.5-arm64-cpython-311/lib/libsharp.a\r\n",
      "  \u001b[31m   \u001b[0m libtool: install: ranlib /private/var/folders/9s/070g0pd502q70k3gffpxv8km0000gq/T/pip-install-xvs87ft4/healpy_b62a0cd5b3a3405aae11b091d17cda44/build/temp.macosx-12.5-arm64-cpython-311/lib/libsharp.a\r\n",
      "  \u001b[31m   \u001b[0m  /private/var/folders/9s/070g0pd502q70k3gffpxv8km0000gq/T/pip-install-xvs87ft4/healpy_b62a0cd5b3a3405aae11b091d17cda44/healpixsubmodule/src/common_libraries/libsharp/install-sh -c -d '/private/var/folders/9s/070g0pd502q70k3gffpxv8km0000gq/T/pip-install-xvs87ft4/healpy_b62a0cd5b3a3405aae11b091d17cda44/build/temp.macosx-12.5-arm64-cpython-311/include'\r\n",
      "  \u001b[31m   \u001b[0m  /private/var/folders/9s/070g0pd502q70k3gffpxv8km0000gq/T/pip-install-xvs87ft4/healpy_b62a0cd5b3a3405aae11b091d17cda44/healpixsubmodule/src/common_libraries/libsharp/install-sh -c -d '/private/var/folders/9s/070g0pd502q70k3gffpxv8km0000gq/T/pip-install-xvs87ft4/healpy_b62a0cd5b3a3405aae11b091d17cda44/build/temp.macosx-12.5-arm64-cpython-311/include/libsharp'\r\n",
      "  \u001b[31m   \u001b[0m  /usr/bin/install -c -m 644  /private/var/folders/9s/070g0pd502q70k3gffpxv8km0000gq/T/pip-install-xvs87ft4/healpy_b62a0cd5b3a3405aae11b091d17cda44/healpixsubmodule/src/common_libraries/libsharp/libsharp/sharp.h /private/var/folders/9s/070g0pd502q70k3gffpxv8km0000gq/T/pip-install-xvs87ft4/healpy_b62a0cd5b3a3405aae11b091d17cda44/healpixsubmodule/src/common_libraries/libsharp/libsharp/sharp_geomhelpers.h /private/var/folders/9s/070g0pd502q70k3gffpxv8km0000gq/T/pip-install-xvs87ft4/healpy_b62a0cd5b3a3405aae11b091d17cda44/healpixsubmodule/src/common_libraries/libsharp/libsharp/sharp_almhelpers.h /private/var/folders/9s/070g0pd502q70k3gffpxv8km0000gq/T/pip-install-xvs87ft4/healpy_b62a0cd5b3a3405aae11b091d17cda44/healpixsubmodule/src/common_libraries/libsharp/libsharp/sharp_cxx.h '/private/var/folders/9s/070g0pd502q70k3gffpxv8km0000gq/T/pip-install-xvs87ft4/healpy_b62a0cd5b3a3405aae11b091d17cda44/build/temp.macosx-12.5-arm64-cpython-311/include/libsharp'\r\n",
      "  \u001b[31m   \u001b[0m  /private/var/folders/9s/070g0pd502q70k3gffpxv8km0000gq/T/pip-install-xvs87ft4/healpy_b62a0cd5b3a3405aae11b091d17cda44/healpixsubmodule/src/common_libraries/libsharp/install-sh -c -d '/private/var/folders/9s/070g0pd502q70k3gffpxv8km0000gq/T/pip-install-xvs87ft4/healpy_b62a0cd5b3a3405aae11b091d17cda44/build/temp.macosx-12.5-arm64-cpython-311/lib/pkgconfig'\r\n",
      "  \u001b[31m   \u001b[0m  /usr/bin/install -c -m 644 libsharp.pc '/private/var/folders/9s/070g0pd502q70k3gffpxv8km0000gq/T/pip-install-xvs87ft4/healpy_b62a0cd5b3a3405aae11b091d17cda44/build/temp.macosx-12.5-arm64-cpython-311/lib/pkgconfig'\r\n",
      "  \u001b[31m   \u001b[0m checking if library 'healpix_cxx' is installed\r\n",
      "  \u001b[31m   \u001b[0m Package healpix_cxx was not found in the pkg-config search path.\r\n",
      "  \u001b[31m   \u001b[0m Perhaps you should add the directory containing `healpix_cxx.pc'\r\n",
      "  \u001b[31m   \u001b[0m to the PKG_CONFIG_PATH environment variable\r\n",
      "  \u001b[31m   \u001b[0m No package 'healpix_cxx' found\r\n",
      "  \u001b[31m   \u001b[0m building library 'healpix_cxx' from source\r\n",
      "  \u001b[31m   \u001b[0m creating /private/var/folders/9s/070g0pd502q70k3gffpxv8km0000gq/T/pip-install-xvs87ft4/healpy_b62a0cd5b3a3405aae11b091d17cda44/build/temp.macosx-12.5-arm64-cpython-311/healpix_cxx\r\n",
      "  \u001b[31m   \u001b[0m /bin/sh /private/var/folders/9s/070g0pd502q70k3gffpxv8km0000gq/T/pip-install-xvs87ft4/healpy_b62a0cd5b3a3405aae11b091d17cda44/healpixsubmodule/src/cxx/configure --prefix=/private/var/folders/9s/070g0pd502q70k3gffpxv8km0000gq/T/pip-install-xvs87ft4/healpy_b62a0cd5b3a3405aae11b091d17cda44/build/temp.macosx-12.5-arm64-cpython-311 --disable-shared --with-pic --disable-maintainer-mode\r\n",
      "  \u001b[31m   \u001b[0m checking for a BSD-compatible install... /usr/bin/install -c\r\n",
      "  \u001b[31m   \u001b[0m checking whether build environment is sane... yes\r\n",
      "  \u001b[31m   \u001b[0m checking for a race-free mkdir -p... /private/var/folders/9s/070g0pd502q70k3gffpxv8km0000gq/T/pip-install-xvs87ft4/healpy_b62a0cd5b3a3405aae11b091d17cda44/healpixsubmodule/src/cxx/install-sh -c -d\r\n",
      "  \u001b[31m   \u001b[0m checking for gawk... gawk\r\n",
      "  \u001b[31m   \u001b[0m checking whether make sets $(MAKE)... yes\r\n",
      "  \u001b[31m   \u001b[0m checking whether make supports nested variables... yes\r\n",
      "  \u001b[31m   \u001b[0m checking whether to enable maintainer-specific portions of Makefiles... no\r\n",
      "  \u001b[31m   \u001b[0m checking whether make supports the include directive... yes (GNU style)\r\n",
      "  \u001b[31m   \u001b[0m checking for gcc... clang\r\n",
      "  \u001b[31m   \u001b[0m checking whether the C compiler works... yes\r\n",
      "  \u001b[31m   \u001b[0m checking for C compiler default output file name... a.out\r\n",
      "  \u001b[31m   \u001b[0m checking for suffix of executables...\r\n",
      "  \u001b[31m   \u001b[0m checking whether we are cross compiling... no\r\n",
      "  \u001b[31m   \u001b[0m checking for suffix of object files... o\r\n",
      "  \u001b[31m   \u001b[0m checking whether the compiler supports GNU C... yes\r\n",
      "  \u001b[31m   \u001b[0m checking whether clang accepts -g... yes\r\n",
      "  \u001b[31m   \u001b[0m checking for clang option to enable C11 features... none needed\r\n",
      "  \u001b[31m   \u001b[0m checking whether clang understands -c and -o together... rm: conftest.dSYM: is a directory\r\n",
      "  \u001b[31m   \u001b[0m yes\r\n",
      "  \u001b[31m   \u001b[0m checking dependency style of clang... gcc3\r\n",
      "  \u001b[31m   \u001b[0m checking for ar... ar\r\n",
      "  \u001b[31m   \u001b[0m checking the archiver (ar) interface... ar\r\n",
      "  \u001b[31m   \u001b[0m checking build system type... aarch64-apple-darwin21.6.0\r\n",
      "  \u001b[31m   \u001b[0m checking host system type... aarch64-apple-darwin21.6.0\r\n",
      "  \u001b[31m   \u001b[0m checking how to print strings... printf\r\n",
      "  \u001b[31m   \u001b[0m checking for a sed that does not truncate output... /opt/homebrew/bin/gsed\r\n",
      "  \u001b[31m   \u001b[0m checking for grep that handles long lines and -e... /opt/homebrew/bin/ggrep\r\n",
      "  \u001b[31m   \u001b[0m checking for egrep... /opt/homebrew/bin/ggrep -E\r\n",
      "  \u001b[31m   \u001b[0m checking for fgrep... /opt/homebrew/bin/ggrep -F\r\n",
      "  \u001b[31m   \u001b[0m checking for ld used by clang... /Applications/Xcode.app/Contents/Developer/Toolchains/XcodeDefault.xctoolchain/usr/bin/ld\r\n",
      "  \u001b[31m   \u001b[0m checking if the linker (/Applications/Xcode.app/Contents/Developer/Toolchains/XcodeDefault.xctoolchain/usr/bin/ld) is GNU ld... no\r\n",
      "  \u001b[31m   \u001b[0m checking for BSD- or MS-compatible name lister (nm)... /usr/bin/nm -B\r\n",
      "  \u001b[31m   \u001b[0m checking the name lister (/usr/bin/nm -B) interface... rm: conftest.dSYM: is a directory\r\n",
      "  \u001b[31m   \u001b[0m BSD nm\r\n",
      "  \u001b[31m   \u001b[0m checking whether ln -s works... yes\r\n",
      "  \u001b[31m   \u001b[0m checking the maximum length of command line arguments... 786432\r\n",
      "  \u001b[31m   \u001b[0m checking how to convert aarch64-apple-darwin21.6.0 file names to aarch64-apple-darwin21.6.0 format... func_convert_file_noop\r\n",
      "  \u001b[31m   \u001b[0m checking how to convert aarch64-apple-darwin21.6.0 file names to toolchain format... func_convert_file_noop\r\n",
      "  \u001b[31m   \u001b[0m checking for /Applications/Xcode.app/Contents/Developer/Toolchains/XcodeDefault.xctoolchain/usr/bin/ld option to reload object files... -r\r\n",
      "  \u001b[31m   \u001b[0m checking for file... file\r\n",
      "  \u001b[31m   \u001b[0m checking for objdump... objdump\r\n",
      "  \u001b[31m   \u001b[0m checking how to recognize dependent libraries... pass_all\r\n",
      "  \u001b[31m   \u001b[0m checking for dlltool... no\r\n",
      "  \u001b[31m   \u001b[0m checking how to associate runtime and link libraries... printf %s\\n\r\n",
      "  \u001b[31m   \u001b[0m checking for archiver @FILE support... rm: conftest.dSYM: is a directory\r\n",
      "  \u001b[31m   \u001b[0m no\r\n",
      "  \u001b[31m   \u001b[0m checking for strip... strip\r\n",
      "  \u001b[31m   \u001b[0m checking for ranlib... ranlib\r\n",
      "  \u001b[31m   \u001b[0m checking command to parse /usr/bin/nm -B output from clang object... rm: conftest.dSYM: is a directory\r\n",
      "  \u001b[31m   \u001b[0m ok\r\n",
      "  \u001b[31m   \u001b[0m checking for sysroot... no\r\n",
      "  \u001b[31m   \u001b[0m checking for a working dd... /bin/dd\r\n",
      "  \u001b[31m   \u001b[0m checking how to truncate binary pipes... /bin/dd bs=4096 count=1\r\n",
      "  \u001b[31m   \u001b[0m checking for mt... no\r\n",
      "  \u001b[31m   \u001b[0m checking if : is a manifest tool... no\r\n",
      "  \u001b[31m   \u001b[0m checking for dsymutil... dsymutil\r\n",
      "  \u001b[31m   \u001b[0m checking for nmedit... nmedit\r\n",
      "  \u001b[31m   \u001b[0m checking for lipo... lipo\r\n",
      "  \u001b[31m   \u001b[0m checking for otool... otool\r\n",
      "  \u001b[31m   \u001b[0m checking for otool64... no\r\n",
      "  \u001b[31m   \u001b[0m checking for -single_module linker flag... yes\r\n",
      "  \u001b[31m   \u001b[0m checking for -exported_symbols_list linker flag... yes\r\n",
      "  \u001b[31m   \u001b[0m checking for -force_load linker flag... yes\r\n",
      "  \u001b[31m   \u001b[0m checking for stdio.h... yes\r\n",
      "  \u001b[31m   \u001b[0m checking for stdlib.h... yes\r\n",
      "  \u001b[31m   \u001b[0m checking for string.h... yes\r\n",
      "  \u001b[31m   \u001b[0m checking for inttypes.h... yes\r\n",
      "  \u001b[31m   \u001b[0m checking for stdint.h... yes\r\n",
      "  \u001b[31m   \u001b[0m checking for strings.h... yes\r\n",
      "  \u001b[31m   \u001b[0m checking for sys/stat.h... yes\r\n",
      "  \u001b[31m   \u001b[0m checking for sys/types.h... yes\r\n",
      "  \u001b[31m   \u001b[0m checking for unistd.h... yes\r\n",
      "  \u001b[31m   \u001b[0m checking for dlfcn.h... yes\r\n",
      "  \u001b[31m   \u001b[0m checking for objdir... .libs\r\n",
      "  \u001b[31m   \u001b[0m checking if clang supports -fno-rtti -fno-exceptions... yes\r\n",
      "  \u001b[31m   \u001b[0m checking for clang option to produce PIC... -fno-common -DPIC\r\n",
      "  \u001b[31m   \u001b[0m checking if clang PIC flag -fno-common -DPIC works... yes\r\n",
      "  \u001b[31m   \u001b[0m checking if clang static flag -static works... no\r\n",
      "  \u001b[31m   \u001b[0m checking if clang supports -c -o file.o... yes\r\n",
      "  \u001b[31m   \u001b[0m checking if clang supports -c -o file.o... (cached) yes\r\n",
      "  \u001b[31m   \u001b[0m checking whether the clang linker (/Applications/Xcode.app/Contents/Developer/Toolchains/XcodeDefault.xctoolchain/usr/bin/ld) supports shared libraries... yes\r\n",
      "  \u001b[31m   \u001b[0m checking dynamic linker characteristics... darwin21.6.0 dyld\r\n",
      "  \u001b[31m   \u001b[0m checking how to hardcode library paths into programs... immediate\r\n",
      "  \u001b[31m   \u001b[0m checking whether stripping libraries is possible... yes\r\n",
      "  \u001b[31m   \u001b[0m checking if libtool supports shared libraries... yes\r\n",
      "  \u001b[31m   \u001b[0m checking whether to build shared libraries... no\r\n",
      "  \u001b[31m   \u001b[0m checking whether to build static libraries... yes\r\n",
      "  \u001b[31m   \u001b[0m checking whether make supports nested variables... (cached) yes\r\n",
      "  \u001b[31m   \u001b[0m checking for gcc... (cached) clang\r\n",
      "  \u001b[31m   \u001b[0m checking whether the compiler supports GNU C... (cached) yes\r\n",
      "  \u001b[31m   \u001b[0m checking whether clang accepts -g... (cached) yes\r\n",
      "  \u001b[31m   \u001b[0m checking for clang option to enable C11 features... (cached) none needed\r\n",
      "  \u001b[31m   \u001b[0m checking whether clang understands -c and -o together... (cached) yes\r\n",
      "  \u001b[31m   \u001b[0m checking dependency style of clang... (cached) gcc3\r\n",
      "  \u001b[31m   \u001b[0m checking for clang option to support OpenMP... unsupported\r\n",
      "  \u001b[31m   \u001b[0m checking whether the compiler supports GNU C++... yes\r\n",
      "  \u001b[31m   \u001b[0m checking whether clang++ accepts -g... yes\r\n",
      "  \u001b[31m   \u001b[0m checking for clang++ option to enable C++11 features... -std=gnu++11\r\n",
      "  \u001b[31m   \u001b[0m checking dependency style of clang++ -std=gnu++11... gcc3\r\n",
      "  \u001b[31m   \u001b[0m checking how to run the C++ preprocessor... clang++ -std=gnu++11 -E\r\n",
      "  \u001b[31m   \u001b[0m checking for ld used by clang++ -std=gnu++11... /Applications/Xcode.app/Contents/Developer/Toolchains/XcodeDefault.xctoolchain/usr/bin/ld\r\n",
      "  \u001b[31m   \u001b[0m checking if the linker (/Applications/Xcode.app/Contents/Developer/Toolchains/XcodeDefault.xctoolchain/usr/bin/ld) is GNU ld... no\r\n",
      "  \u001b[31m   \u001b[0m checking whether the clang++ -std=gnu++11 linker (/Applications/Xcode.app/Contents/Developer/Toolchains/XcodeDefault.xctoolchain/usr/bin/ld) supports shared libraries... yes\r\n",
      "  \u001b[31m   \u001b[0m checking for clang++ -std=gnu++11 option to produce PIC... -fno-common -DPIC\r\n",
      "  \u001b[31m   \u001b[0m checking if clang++ -std=gnu++11 PIC flag -fno-common -DPIC works... yes\r\n",
      "  \u001b[31m   \u001b[0m checking if clang++ -std=gnu++11 static flag -static works... no\r\n",
      "  \u001b[31m   \u001b[0m checking if clang++ -std=gnu++11 supports -c -o file.o... yes\r\n",
      "  \u001b[31m   \u001b[0m checking if clang++ -std=gnu++11 supports -c -o file.o... (cached) yes\r\n",
      "  \u001b[31m   \u001b[0m checking whether the clang++ -std=gnu++11 linker (/Applications/Xcode.app/Contents/Developer/Toolchains/XcodeDefault.xctoolchain/usr/bin/ld) supports shared libraries... yes\r\n",
      "  \u001b[31m   \u001b[0m checking dynamic linker characteristics... darwin21.6.0 dyld\r\n",
      "  \u001b[31m   \u001b[0m checking how to hardcode library paths into programs... immediate\r\n",
      "  \u001b[31m   \u001b[0m checking whether clang++ -std=gnu++11 supports C++11 features by default... yes\r\n",
      "  \u001b[31m   \u001b[0m checking for clang++ -std=gnu++11 option to support OpenMP... unsupported\r\n",
      "  \u001b[31m   \u001b[0m checking pkg-config is at least version 0.9.0... yes\r\n",
      "  \u001b[31m   \u001b[0m checking for zlib... yes\r\n",
      "  \u001b[31m   \u001b[0m checking for cfitsio... yes\r\n",
      "  \u001b[31m   \u001b[0m checking for ffgnrwll in -lcfitsio... no\r\n",
      "  \u001b[31m   \u001b[0m configure: error: could not find the cfitsio library\r\n",
      "  \u001b[31m   \u001b[0m Traceback (most recent call last):\r\n",
      "  \u001b[31m   \u001b[0m   File \"<string>\", line 142, in build_library\r\n",
      "  \u001b[31m   \u001b[0m   File \"<string>\", line 107, in pkgconfig\r\n",
      "  \u001b[31m   \u001b[0m   File \"/Users/bsipocz/.pyenv/versions/3.11.0/lib/python3.11/subprocess.py\", line 465, in check_output\r\n",
      "  \u001b[31m   \u001b[0m     return run(*popenargs, stdout=PIPE, timeout=timeout, check=True,\r\n",
      "  \u001b[31m   \u001b[0m            ^^^^^^^^^^^^^^^^^^^^^^^^^^^^^^^^^^^^^^^^^^^^^^^^^^^^^^^^^\r\n",
      "  \u001b[31m   \u001b[0m   File \"/Users/bsipocz/.pyenv/versions/3.11.0/lib/python3.11/subprocess.py\", line 569, in run\r\n",
      "  \u001b[31m   \u001b[0m     raise CalledProcessError(retcode, process.args,\r\n",
      "  \u001b[31m   \u001b[0m subprocess.CalledProcessError: Command '('pkg-config', '--cflags-only-I', 'healpix_cxx >= 3.80.0')' returned non-zero exit status 1.\r\n",
      "  \u001b[31m   \u001b[0m \r\n",
      "  \u001b[31m   \u001b[0m During handling of the above exception, another exception occurred:\r\n",
      "  \u001b[31m   \u001b[0m \r\n",
      "  \u001b[31m   \u001b[0m Traceback (most recent call last):\r\n",
      "  \u001b[31m   \u001b[0m   File \"/Users/bsipocz/.pyenv/versions/3.11.0/lib/python3.11/site-packages/pip/_vendor/pep517/in_process/_in_process.py\", line 351, in <module>\r\n",
      "  \u001b[31m   \u001b[0m     main()\r\n",
      "  \u001b[31m   \u001b[0m   File \"/Users/bsipocz/.pyenv/versions/3.11.0/lib/python3.11/site-packages/pip/_vendor/pep517/in_process/_in_process.py\", line 333, in main\r\n",
      "  \u001b[31m   \u001b[0m     json_out['return_val'] = hook(**hook_input['kwargs'])\r\n",
      "  \u001b[31m   \u001b[0m                              ^^^^^^^^^^^^^^^^^^^^^^^^^^^^\r\n",
      "  \u001b[31m   \u001b[0m   File \"/Users/bsipocz/.pyenv/versions/3.11.0/lib/python3.11/site-packages/pip/_vendor/pep517/in_process/_in_process.py\", line 249, in build_wheel\r\n",
      "  \u001b[31m   \u001b[0m     return _build_backend().build_wheel(wheel_directory, config_settings,\r\n",
      "  \u001b[31m   \u001b[0m            ^^^^^^^^^^^^^^^^^^^^^^^^^^^^^^^^^^^^^^^^^^^^^^^^^^^^^^^^^^^^^^\r\n",
      "  \u001b[31m   \u001b[0m   File \"/private/var/folders/9s/070g0pd502q70k3gffpxv8km0000gq/T/pip-build-env-g0rlko6_/overlay/lib/python3.11/site-packages/setuptools/build_meta.py\", line 404, in build_wheel\r\n",
      "  \u001b[31m   \u001b[0m     return self._build_with_temp_dir(\r\n",
      "  \u001b[31m   \u001b[0m            ^^^^^^^^^^^^^^^^^^^^^^^^^^\r\n",
      "  \u001b[31m   \u001b[0m   File \"/private/var/folders/9s/070g0pd502q70k3gffpxv8km0000gq/T/pip-build-env-g0rlko6_/overlay/lib/python3.11/site-packages/setuptools/build_meta.py\", line 389, in _build_with_temp_dir\r\n",
      "  \u001b[31m   \u001b[0m     self.run_setup()\r\n",
      "  \u001b[31m   \u001b[0m   File \"/private/var/folders/9s/070g0pd502q70k3gffpxv8km0000gq/T/pip-build-env-g0rlko6_/overlay/lib/python3.11/site-packages/setuptools/build_meta.py\", line 311, in run_setup\r\n",
      "  \u001b[31m   \u001b[0m     exec(code, locals())\r\n",
      "  \u001b[31m   \u001b[0m   File \"<string>\", line 320, in <module>\r\n",
      "  \u001b[31m   \u001b[0m   File \"/private/var/folders/9s/070g0pd502q70k3gffpxv8km0000gq/T/pip-build-env-g0rlko6_/overlay/lib/python3.11/site-packages/setuptools/__init__.py\", line 103, in setup\r\n",
      "  \u001b[31m   \u001b[0m     return distutils.core.setup(**attrs)\r\n",
      "  \u001b[31m   \u001b[0m            ^^^^^^^^^^^^^^^^^^^^^^^^^^^^^\r\n",
      "  \u001b[31m   \u001b[0m   File \"/private/var/folders/9s/070g0pd502q70k3gffpxv8km0000gq/T/pip-build-env-g0rlko6_/overlay/lib/python3.11/site-packages/setuptools/_distutils/core.py\", line 185, in setup\r\n",
      "  \u001b[31m   \u001b[0m     return run_commands(dist)\r\n",
      "  \u001b[31m   \u001b[0m            ^^^^^^^^^^^^^^^^^^\r\n",
      "  \u001b[31m   \u001b[0m   File \"/private/var/folders/9s/070g0pd502q70k3gffpxv8km0000gq/T/pip-build-env-g0rlko6_/overlay/lib/python3.11/site-packages/setuptools/_distutils/core.py\", line 201, in run_commands\r\n",
      "  \u001b[31m   \u001b[0m     dist.run_commands()\r\n",
      "  \u001b[31m   \u001b[0m   File \"/private/var/folders/9s/070g0pd502q70k3gffpxv8km0000gq/T/pip-build-env-g0rlko6_/overlay/lib/python3.11/site-packages/setuptools/_distutils/dist.py\", line 969, in run_commands\r\n",
      "  \u001b[31m   \u001b[0m     self.run_command(cmd)\r\n",
      "  \u001b[31m   \u001b[0m   File \"/private/var/folders/9s/070g0pd502q70k3gffpxv8km0000gq/T/pip-build-env-g0rlko6_/overlay/lib/python3.11/site-packages/setuptools/dist.py\", line 963, in run_command\r\n",
      "  \u001b[31m   \u001b[0m     super().run_command(command)\r\n",
      "  \u001b[31m   \u001b[0m   File \"/private/var/folders/9s/070g0pd502q70k3gffpxv8km0000gq/T/pip-build-env-g0rlko6_/overlay/lib/python3.11/site-packages/setuptools/_distutils/dist.py\", line 988, in run_command\r\n",
      "  \u001b[31m   \u001b[0m     cmd_obj.run()\r\n",
      "  \u001b[31m   \u001b[0m   File \"/private/var/folders/9s/070g0pd502q70k3gffpxv8km0000gq/T/pip-build-env-g0rlko6_/overlay/lib/python3.11/site-packages/wheel/bdist_wheel.py\", line 368, in run\r\n",
      "  \u001b[31m   \u001b[0m     self.run_command(\"build\")\r\n",
      "  \u001b[31m   \u001b[0m   File \"/private/var/folders/9s/070g0pd502q70k3gffpxv8km0000gq/T/pip-build-env-g0rlko6_/overlay/lib/python3.11/site-packages/setuptools/_distutils/cmd.py\", line 318, in run_command\r\n",
      "  \u001b[31m   \u001b[0m     self.distribution.run_command(command)\r\n",
      "  \u001b[31m   \u001b[0m   File \"/private/var/folders/9s/070g0pd502q70k3gffpxv8km0000gq/T/pip-build-env-g0rlko6_/overlay/lib/python3.11/site-packages/setuptools/dist.py\", line 963, in run_command\r\n",
      "  \u001b[31m   \u001b[0m     super().run_command(command)\r\n",
      "  \u001b[31m   \u001b[0m   File \"/private/var/folders/9s/070g0pd502q70k3gffpxv8km0000gq/T/pip-build-env-g0rlko6_/overlay/lib/python3.11/site-packages/setuptools/_distutils/dist.py\", line 988, in run_command\r\n",
      "  \u001b[31m   \u001b[0m     cmd_obj.run()\r\n",
      "  \u001b[31m   \u001b[0m   File \"/private/var/folders/9s/070g0pd502q70k3gffpxv8km0000gq/T/pip-build-env-g0rlko6_/overlay/lib/python3.11/site-packages/setuptools/_distutils/command/build.py\", line 131, in run\r\n",
      "  \u001b[31m   \u001b[0m     self.run_command(cmd_name)\r\n",
      "  \u001b[31m   \u001b[0m   File \"/private/var/folders/9s/070g0pd502q70k3gffpxv8km0000gq/T/pip-build-env-g0rlko6_/overlay/lib/python3.11/site-packages/setuptools/_distutils/cmd.py\", line 318, in run_command\r\n",
      "  \u001b[31m   \u001b[0m     self.distribution.run_command(command)\r\n",
      "  \u001b[31m   \u001b[0m   File \"/private/var/folders/9s/070g0pd502q70k3gffpxv8km0000gq/T/pip-build-env-g0rlko6_/overlay/lib/python3.11/site-packages/setuptools/dist.py\", line 963, in run_command\r\n",
      "  \u001b[31m   \u001b[0m     super().run_command(command)\r\n",
      "  \u001b[31m   \u001b[0m   File \"/private/var/folders/9s/070g0pd502q70k3gffpxv8km0000gq/T/pip-build-env-g0rlko6_/overlay/lib/python3.11/site-packages/setuptools/_distutils/dist.py\", line 988, in run_command\r\n",
      "  \u001b[31m   \u001b[0m     cmd_obj.run()\r\n",
      "  \u001b[31m   \u001b[0m   File \"/private/var/folders/9s/070g0pd502q70k3gffpxv8km0000gq/T/pip-build-env-g0rlko6_/overlay/lib/python3.11/site-packages/setuptools/_distutils/command/build_clib.py\", line 111, in run\r\n",
      "  \u001b[31m   \u001b[0m     self.build_libraries(self.libraries)\r\n",
      "  \u001b[31m   \u001b[0m   File \"<string>\", line 272, in build_libraries\r\n",
      "  \u001b[31m   \u001b[0m   File \"<string>\", line 194, in build_library\r\n",
      "  \u001b[31m   \u001b[0m   File \"/Users/bsipocz/.pyenv/versions/3.11.0/lib/python3.11/subprocess.py\", line 413, in check_call\r\n",
      "  \u001b[31m   \u001b[0m     raise CalledProcessError(retcode, cmd)\r\n",
      "  \u001b[31m   \u001b[0m subprocess.CalledProcessError: Command '['/bin/sh', '/private/var/folders/9s/070g0pd502q70k3gffpxv8km0000gq/T/pip-install-xvs87ft4/healpy_b62a0cd5b3a3405aae11b091d17cda44/healpixsubmodule/src/cxx/configure', '--prefix=/private/var/folders/9s/070g0pd502q70k3gffpxv8km0000gq/T/pip-install-xvs87ft4/healpy_b62a0cd5b3a3405aae11b091d17cda44/build/temp.macosx-12.5-arm64-cpython-311', '--disable-shared', '--with-pic', '--disable-maintainer-mode']' returned non-zero exit status 1.\r\n",
      "  \u001b[31m   \u001b[0m \u001b[31m[end of output]\u001b[0m\r\n",
      "  \r\n",
      "  \u001b[1;35mnote\u001b[0m: This error originates from a subprocess, and is likely not a problem with pip.\r\n",
      "\u001b[31m  ERROR: Failed building wheel for healpy\u001b[0m\u001b[31m\r\n",
      "\u001b[0m\u001b[?25hFailed to build healpy\r\n",
      "\u001b[31mERROR: Could not build wheels for healpy, which is required to install pyproject.toml-based projects\u001b[0m\u001b[31m\r\n",
      "\u001b[0m"
     ]
    },
    {
     "name": "stdout",
     "output_type": "stream",
     "text": [
      "\r\n",
      "\u001b[1m[\u001b[0m\u001b[34;49mnotice\u001b[0m\u001b[1;39;49m]\u001b[0m\u001b[39;49m A new release of pip available: \u001b[0m\u001b[31;49m22.3\u001b[0m\u001b[39;49m -> \u001b[0m\u001b[32;49m23.3.1\u001b[0m\r\n",
      "\u001b[1m[\u001b[0m\u001b[34;49mnotice\u001b[0m\u001b[1;39;49m]\u001b[0m\u001b[39;49m To update, run: \u001b[0m\u001b[32;49mpip install --upgrade pip\u001b[0m\r\n"
     ]
    }
   ],
   "source": [
    "#ensure all dependencies are installed\n",
    "!pip install -r requirements.txt"
   ]
  },
  {
   "cell_type": "code",
   "execution_count": 2,
   "id": "7e981c1e",
   "metadata": {},
   "outputs": [
    {
     "ename": "ModuleNotFoundError",
     "evalue": "No module named 'statsmodels'",
     "output_type": "error",
     "traceback": [
      "\u001b[0;31m---------------------------------------------------------------------------\u001b[0m",
      "\u001b[0;31mModuleNotFoundError\u001b[0m                       Traceback (most recent call last)",
      "Cell \u001b[0;32mIn [2], line 19\u001b[0m\n\u001b[1;32m     17\u001b[0m \u001b[38;5;28;01mimport\u001b[39;00m \u001b[38;5;21;01mpandas\u001b[39;00m \u001b[38;5;28;01mas\u001b[39;00m \u001b[38;5;21;01mpd\u001b[39;00m\n\u001b[1;32m     18\u001b[0m \u001b[38;5;28;01mimport\u001b[39;00m \u001b[38;5;21;01mseaborn\u001b[39;00m \u001b[38;5;28;01mas\u001b[39;00m \u001b[38;5;21;01msns\u001b[39;00m\n\u001b[0;32m---> 19\u001b[0m \u001b[38;5;28;01mimport\u001b[39;00m \u001b[38;5;21;01mstatsmodels\u001b[39;00m\n\u001b[1;32m     20\u001b[0m \u001b[38;5;28;01mimport\u001b[39;00m \u001b[38;5;21;01mmpld3\u001b[39;00m\n\u001b[1;32m     21\u001b[0m \u001b[38;5;28;01mfrom\u001b[39;00m \u001b[38;5;21;01mtqdm\u001b[39;00m \u001b[38;5;28;01mimport\u001b[39;00m tqdm\n",
      "\u001b[0;31mModuleNotFoundError\u001b[0m: No module named 'statsmodels'"
     ]
    }
   ],
   "source": [
    "# standard lib imports\n",
    "\n",
    "import math\n",
    "import time\n",
    "import warnings\n",
    "import concurrent.futures\n",
    "import sys\n",
    "import os\n",
    "import re\n",
    "from typing import NamedTuple\n",
    "\n",
    "# Third party imports\n",
    "\n",
    "import numpy as np\n",
    "import matplotlib.pyplot as plt\n",
    "from skimage.transform import rotate\n",
    "import pandas as pd\n",
    "import seaborn as sns\n",
    "import statsmodels\n",
    "import mpld3\n",
    "from tqdm import tqdm\n",
    "\n",
    "from astropy.nddata import Cutout2D\n",
    "from astropy.io import fits\n",
    "from astropy.table import Table\n",
    "from astropy.coordinates import SkyCoord\n",
    "import astropy.units as u\n",
    "\n",
    "from astroquery.ipac.irsa import Irsa\n",
    "from astroquery.heasarc import Heasarc\n",
    "from astroquery.mast import Observations\n",
    "import pyvo\n",
    "\n",
    "# Local code imports\n",
    "sys.path.append('code_src/')\n",
    "\n",
    "from display_images import display_images\n",
    "import cutout\n",
    "from exceptions import TractorError\n",
    "import photometry\n",
    "from plot_SED import plot_SED\n",
    "from nway_write_header import nway_write_header\n",
    "from photometry import Band\n",
    "from photometry import lookup_img_pair\n",
    "#from prepare_prf import prepare_prf\n",
    "\n",
    "# temporarily let the notebook start without tractor as dependency\n",
    "try:\n",
    "    from find_nconfsources import find_nconfsources\n",
    "except ImportError:\n",
    "    print(\"tractor is missing\")\n",
    "    pass\n",
    "\n",
    "\n",
    "%matplotlib inline"
   ]
  },
  {
   "cell_type": "markdown",
   "id": "dff45e7f",
   "metadata": {},
   "source": [
    "## 1. Retrieve Initial Catalog from IRSA\n",
    "- Automatically set up a catalog with ra, dec, photometric redshifts, fiducial band fluxes, & probability that it is a star\n",
    "- Catalog we are using is COSMOS2015 (Laigle et al. 2016)\n",
    "- Data exploration"
   ]
  },
  {
   "cell_type": "code",
   "execution_count": null,
   "id": "37942832",
   "metadata": {},
   "outputs": [],
   "source": [
    "#pull a COSMOS catalog from IRSA using pyVO\n",
    "\n",
    "#what is the central RA and DEC of the desired catalog\n",
    "coords = SkyCoord('150.01d 2.2d', frame='icrs')  #COSMOS center acording to Simbad\n",
    "\n",
    "#how large is the search radius, in arcmin\n",
    "radius = 48.0 * u.arcmin\n",
    "\n",
    "#specify only select columns to limit the size of the catalog\n",
    "cols = [\n",
    "    'ra', 'dec', 'id', 'Ks_FLUX_APER2', 'Ks_FLUXERR_APER2', 'PHOTOZ', 'SPLASH_1_MAG',\n",
    "    'SPLASH_1_MAGERR', 'SPLASH_1_FLUX', 'SPLASH_1_FLUX_ERR', 'SPLASH_2_FLUX',\n",
    "    'SPLASH_2_FLUX_ERR', 'SPLASH_3_FLUX', 'SPLASH_3_FLUX_ERR', 'SPLASH_4_FLUX',\n",
    "    'SPLASH_4_FLUX_ERR', 'FLUX_GALEX_NUV', 'FLUX_GALEX_FUV', 'FLUX_CHANDRA_05_2',\n",
    "    'FLUX_CHANDRA_2_10', 'FLUX_CHANDRA_05_10', 'ID_CHANDRA09 ', 'type', 'r_MAG_AUTO',\n",
    "    'r_MAGERR_AUTO', 'FLUX_24', 'FLUXERR_24', 'MAG_GALEX_NUV', 'MAGERR_GALEX_NUV',\n",
    "    'MAG_GALEX_FUV', 'MAGERR_GALEX_FUV'\n",
    "]\n",
    "\n",
    "tap = pyvo.dal.TAPService('https://irsa.ipac.caltech.edu/TAP')\n",
    "result = tap.run_sync(\"\"\"\n",
    "           SELECT {}\n",
    "           FROM cosmos2015\n",
    "           WHERE CONTAINS(POINT('ICRS',ra, dec), CIRCLE('ICRS',{}, {}, {}))=1\n",
    "    \"\"\".format(','.join(cols), coords.ra.value, coords.dec.value, radius.to(u.deg).value))\n",
    "cosmos_table = result.to_table()\n",
    "\n",
    "\n",
    "print(\"Number of objects: \", len(cosmos_table))"
   ]
  },
  {
   "cell_type": "markdown",
   "id": "2b3e8cd4",
   "metadata": {},
   "source": [
    "### 1a. Filter Catalog\n",
    "- if desired could filter the initial catalog to only include desired sources"
   ]
  },
  {
   "cell_type": "code",
   "execution_count": null,
   "id": "ac745f5b",
   "metadata": {},
   "outputs": [],
   "source": [
    "#an example of how to filter the catalog to\n",
    "#select those rows with either chandra fluxes or Galex NUV fluxes\n",
    "\n",
    "#example_table = cosmos_table[(cosmos_table['flux_chandra_05_10']> 0) | (cosmos_table['flux_galex_fuv'] > 0)]\n"
   ]
  },
  {
   "cell_type": "markdown",
   "id": "ed3b6489",
   "metadata": {},
   "source": [
    "## 2. Retrieve Image Datasets from the Cloud"
   ]
  },
  {
   "cell_type": "markdown",
   "id": "97838083",
   "metadata": {},
   "source": [
    "#### Use the fornax cloud access API to obtain the IRAC data from the IRSA S3 bucket.\n",
    "\n",
    "Details here may change as the prototype code is being added to the appropriate libraries, as well as the data holding to the appropriate NGAP storage as opposed to IRSA resources."
   ]
  },
  {
   "cell_type": "code",
   "execution_count": null,
   "id": "6f92d6e4",
   "metadata": {},
   "outputs": [],
   "source": [
    "# Temporary solution, remove when the fornax API is added to the image\n",
    "# This relies on the assumption that https://github.com/fornax-navo/fornax-cloud-access-API is being cloned to this environment.\n",
    "# If it's not, then run a ``git clone https://github.com/fornax-navo/fornax-cloud-access-API --depth=1`` from a terminal at the highest directory root.\n",
    "# You may need to update the fork if you forked it in the past\n",
    "\n",
    "import os\n",
    "if not os.path.exists('../../fornax-cloud-access-API'):\n",
    "    ! git clone https://github.com/fornax-navo/fornax-cloud-access-API --depth=1 ../../fornax-cloud-access-API"
   ]
  },
  {
   "cell_type": "code",
   "execution_count": null,
   "id": "17ea4fc9",
   "metadata": {},
   "outputs": [],
   "source": [
    "sys.path.append('../../fornax-cloud-access-API')\n",
    "\n",
    "import pyvo\n",
    "import fornax"
   ]
  },
  {
   "cell_type": "code",
   "execution_count": null,
   "id": "0b8fc2f9",
   "metadata": {},
   "outputs": [],
   "source": [
    "# Getting the COSMOS address from the registry to follow PyVO user case approach. We could hardwire it.\n",
    "image_services = pyvo.regsearch(servicetype='image')\n",
    "irsa_cosmos = [s for s in image_services if 'irsa' in s.ivoid and 'cosmos' in s.ivoid][0]\n",
    "\n",
    "# The search returns 11191 entries, but unfortunately we cannot really filter efficiently in the query\n",
    "# itself (https://irsa.ipac.caltech.edu/applications/Atlas/AtlasProgramInterface.html#inputparam)\n",
    "# to get only the Spitzer IRAC results from COSMOS as a mission. We will do the filtering in a next step before download.\n",
    "cosmos_results = irsa_cosmos.search(coords).to_table()\n",
    "\n",
    "spitzer = cosmos_results[cosmos_results['dataset'] == 'IRAC']"
   ]
  },
  {
   "cell_type": "code",
   "execution_count": null,
   "id": "7ee1c33c",
   "metadata": {},
   "outputs": [],
   "source": [
    "# Temporarily add the cloud_access metadata to the Atlas response.\n",
    "# This dataset has limited acces, thus 'region' should be used instead of 'open'.\n",
    "# S3 access should be available from the daskhub and those who has their IRSA token set up.\n",
    "\n",
    "fname = spitzer['fname']\n",
    "spitzer['cloud_access'] = [(f'{{\"aws\": {{ \"bucket_name\": \"irsa-mast-tike-spitzer-data\",'\n",
    "                            f'              \"region\": \"us-east-1\",'\n",
    "                            f'              \"access\": \"restricted\",'\n",
    "                            f'              \"key\": \"data/COSMOS/{fn}\" }} }}') for fn in fname]"
   ]
  },
  {
   "cell_type": "code",
   "execution_count": null,
   "id": "e917658c",
   "metadata": {},
   "outputs": [],
   "source": [
    "# Adding function to download multiple files using the fornax API.\n",
    "# Requires https://github.com/fornax-navo/fornax-cloud-access-API/pull/4\n",
    "def fornax_download(data_table, data_subdirectory, access_url_column='access_url',\n",
    "                    fname_filter=None, verbose=False):\n",
    "    working_dir = os.getcwd()\n",
    "\n",
    "    data_directory = f\"data/{data_subdirectory}\"\n",
    "    os.chdir(data_directory)\n",
    "    for row in data_table:\n",
    "        if fname_filter is not None and fname_filter not in row['fname']:\n",
    "            continue\n",
    "        handler = fornax.get_data_product(row, 'aws', access_url_column=access_url_column, verbose=verbose)\n",
    "        temp_file = handler.download()\n",
    "        # on-prem download returns temp file path, s3 download downloads file\n",
    "        if temp_file:\n",
    "            os.rename(temp_file, os.path.basename(row['fname']))\n",
    "\n",
    "    os.chdir(working_dir)"
   ]
  },
  {
   "cell_type": "code",
   "execution_count": null,
   "id": "2d9c7488",
   "metadata": {},
   "outputs": [],
   "source": [
    "fornax_download(spitzer, access_url_column='sia_url', fname_filter='go2_sci',\n",
    "                data_subdirectory='IRAC', verbose=False)"
   ]
  },
  {
   "cell_type": "markdown",
   "id": "b6136373",
   "metadata": {},
   "source": [
    "#### Use IVOA image search and Fornax download to obtain Galex from the MAST archive"
   ]
  },
  {
   "cell_type": "code",
   "execution_count": null,
   "id": "ad4102ad",
   "metadata": {},
   "outputs": [],
   "source": [
    "#the Galex mosaic of COSMOS is broken into 4 seperate images\n",
    "#need to know which Galex image the targets are nearest to.\n",
    "#make a new column in dataframe which figures this out\n",
    "\n",
    "#four centers for 1, 2, 3, 4 are\n",
    "ra_center=[150.369,150.369,149.869,149.869]\n",
    "dec_center=[2.45583,1.95583,2.45583,1.95583]\n",
    "\n",
    "galex = SkyCoord(ra = ra_center*u.degree, dec = dec_center*u.degree)\n",
    "catalog = SkyCoord(ra = cosmos_table['ra'], dec = cosmos_table['dec'])\n",
    "#idx, d2d, d3d = match_coordinates_sky(galex, catalog)  #only finds the nearest one\n",
    "#idx, d2d, d3d = galex.match_to_catalog_sky(catalog)  #only finds the nearest one\n",
    "\n",
    "cosmos_table['COSMOS_01'] = galex[0].separation(catalog)\n",
    "cosmos_table['COSMOS_02'] = galex[1].separation(catalog)\n",
    "cosmos_table['COSMOS_03'] = galex[2].separation(catalog)\n",
    "cosmos_table['COSMOS_04'] = galex[3].separation(catalog)\n",
    "\n",
    "#convert to pandas\n",
    "df = cosmos_table.to_pandas()\n",
    "\n",
    "#which row has the minimum value of distance to the galex images\n",
    "df['galex_image'] = df[['COSMOS_01','COSMOS_02','COSMOS_03','COSMOS_04']].idxmin(axis = 1)"
   ]
  },
  {
   "cell_type": "code",
   "execution_count": null,
   "id": "ce34176f",
   "metadata": {},
   "outputs": [],
   "source": [
    "# 76k with 15arcmin diameter IRAC images\n",
    "df.describe()"
   ]
  },
  {
   "cell_type": "code",
   "execution_count": null,
   "id": "ce731f0e",
   "metadata": {},
   "outputs": [],
   "source": [
    "# Assign the endpoint for the MAST Galex Simple Image Access service.\n",
    "galex_sia_url = 'https://mast.stsci.edu/portal_vo/Mashup/VoQuery.asmx/SiaV1?MISSION=GALEX&'\n",
    "\n",
    "# Query the Galex SIA service using the COSMOS coordinates defined above.\n",
    "query_result = pyvo.dal.sia.search(galex_sia_url, pos=coords, size=0.0)\n",
    "galex_image_products = query_result.to_table()\n",
    "\n",
    "# Filter the products so we only download SCIENCE products with exposure time > 40000\n",
    "filtered_products = galex_image_products[(galex_image_products['timExposure'] > 40000.0)]\n",
    "filtered_products = filtered_products[(filtered_products['productType'] == \"SCIENCE\")]\n",
    "\n",
    "# The column containing the on-prem access to fall back on if cloud is unavailable\n",
    "access_url_column = query_result.fieldname_with_ucd('VOX:Image_AccessReference')\n",
    "\n",
    "# Download filtered products from AWS\n",
    "download_subdir = 'Galex'\n",
    "fornax_download(filtered_products, access_url_column=access_url_column, data_subdirectory=download_subdir)"
   ]
  },
  {
   "cell_type": "code",
   "execution_count": null,
   "id": "ed93c86a",
   "metadata": {},
   "outputs": [],
   "source": [
    "# Get the GALEX sky background fits files in addition to the mosaics\n",
    "skybg_products = []\n",
    "skybkg_pattern = re.compile(r\"COSMOS_0[1-4]-[fn]d-skybg\")\n",
    "\n",
    "for row in galex_image_products:\n",
    "    if skybkg_pattern.search(row['name']):\n",
    "        skybg_products.append(row)\n",
    "\n",
    "# Download skybg products from AWS\n",
    "download_subdir = 'Galex'\n",
    "fornax_download(skybg_products, access_url_column=access_url_column, data_subdirectory=download_subdir)"
   ]
  },
  {
   "cell_type": "code",
   "execution_count": null,
   "id": "716b7366",
   "metadata": {},
   "outputs": [],
   "source": [
    "#make sure there aren't any troublesome rows in the catalog\n",
    "#are there missing values in any rows?\n",
    "df.isna().sum()\n",
    "\n",
    "#don't mind that there are missing values for some of the fluxes\n",
    "#The rest of the rows are complete"
   ]
  },
  {
   "cell_type": "code",
   "execution_count": null,
   "id": "f7cb453c",
   "metadata": {},
   "outputs": [],
   "source": [
    "#out of curiosity how many of each type of source are in this catalog\n",
    "#Type: 0 = galaxy, 1 = star, 2 = X-ray source, -9 is failure to fit\n",
    "df.type.value_counts()"
   ]
  },
  {
   "cell_type": "markdown",
   "id": "6fb031a8",
   "metadata": {},
   "source": [
    "## 3.  Run Forced Photometry\n",
    "- Calculate a flux at a given position in 2 IRAC and 2 Galex bands"
   ]
  },
  {
   "cell_type": "markdown",
   "id": "fb77935b",
   "metadata": {},
   "source": [
    "### 3a. Setup\n",
    "- initialize data frame columns to hold the results\n",
    "- collect the parameters for each band/channel\n",
    "- collect the input images"
   ]
  },
  {
   "cell_type": "code",
   "execution_count": null,
   "id": "17a58a8b",
   "metadata": {},
   "outputs": [],
   "source": [
    "# initialize columns in data frame for photometry results\n",
    "cols = [\"ch1flux\", \"ch1flux_unc\", \"ch2flux\", \"ch2flux_unc\", \"ch3flux\", \"ch3flux_unc\",\n",
    "        \"ch4flux\", \"ch4flux_unc\", \"ch5flux\", \"ch5flux_unc\", \"ch6flux\", \"ch6flux_unc\"]\n",
    "df[cols] = 0.0\n",
    "\n",
    "# list to collect all the bands\n",
    "all_bands = []"
   ]
  },
  {
   "cell_type": "code",
   "execution_count": null,
   "id": "d1ffadda",
   "metadata": {},
   "outputs": [],
   "source": [
    "# IRAC channels\n",
    "\n",
    "irac_band_indexes = [\n",
    "    0,  # ch1\n",
    "    1,  # ch2\n",
    "    2,  # ch3\n",
    "    3,  # ch4\n",
    "]\n",
    "\n",
    "irac_fluxconversion = (1E12) / (4.254517E10) * (0.6) *(0.6)\n",
    "\n",
    "irac_mosaic_pix_scale = 0.6\n",
    "\n",
    "irac_cutout_width = 10 # in arcseconds, taken from Nyland et al. 2017\n",
    "\n",
    "irac_prfs = [\n",
    "    fits.open('data/IRAC/PRF_IRAC_ch1.fits')[0].data,\n",
    "    fits.open('data/IRAC/PRF_IRAC_ch2.fits')[0].data,\n",
    "    fits.open('data/IRAC/PRF_IRAC_ch3.fits')[0].data,\n",
    "    fits.open('data/IRAC/PRF_IRAC_ch4.fits')[0].data,\n",
    "]\n",
    "\n",
    "# zip parameters for each band into a container and append to the master list\n",
    "irac_bands = [\n",
    "    Band(\n",
    "        idx, prf, irac_cutout_width, irac_fluxconversion, irac_mosaic_pix_scale\n",
    "    )\n",
    "    for idx, prf in zip(irac_band_indexes, irac_prfs)\n",
    "]\n",
    "all_bands += irac_bands"
   ]
  },
  {
   "cell_type": "code",
   "execution_count": null,
   "id": "fd51de9e",
   "metadata": {},
   "outputs": [],
   "source": [
    "# GALEX bands\n",
    "\n",
    "galex_band_indexes = [\n",
    "    4,  # nuv\n",
    "    5,  # fuv\n",
    "]\n",
    "\n",
    "galex_cutout_width = 40\n",
    "\n",
    "galex_fluxconversions = [\n",
    "    3.373E1,  # uJy. fudging this to make the numbers bigger for plotting later\n",
    "    1.076E2,  # uJy. fudging this to make the numbers bigger for plotting later\n",
    "]\n",
    "\n",
    "galex_mosaic_pix_scale = 1.5\n",
    "\n",
    "prf_nuv = fits.open(\"data/Galex/PSFnuv_faint.fits\")[0].data\n",
    "prf_fuv = fits.open(\"data/Galex/PSFfuv.fits\")[0].data\n",
    "prf_nuv = prf_nuv[0:119, 0:119]\n",
    "prf_fuv = prf_fuv[0:119, 0:119]\n",
    "\n",
    "#these are much larger than the cutouts we are using, so only keep the central region which is the size of our cutouts\n",
    "ngalex_pix = galex_cutout_width / galex_mosaic_pix_scale\n",
    "prf_cen = int(60)\n",
    "prf_nuv = prf_nuv[(prf_cen - int(ngalex_pix / 2) - 1) : (prf_cen + int(ngalex_pix / 2)),\n",
    "                  (prf_cen - int(ngalex_pix / 2) - 1) : (prf_cen + int(ngalex_pix / 2))]\n",
    "prf_fuv = prf_fuv[(prf_cen - int(ngalex_pix / 2) - 1) : (prf_cen + int(ngalex_pix / 2)),\n",
    "                  (prf_cen - int(ngalex_pix / 2) - 1) : (prf_cen + int(ngalex_pix / 2))]\n",
    "galex_prfs = [prf_nuv, prf_fuv]\n",
    "\n",
    "# zip parameters for each band into a container and append to the master list\n",
    "galex_bands = [\n",
    "    Band(\n",
    "        idx, prf, galex_cutout_width, flux_conv, galex_mosaic_pix_scale\n",
    "    )\n",
    "    for idx, prf, flux_conv in zip(galex_band_indexes, galex_prfs, galex_fluxconversions)\n",
    "]\n",
    "all_bands += galex_bands"
   ]
  },
  {
   "cell_type": "code",
   "execution_count": null,
   "id": "23b7b69a",
   "metadata": {},
   "outputs": [],
   "source": [
    "#Collect input images\n",
    "# collect the files in pairs: (science image, sky-background image)\n",
    "# if the same file should be used for both, just send it once\n",
    "sci_bkg_pairs = [\n",
    "    # IRAC. use the science image to calculate the background\n",
    "    ('data/IRAC/irac_ch1_go2_sci_10.fits', ),\n",
    "    ('data/IRAC/irac_ch2_go2_sci_10.fits', ),\n",
    "    ('data/IRAC/irac_ch3_go2_sci_10.fits', ),\n",
    "    ('data/IRAC/irac_ch4_go2_sci_10.fits', ),\n",
    "    # GALEX. calculate the background from a dedicated file\n",
    "    ('data/Galex/COSMOS_01-nd-int.fits.gz', 'data/Galex/COSMOS_01-nd-skybg.fits.gz'),\n",
    "    ('data/Galex/COSMOS_01-fd-int.fits.gz', 'data/Galex/COSMOS_01-fd-skybg.fits.gz'),\n",
    "    ('data/Galex/COSMOS_02-nd-int.fits.gz', 'data/Galex/COSMOS_02-nd-skybg.fits.gz'),\n",
    "    ('data/Galex/COSMOS_02-fd-int.fits.gz', 'data/Galex/COSMOS_02-fd-skybg.fits.gz'),\n",
    "    ('data/Galex/COSMOS_03-nd-int.fits.gz', 'data/Galex/COSMOS_03-nd-skybg.fits.gz'),\n",
    "    ('data/Galex/COSMOS_03-fd-int.fits.gz', 'data/Galex/COSMOS_03-fd-skybg.fits.gz'),\n",
    "    ('data/Galex/COSMOS_04-nd-int.fits.gz', 'data/Galex/COSMOS_04-nd-skybg.fits.gz'),\n",
    "    ('data/Galex/COSMOS_04-fd-int.fits.gz', 'data/Galex/COSMOS_04-fd-skybg.fits.gz'),\n",
    "]\n"
   ]
  },
  {
   "cell_type": "markdown",
   "id": "84f82876",
   "metadata": {},
   "source": [
    "### 3b. Main Function to do the Forced Photometry"
   ]
  },
  {
   "cell_type": "code",
   "execution_count": null,
   "id": "ebde7422",
   "metadata": {},
   "outputs": [],
   "source": [
    "def calc_instrflux(band, ra, dec, stype, ks_flux_aper2, img_pair, df):\n",
    "    \"\"\"\n",
    "    Calculate single-band instrumental fluxes and uncertainties at the given ra, dec\n",
    "    using tractor.\n",
    "\n",
    "    Parameters:\n",
    "    -----------\n",
    "    band : `Band`\n",
    "        Collection of parameters for a single band.\n",
    "        A `Band` is a named tuple with the following attributes:\n",
    "            idx : int\n",
    "                Identifier for the band/channel.\n",
    "                (integer in [0, 1, 2, 3, 4, 5] for the four IRAC bands and two Galex bands)\n",
    "            prf : np.ndarray\n",
    "                Point spread function for the band/channel.\n",
    "            cutout_width : int\n",
    "                width of desired cutout in arcseconds\n",
    "            flux_conv : float\n",
    "                factor used to convert tractor result to microjanskies\n",
    "            mosaic_pix_scale : float\n",
    "                Pixel scale of the image\n",
    "    ra, dec : float\n",
    "        celestial coordinates for measuring photometry\n",
    "    stype : int\n",
    "        0, 1, 2, -9 for star, galaxy, x-ray source\n",
    "    ks_flux_aper_2 : float\n",
    "        flux in aperture 2\n",
    "    img_pair : tuple\n",
    "        Pair of images for science and background respectively.\n",
    "        If the tuple only contains one element it will serve double duty.\n",
    "        A tuple element can be a `fits.ImageHDU` or the path to a FITS file as a `str`.\n",
    "    df : pd.DataFrame\n",
    "        Source catalog.\n",
    "        Previous arguments (ra, dec, stype, ks_flux_aper_2) come from a single row of this df.\n",
    "        However, we must also pass the entire dataframe in order to find nearby sources which are possible contaminates.\n",
    "\n",
    "    Returns:\n",
    "    --------\n",
    "    outband : int\n",
    "        reflects the input band index for identification purposes\n",
    "    flux : float\n",
    "        Measured flux in microJansky.\n",
    "        NaN if the forced photometery failed.\n",
    "    flux_unc : float\n",
    "        Flux uncertainty in microJansky, calculated from the tractor results.\n",
    "        NaN if the forced photometery failed or if tractor didn't report a flux variance.\n",
    "    \"\"\"\n",
    "    # cutout a small region around the object of interest\n",
    "    subimage, bkgsubimage, x1, y1, subimage_wcs = cutout.extract_pair(\n",
    "        ra, dec, img_pair=img_pair, cutout_width=band.cutout_width, mosaic_pix_scale=band.mosaic_pix_scale\n",
    "    )\n",
    "\n",
    "    # find nearby sources that are possible contaminants\n",
    "    objsrc, nconfsrcs = find_nconfsources(\n",
    "        ra, dec, stype, ks_flux_aper2, x1, y1, band.cutout_width, subimage_wcs, df\n",
    "    )\n",
    "\n",
    "    # estimate the background\n",
    "    skymean, skynoise = photometry.calc_background(bkgsubimage=bkgsubimage)\n",
    "\n",
    "    # do the forced photometry\n",
    "    # if tractor fails to converge, just return NaNs\n",
    "    try:\n",
    "        flux_var = photometry.run_tractor(\n",
    "            subimage=subimage, prf=band.prf, objsrc=objsrc, skymean=skymean, skynoise=skynoise\n",
    "        )\n",
    "    except TractorError:\n",
    "        return (band.idx, np.nan, np.nan)\n",
    "\n",
    "    # convert the results\n",
    "    microJy_flux, microJy_unc = photometry.interpret_tractor_results(\n",
    "        flux_var=flux_var, flux_conv=band.flux_conv, objsrc=objsrc, nconfsrcs=nconfsrcs\n",
    "    )\n",
    "\n",
    "    return (band.idx, microJy_flux, microJy_unc)"
   ]
  },
  {
   "cell_type": "markdown",
   "id": "e9c755cd",
   "metadata": {},
   "source": [
    "### 3c. Calculate Forced Photometry with Straightforward but Slow Method\n",
    "- no longer in use but keeping to demonstrate this capability\\\n",
    "as well as the increase in speed when going to parallelization"
   ]
  },
  {
   "cell_type": "raw",
   "id": "f99ad0a0",
   "metadata": {},
   "source": [
    "%%time\n",
    "#do the calculation without multiprocessing for benchmarking\n",
    "\n",
    "#make a copy for parallel computation\n",
    "pl_df = df.copy(deep=True)\n",
    "\n",
    "t0 = time.time()\n",
    "#for each object\n",
    "for row in df.itertuples():\n",
    "    #for each band\n",
    "    for band in range(6):\n",
    "        #measure the flux with tractor\n",
    "        outband, flux, unc = calc_instrflux(band, row.ra, row.dec, row.type, row.ks_flux_aper2)\n",
    "        #put the results back into the dataframe\n",
    "        df.loc[row.Index, 'ch{:d}flux'.format(outband+1)] = flux\n",
    "        df.loc[row.Index, 'ch{:d}flux_unc'.format(outband+1)] = unc\n",
    "        #print(row.ra, row.dec, row.type, row.ks_flux_aper2, band+1,\n",
    "        #      outband, flux, unc)\n",
    "t1 = time.time()\n",
    "\n",
    "\n",
    "#10,000 sources took 1.5 hours with this code on the IPAC SP"
   ]
  },
  {
   "cell_type": "markdown",
   "id": "ce4c3734",
   "metadata": {},
   "source": [
    "### 3d. Calculate Forced Photometry - Parallelization\n",
    "- Parallelization: we can either interate over the rows of the dataframe and run the four bands in parallel; or we could zip together the row index, band, ra, dec,"
   ]
  },
  {
   "cell_type": "code",
   "execution_count": null,
   "id": "e6427d90",
   "metadata": {},
   "outputs": [],
   "source": [
    "paramlist = []\n",
    "for row in df.itertuples():\n",
    "    for band in all_bands:\n",
    "        img_pair = lookup_img_pair(sci_bkg_pairs, band.idx, row.galex_image)  # file paths only\n",
    "        paramlist.append(\n",
    "            [row.Index, band, row.ra, row.dec, row.type, row.ks_flux_aper2, img_pair, df]\n",
    "        )\n",
    "print('paramlist: ', len(paramlist))"
   ]
  },
  {
   "cell_type": "code",
   "execution_count": null,
   "id": "3dc8f529",
   "metadata": {},
   "outputs": [],
   "source": [
    "#proove we can do this for one object\n",
    "calc_instrflux(*paramlist[0][1:])\n",
    "\n",
    "#same thing, different syntax\n",
    "# calc_instrflux(paramlist[0][1], paramlist[0][2], paramlist[0][3], paramlist[0][4], paramlist[0][5], paramlist[0][6])"
   ]
  },
  {
   "cell_type": "code",
   "execution_count": null,
   "id": "49ff52e5",
   "metadata": {},
   "outputs": [],
   "source": [
    "#wrapper to measure the photometry on a single object, single band\n",
    "def calculate_flux(args):\n",
    "    \"\"\"Calculate flux.\"\"\"\n",
    "    val = calc_instrflux(*args[1:])\n",
    "    # add simple logging\n",
    "    if (args[0] % 100) == 0 and val[0] == 0:\n",
    "        with open('output/output.log', 'a') as fp: fp.write(f'{args[0]}\\n')\n",
    "    return(args[0], val)"
   ]
  },
  {
   "cell_type": "code",
   "execution_count": null,
   "id": "783ccb16",
   "metadata": {},
   "outputs": [],
   "source": [
    "# if results were previously saved to this location, load them\n",
    "# else start a pool of workers to calculate results in parallel, and save them here\n",
    "fname = f'output/results_{radius.value}.npz'\n",
    "\n",
    "if os.path.exists(fname):\n",
    "    results = np.load(fname, allow_pickle=True)['results']\n",
    "\n",
    "else:\n",
    "    from  multiprocessing import Pool\n",
    "    t0 = time.time()\n",
    "    with open('output/output.log', 'w') as fp: fp.write('')\n",
    "    with Pool() as pool:\n",
    "        results = pool.map(calculate_flux, paramlist)\n",
    "    dtime = time.time() - t0\n",
    "    np.savez(fname, results=results)\n",
    "    print(f'Parallel calculation took {dtime} seconds')"
   ]
  },
  {
   "cell_type": "code",
   "execution_count": null,
   "id": "9479facd",
   "metadata": {},
   "outputs": [],
   "source": [
    "## put the results into the main daraframe\n",
    "for res in results:\n",
    "    idx,(ich, val, err) = res\n",
    "    df.loc[idx, f'ch{ich+1}flux'] = val\n",
    "    df.loc[idx, f'ch{ich+1}flux_unc'] = err"
   ]
  },
  {
   "cell_type": "code",
   "execution_count": null,
   "id": "b8f107a2",
   "metadata": {},
   "outputs": [],
   "source": [
    "#Count the number of non-zero ch1 fluxes\n",
    "print('Parallel calculation: number of ch1 fluxes filled in =',\n",
    "      np.sum(df.ch1flux > 0))"
   ]
  },
  {
   "cell_type": "markdown",
   "id": "f902ec06",
   "metadata": {},
   "source": [
    "### 3e. Cleanup"
   ]
  },
  {
   "cell_type": "code",
   "execution_count": null,
   "id": "1bc90668",
   "metadata": {},
   "outputs": [],
   "source": [
    "#had to call the galex flux columns ch5 and ch6\n",
    "#fix that by renaming them now\n",
    "cols = {'ch5flux':'nuvflux', 'ch5flux_unc':'nuvflux_unc','ch6flux':'fuvflux', 'ch6flux_unc':'fuvflux_unc'}\n",
    "df.rename(columns=cols, inplace = True)"
   ]
  },
  {
   "cell_type": "code",
   "execution_count": null,
   "id": "c4f8c78b",
   "metadata": {},
   "outputs": [],
   "source": [
    "#When doing a large run of a large area, save the dataframe with the forced photometry\n",
    "# so we don't have to do the forced photometry every time\n",
    "\n",
    "df.to_pickle(f'output/COSMOS_{radius.value}arcmin.pkl')"
   ]
  },
  {
   "cell_type": "code",
   "execution_count": null,
   "id": "0d0714bd",
   "metadata": {},
   "outputs": [],
   "source": [
    "#If you are not runnig the forced photometry, then read in the catalog from a previous run\n",
    "\n",
    "#df = pd.read_pickle('output/COSMOS_48.0arcmin.pkl')"
   ]
  },
  {
   "cell_type": "markdown",
   "id": "4b253b0e",
   "metadata": {},
   "source": [
    "### 3f. Plot to Confirm our Photometry Results\n",
    "- compare to published COSMOS 2015 catalog"
   ]
  },
  {
   "cell_type": "code",
   "execution_count": null,
   "id": "e6663ae3",
   "metadata": {},
   "outputs": [],
   "source": [
    "%%time\n",
    "#plot tractor fluxes vs. catalog splash fluxes\n",
    "#should see a straightline with a slope of 1\n",
    "\n",
    "#setup to plot\n",
    "fig, ((ax1, ax2), (ax3, ax4)) = plt.subplots(2, 2)\n",
    "fluxmax = 200\n",
    "ymax = 100\n",
    "xmax = 100\n",
    "#ch1\n",
    "#first shrink the dataframe to only those rows where I have tractor photometry\n",
    "df_tractor = df[(df.splash_1_flux> 0) & (df.splash_1_flux < fluxmax)] #200\n",
    "#sns.regplot(data = df_tractor, x = \"splash_1_flux\", y = \"ch1flux\", ax = ax1, robust = True)\n",
    "sns.scatterplot(data = df_tractor, x = \"splash_1_flux\", y = \"ch1flux\", ax = ax1)\n",
    "\n",
    "#add a diagonal line with y = x\n",
    "lims = [\n",
    "    np.min([ax1.get_xlim(), ax1.get_ylim()]),  # min of both axes\n",
    "    np.max([ax1.get_xlim(), ax1.get_ylim()]),  # max of both axes\n",
    "]\n",
    "\n",
    "# now plot both limits against eachother\n",
    "ax1.plot(lims, lims, 'k-', alpha=0.75, zorder=0)\n",
    "ax1.set(xlabel = 'COSMOS 2015 flux ($\\mu$Jy)', ylabel = 'tractor flux ($\\mu$Jy)', title = 'IRAC 3.6')\n",
    "ax1.set_ylim([0, ymax])\n",
    "ax1.set_xlim([0, xmax])\n",
    "\n",
    "\n",
    "#ch2\n",
    "#first shrink the dataframe to only those rows where I have tractor photometry\n",
    "df_tractor = df[(df.splash_2_flux> 0) & (df.splash_2_flux < fluxmax)]\n",
    "#sns.regplot(data = df_tractor, x = \"splash_2_flux\", y = \"ch2flux\", ax = ax2, robust = True)\n",
    "sns.scatterplot(data = df_tractor, x = \"splash_2_flux\", y = \"ch2flux\", ax = ax2)\n",
    "\n",
    "#add a diagonal line with y = x\n",
    "lims = [\n",
    "    np.min([ax2.get_xlim(), ax2.get_ylim()]),  # min of both axes\n",
    "    np.max([ax2.get_xlim(), ax2.get_ylim()]),  # max of both axes\n",
    "]\n",
    "\n",
    "# now plot both limits against eachother\n",
    "ax2.plot(lims, lims, 'k-', alpha=0.75, zorder=0)\n",
    "ax2.set(xlabel = 'COSMOS 2015 flux ($\\mu$Jy)', ylabel = 'tractor flux ($\\mu$Jy)', title = 'IRAC 4.5')\n",
    "ax2.set_ylim([0, ymax])\n",
    "ax2.set_xlim([0, xmax])\n",
    "\n",
    "\n",
    "#ch3\n",
    "#first shrink the dataframe to only those rows where I have tractor photometry\n",
    "df_tractor = df[(df.splash_3_flux> 0) & (df.splash_3_flux < fluxmax)]\n",
    "\n",
    "#sns.regplot(data = df_tractor, x = \"splash_3_flux\", y = \"ch3flux\", ax = ax3, robust = True)\n",
    "sns.scatterplot(data = df_tractor, x = \"splash_3_flux\", y = \"ch3flux\", ax = ax3)\n",
    "\n",
    "#add a diagonal line with y = x\n",
    "lims = [\n",
    "    np.min([ax3.get_xlim(), ax3.get_ylim()]),  # min of both axes\n",
    "    np.max([ax3.get_xlim(), ax3.get_ylim()]),  # max of both axes\n",
    "]\n",
    "\n",
    "# now plot both limits against eachother\n",
    "ax3.plot(lims, lims, 'k-', alpha=0.75, zorder=0)\n",
    "ax3.set(xlabel = 'COSMOS 2015 flux ($\\mu$Jy)', ylabel = 'tractor flux ($\\mu$Jy)', title = 'IRAC 5.8')\n",
    "ax3.set_ylim([0, ymax])\n",
    "ax3.set_xlim([0, xmax])\n",
    "\n",
    "\n",
    "#ch4\n",
    "#first shrink the dataframe to only those rows where I have tractor photometry\n",
    "df_tractor = df[(df.splash_4_flux> 0) & (df.splash_4_flux < fluxmax)]\n",
    "\n",
    "#sns.regplot(data = df_tractor, x = \"splash_4_flux\", y = \"ch4flux\", ax = ax4, robust = True)\n",
    "sns.scatterplot(data = df_tractor, x = \"splash_4_flux\", y = \"ch4flux\", ax = ax4)\n",
    "\n",
    "#add a diagonal line with y = x\n",
    "lims = [\n",
    "    np.min([ax4.get_xlim(), ax4.get_ylim()]),  # min of both axes\n",
    "    np.max([ax4.get_xlim(), ax4.get_ylim()]),  # max of both axes\n",
    "]\n",
    "\n",
    "# now plot both limits against eachother\n",
    "ax4.plot(lims, lims, 'k-', alpha=0.75, zorder=0)\n",
    "ax4.set(xlabel = 'COSMOS 2015 flux ($\\mu$Jy)', ylabel = 'tractor flux ($\\mu$Jy)', title = 'IRAC 8.0')\n",
    "ax4.set_ylim([0, ymax])\n",
    "ax4.set_xlim([0, xmax])\n",
    "\n",
    "\n",
    "plt.tight_layout()\n",
    "\n",
    "fig.subplots_adjust( hspace=0.5)\n",
    "fig.set_size_inches(8, 12)\n",
    "\n",
    "#plt.savefig('output/flux_comparison.png')"
   ]
  },
  {
   "cell_type": "markdown",
   "id": "460131eb",
   "metadata": {},
   "source": [
    "Tractor is working for IRAC; Comparison of tractor derived fluxes with COSMOS 2015 fluxes for all four Spitzer IRAC channels.  Blue points represent each object from the subset of the COSMOS 2015 catalog.  The blue line is a linear regression robust fit to the data with uncertainties shown as the light blue wedge.  The black line is a y = x line plotted to guide the eye."
   ]
  },
  {
   "cell_type": "markdown",
   "id": "e2b946e4",
   "metadata": {},
   "source": [
    "## 4. Cross Match our New Photometry Catalog with an X-ray archival Catalog\n",
    "We are using `nway` as the tool to do the cross match (Salvato et al. 2017).\n",
    "`nway` expects input as two fits table files and outputs a third table file with all the possible matches and their probabilities of being the correct match.  We then sort that catalog and take only the best matches to be the true matches."
   ]
  },
  {
   "cell_type": "markdown",
   "id": "e04c07bc",
   "metadata": {},
   "source": [
    "### 4a. Retrieve the HEASARC Catalog"
   ]
  },
  {
   "cell_type": "code",
   "execution_count": null,
   "id": "37952611",
   "metadata": {},
   "outputs": [],
   "source": [
    "#first get an X-ray catalog from Heasarc\n",
    "heasarc = Heasarc()\n",
    "table = heasarc.query_mission_list()\n",
    "mask = (table['Mission'] ==\"CHANDRA\")\n",
    "chandratable = table[mask]\n",
    "\n",
    "#find out which tables exist on Heasarc\n",
    "#chandratable.pprint(max_lines = 200, max_width = 130)\n",
    "\n",
    "#want ccosmoscat\n",
    "mission = 'ccosmoscat'\n",
    "#coords already defined above where I pull the original COSMOS catalog\n",
    "ccosmoscat_rad = 1 #radius of chandra cosmos catalog\n",
    "ccosmoscat = heasarc.query_region(coords, mission=mission, radius='1 degree', resultmax = 5000, fields = \"ALL\")"
   ]
  },
  {
   "cell_type": "markdown",
   "id": "e30f2e31",
   "metadata": {},
   "source": [
    "### 4b. Run `nway` to do the Cross-Match"
   ]
  },
  {
   "cell_type": "code",
   "execution_count": null,
   "id": "8d38e224",
   "metadata": {},
   "outputs": [],
   "source": [
    "#setup:\n",
    "\n",
    "#astropy doesn't recognize capitalized units\n",
    "#so there might be some warnings here on writing out the file, but we can safely ignore those\n",
    "\n",
    "#need to make the chandra catalog into a fits table\n",
    "#and needs to include area of the survey.\n",
    "nway_write_header('data/Chandra/COSMOS_chandra.fits', 'CHANDRA', float(ccosmoscat_rad**2) )\n",
    "\n",
    "\n",
    "#also need to transform the main pandas dataframe into fits table for nway\n",
    "#make an index column for tracking later\n",
    "df['ID'] = range(1, len(df) + 1)\n",
    "\n",
    "#need this to be a fits table and needs to include area of the survey.\n",
    "rad_in_arcmin = radius.value  #units attached to this are confusing nway down the line\n",
    "nway_write_header('data/multiband_phot.fits', 'OPT', float((2*rad_in_arcmin/60)**2) )\n"
   ]
  },
  {
   "cell_type": "code",
   "execution_count": null,
   "id": "fdfbcd22",
   "metadata": {},
   "outputs": [],
   "source": [
    "# call nway\n",
    "!/home/jovyan/.local/bin/nway.py 'data/Chandra/COSMOS_chandra.fits' :ERROR_RADIUS 'data/multiband_phot.fits' 0.1 --out=data/Chandra/chandra_multiband.fits --radius 15 --prior-completeness 0.9\n",
    "\n",
    "#!/opt/conda/bin/nway.py 'data/Chandra/COSMOS_chandra.fits' :ERROR_RADIUS 'data/multiband_phot.fits' 0.1 --out=data/Chandra/chandra_multiband.fits --radius 15 --prior-completeness 0.9"
   ]
  },
  {
   "cell_type": "code",
   "execution_count": null,
   "id": "157a863a",
   "metadata": {},
   "outputs": [],
   "source": [
    "#Clean up the cross match results and merge them back into main pandas dataframe\n",
    "\n",
    "#read in the nway matched catalog\n",
    "xmatch = Table.read('data/Chandra/chandra_multiband.fits', hdu = 1)\n",
    "df_xmatch = xmatch.to_pandas()\n",
    "\n",
    "#manual suggests that p_i should be greater than 0.1 for a pure catalog.\n",
    "#The matched catalog has multiple optical associations for some of the XMM detections.\n",
    "#simplest thing to do is only keep match_flag = 1\n",
    "matched = df_xmatch.loc[(df_xmatch['p_i']>=0.1) & df_xmatch['match_flag']==1]\n",
    "\n",
    "#merge this info back into the df_optical dataframe.\n",
    "merged = pd.merge(df, matched, 'outer',left_on='ID', right_on = 'OPT_ID')\n",
    "\n",
    "#remove all the rows which start with \"OPT\" because they are duplications of the original catalog\n",
    "merged = merged.loc[:, ~merged.columns.str.startswith('OPT')]\n",
    "\n",
    "#somehow the matching is giving negative fluxes in the band where there is no detection\n",
    "#if there is a detection in the other band\n",
    "#clean that up to make those negative fluxes = 0\n",
    "\n",
    "merged.loc[merged['flux_chandra_2_10'] < 0, 'flux_chandra_2_10'] = 0\n",
    "merged.loc[merged['flux_chandra_05_2'] < 0, 'flux_chandra_05_2'] = 0"
   ]
  },
  {
   "cell_type": "code",
   "execution_count": null,
   "id": "21591fed",
   "metadata": {},
   "outputs": [],
   "source": [
    "#How many Chandra sources are there?\n",
    "#How many Galex sources are there?\n",
    "\n",
    "#make a new column which is a bool of existing chandra measurements\n",
    "merged['cosmos_chandra_detect'] = 0\n",
    "merged.loc[merged.flux_chandra_2_10 > 0,'cosmos_chandra_detect']=1\n",
    "\n",
    "#make one for Galex too\n",
    "merged['galex_detect'] = 0\n",
    "merged.loc[merged.flux_galex_nuv > 0,'galex_detect']=1\n",
    "\n",
    "#make chandra hardness ratio column:\n",
    "#hard = 'flux_chandra_2_10', soft = flux_chandra_05_2, HR = (H-S)/(H+S)\n",
    "merged['chandra_HR'] = (merged['flux_chandra_2_10'] - merged['flux_chandra_05_2']) / (merged['flux_chandra_2_10'] + merged['flux_chandra_05_2'])\n",
    "\n",
    "\n",
    "print('number of Chandra detections =',np.sum(merged.cosmos_chandra_detect > 0))\n",
    "print('number of Galex detections =',np.sum(merged.galex_detect > 0))"
   ]
  },
  {
   "cell_type": "markdown",
   "id": "0cab8eb4",
   "metadata": {},
   "source": [
    "## 5. Plot Final Results\n",
    "- We want to understand something about populations based on their colors"
   ]
  },
  {
   "cell_type": "code",
   "execution_count": null,
   "id": "b359bda3",
   "metadata": {},
   "outputs": [],
   "source": [
    "#IRAC color color plots akin to Lacy et al. 2004\n",
    "#overplot galex sources\n",
    "#overplot xray sources\n",
    "\n",
    "#first select on 24 micron\n",
    "merged_24 = merged[(merged.flux_24 >= 0) ]\n",
    "\n",
    "#negative Galex fluxes are causing problems, so set those to zero\n",
    "merged_24.loc[merged_24.fuvflux < 0, 'fuvflux'] = 0\n",
    "merged_24.loc[merged_24.nuvflux < 0, 'nuvflux'] = 0\n",
    "\n",
    "#make color columns\n",
    "merged_24['F5.8divF3.6'] = merged_24.ch3flux / merged_24.ch1flux\n",
    "merged_24['F8.0divF4.5'] = merged_24.ch4flux / merged_24.ch2flux\n",
    "\n",
    "#detected in all IRAC bands\n",
    "merged_allirac = merged_24[(merged_24['F8.0divF4.5'] > 0) & (merged_24['F5.8divF3.6'] > 0)]\n",
    "\n",
    "#plot all the points\n",
    "fig, ax = plt.subplots()\n",
    "sns.scatterplot(data = merged_allirac, x = 'F5.8divF3.6', y = 'F8.0divF4.5',\n",
    "                 ax = ax, alpha = 0.5, label = 'all')\n",
    "\n",
    "#plot only those points with Galex detections\n",
    "galex_detect = merged_allirac[merged_allirac.galex_detect > 0]\n",
    "sns.scatterplot(data = galex_detect, x = 'F5.8divF3.6', y = 'F8.0divF4.5',\n",
    "                 ax = ax, alpha = 0.5, label = 'Galex detect')\n",
    "\n",
    "#plot only those points with chandra detections\n",
    "chandra_detect = merged_allirac[merged_allirac.cosmos_chandra_detect > 0]\n",
    "sns.scatterplot(data = chandra_detect, x = 'F5.8divF3.6', y = 'F8.0divF4.5',\n",
    "                 ax = ax, label = 'Chandra detect')\n",
    "\n",
    "\n",
    "\n",
    "ax.set(xscale=\"log\", yscale=\"log\")\n",
    "ax.set_ylim([0.1, 10])\n",
    "ax.set_xlim([0.1, 10])\n",
    "\n",
    "ax.set(xlabel = 'log F5.8/F3.6', ylabel = 'log F8.0/F4.5')\n",
    "ax.legend(loc='lower right')\n",
    "plt.title('IRAC Color Color Plot')"
   ]
  },
  {
   "cell_type": "markdown",
   "id": "a50bcdbf",
   "metadata": {},
   "source": [
    "This figure shows an IRAC color color plot akin to the seminal work by Lacy et al. 2004.  Points are color coded for those with Galex UV detections and those with Chandra x-ray detections. Note that the different populations are seperating out in this color color space."
   ]
  },
  {
   "cell_type": "code",
   "execution_count": null,
   "id": "8e0dbc1b",
   "metadata": {},
   "outputs": [],
   "source": [
    "#UV IR color color plot akin to Bouquin et al. 2015\n",
    "fig, ax = plt.subplots()\n",
    "merged['FUV-NUV'] = merged.mag_galex_fuv - merged.mag_galex_nuv\n",
    "merged['NUV-3.6'] = merged.mag_galex_nuv - merged.splash_1_mag\n",
    "\n",
    "\n",
    "#plot all the points\n",
    "#sns.scatterplot(data = merged, x = 'NUV-3.6', y = 'FUV-NUV',\n",
    "#                 ax = ax, alpha = 0.5)\n",
    "\n",
    "#plot only those points with Galex detections\n",
    "galex_detect = merged[merged.galex_detect > 0]\n",
    "sns.kdeplot(data = galex_detect, x = 'NUV-3.6', y = 'FUV-NUV',\n",
    "            ax = ax, fill = True, levels = 15)#scatterplot , alpha = 0.5\n",
    "\n",
    "#plot only those points with chandra detections\n",
    "#now with color coding Chandra sources by hardness ratio a la Moutard et al. 2020\n",
    "chandra_detect = merged[merged.cosmos_chandra_detect > 0]\n",
    "sns.scatterplot(data = chandra_detect, x = 'NUV-3.6', y = 'FUV-NUV',\n",
    "                ax = ax, hue= 'chandra_HR',palette=\"flare\")\n",
    "\n",
    "#whew that legend for the hue is terrible\n",
    "#try making it into a colorbar outside the plot instead\n",
    "norm = plt.Normalize(merged['chandra_HR'].min(), merged['chandra_HR'].max())\n",
    "sm = plt.cm.ScalarMappable(cmap=\"flare\", norm=norm)\n",
    "sm.set_array([])\n",
    "\n",
    "# Remove the legend and add a colorbar\n",
    "ax.get_legend().remove()\n",
    "ax.figure.colorbar(sm)\n",
    "\n",
    "#ax.set(xscale=\"log\", yscale=\"log\")\n",
    "ax.set_ylim([-0.5, 3.5])\n",
    "ax.set_xlim([-1, 7])\n",
    "\n",
    "ax.set(xlabel = 'NUV - [3.6]', ylabel = 'FUV - NUV')\n",
    "#plt.legend([],[], frameon=False)\n",
    "\n",
    "#fig.savefig(\"output/color_color.png\")\n",
    "#mpld3.display(fig)"
   ]
  },
  {
   "cell_type": "markdown",
   "id": "f82d1af2",
   "metadata": {},
   "source": [
    "We extend the works of Bouquin et al. 2015 and Moutard et al. 2020 by showing a GALEX - Spitzer color color diagram over plotted with Chandra detections.  Blue galaxies in these colors are generated by O and B stars and so must currently be forming stars. We find a tight blue cloud in this color space identifying those star forming galaxies.  Galaxies off of the blue cloud have had their star formation quenched, quite possibly by the existence of an AGN through removal of the gas reservoir required for star formation.  Chandra detected galaxies host AGN, and while those are more limited in number, can be shown here to be a hosted by all kinds of galaxies, including quiescent galaxies which would be in the upper right of this plot.  This likely implies that AGN are indeed involved in quenching star formation.  Additionally, we show the Chandra hardness ratio (HR) color coded according to the vertical color bar on the right side of the plot.  Those AGN with higher hardness ratios have their soft x-ray bands heavily obscured and appear to reside preferentially toward the quiescent galaxies."
   ]
  },
  {
   "cell_type": "markdown",
   "id": "5f689359",
   "metadata": {},
   "source": [
    "## References\n",
    "\n",
    "This work made use of:\n",
    "\n",
    "- Astroquery; Ginsburg et al., 2019, 2019AJ....157...98G\n",
    "\n",
    "- Astropy; Astropy Collaboration 2022, Astropy Collaboration 2018, Astropy Collaboration 2013, 2022ApJ...935..167A, 2018AJ....156..123A, 2013A&A...558A..33A\n",
    "\n",
    "- The Tractor; Lang et al. 2016, 2016AJ....151...36L\n",
    "\n",
    "- Nyland et al. 2017 , 2017ApJS..230....9N\n",
    "\n",
    "- Salvato et al. 2018, 2018MNRAS.473.4937S\n",
    "\n",
    "- Laigle et al. 2016, 2016ApJS..224...24L"
   ]
  },
  {
   "cell_type": "code",
   "execution_count": null,
   "id": "8c4abd0d",
   "metadata": {},
   "outputs": [],
   "source": []
  }
 ],
 "metadata": {
  "jupytext": {
   "text_representation": {
    "extension": ".md",
    "format_name": "myst",
    "format_version": 0.13,
    "jupytext_version": "1.15.2"
   }
  },
  "kernelspec": {
   "display_name": "Python [conda env:tractor]",
   "language": "python",
   "name": "python3"
  },
  "language_info": {
   "codemirror_mode": {
    "name": "ipython",
    "version": 3
   },
   "file_extension": ".py",
   "mimetype": "text/x-python",
   "name": "python",
   "nbconvert_exporter": "python",
   "pygments_lexer": "ipython3",
   "version": "3.11.0"
  },
  "source_map": [
   12,
   56,
   61,
   117,
   124,
   154,
   159,
   165,
   169,
   175,
   186,
   193,
   206,
   218,
   239,
   242,
   246,
   272,
   277,
   297,
   311,
   320,
   324,
   329,
   336,
   346,
   379,
   420,
   441,
   445,
   521,
   527,
   550,
   555,
   566,
   574,
   585,
   604,
   612,
   616,
   620,
   627,
   634,
   638,
   643,
   737,
   741,
   747,
   751,
   766,
   770,
   791,
   798,
   824,
   843,
   848,
   891,
   895,
   936,
   940,
   958
  ]
 },
 "nbformat": 4,
 "nbformat_minor": 5
}