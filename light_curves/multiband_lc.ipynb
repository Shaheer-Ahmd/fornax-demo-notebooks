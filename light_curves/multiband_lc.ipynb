{
 "cells": [
  {
   "cell_type": "markdown",
   "metadata": {},
   "source": [
    "# Make multiwavelength light curves using archival data\n",
    "***\n",
    "\n",
    "## Learning Goals    \n",
    "By the end of this tutorial, you will be able to:\n",
    " - automatically load a catalog of sources\n",
    " - automatically search NASA and non-NASA resources for light curves\n",
    " - store light curves in a Pandas multiindex dataframe\n",
    " - plot all light curves on the same plot\n",
    " \n",
    " \n",
    "## Introduction:\n",
    " - A user has a sample of interesting targets for which they would like to see a plot of available archival light curves.  We start with a small set of changing look AGN from Yang et al., 2018, which are automatically downloaded. Changing look AGN are cases where the broad emission lines appear or disappear (and not just that the flux is variable). \n",
    " - We model light curve plots after van Velzen et al. 2021.  We search through a curated list of time-domain NASA holdings as well as non-NASA sources.  HEASARC catalogs used are Fermi and Beppo-Sax, IRSA catalogs used are ZTF and WISE, and MAST catalogs used are Pan-Starrs, TESS, Kepler, and K2.  Non-NASA sources are Gaia and IceCube. This list is generalized enough to include many types of targets to make this notebook interesting for many types of science.  All of these time-domain archives are searched in an automated fashion using astroquery or APIs.\n",
    " - Light curve data storage is a tricky problem.  Currently we are using a multi-index Pandas dataframe, as the best existing choice for right now.  One downside is that we need to manually track the units of flux and time instead of relying on an astropy storage scheme which would be able to do some of the units worrying for us (even astropy can't do all magnitude to flux conversions).  Astropy does not currently have a good option for multi-band light curve storage.\n",
    " - We intend to explore a ML classifier for these changing look AGN light curves.\n",
    " \n",
    "## Input:\n",
    " - choose from a list of known changing look AGN from the literature\n",
    " \n",
    "  OR - \n",
    " - input your own sample\n",
    "\n",
    "## Output:\n",
    " - an archival optical + IR + neutrino light curve\n",
    " \n",
    "## Non-standard Imports:\n",
    "- `astroquery` to interface with archives APIs\n",
    "- `astropy` to work with coordinates/units and data structures\n",
    "- `lightkurve` to search TESSS, Kepler, and K2 archives\n",
    "- `urllib` to handle archive searches with website interface\n",
    "- `acstools` to work with HST magnitude to flux conversion\n",
    "- `unTimely` to retrieve WISE light curves\n",
    "- `alerce` to convert ZTF object names into coordinates\n",
    "\n",
    "## Authors:\n",
    "Jessica Krick, Shoubaneh Hemmati, Andreas Faisst, Troy Raen, Brigitta Sipocz, Dave Shupe\n",
    "\n",
    "## Acknowledgements:\n",
    "Suvi Gezari, Antara Basu-zych,Stephanie LaMassa\\\n",
    "MAST, HEASARC, & IRSA Fornax teams\n",
    "\n"
   ]
  },
  {
   "cell_type": "code",
   "execution_count": 1,
   "metadata": {},
   "outputs": [
    {
     "name": "stdout",
     "output_type": "stream",
     "text": [
      "Collecting git+https://github.com/fkiwy/unTimely_Catalog_explorer (from -r requirements.txt (line 14))\n",
      "  Cloning https://github.com/fkiwy/unTimely_Catalog_explorer to /tmp/pip-req-build-sqqwh400\n",
      "  Running command git clone --filter=blob:none --quiet https://github.com/fkiwy/unTimely_Catalog_explorer /tmp/pip-req-build-sqqwh400\n",
      "  Resolved https://github.com/fkiwy/unTimely_Catalog_explorer to commit 954b06b5dc91c207c335e652083327c4ec136dd9\n",
      "  Preparing metadata (setup.py) ... \u001b[?25ldone\n",
      "\u001b[?25hRequirement already satisfied: numpy in /opt/conda/lib/python3.8/site-packages (from -r requirements.txt (line 4)) (1.21.5)\n",
      "Requirement already satisfied: matplotlib in /opt/conda/lib/python3.8/site-packages (from -r requirements.txt (line 5)) (3.5.1)\n",
      "Requirement already satisfied: pandas in /opt/conda/lib/python3.8/site-packages (from -r requirements.txt (line 6)) (1.3.5)\n",
      "Requirement already satisfied: astropy in /opt/conda/lib/python3.8/site-packages (from -r requirements.txt (line 7)) (5.0.1)\n",
      "Requirement already satisfied: astroquery in /opt/conda/lib/python3.8/site-packages (from -r requirements.txt (line 8)) (0.4.5)\n",
      "Requirement already satisfied: tqdm in /opt/conda/lib/python3.8/site-packages (from -r requirements.txt (line 9)) (4.50.2)\n",
      "Collecting lightkurve\n",
      "  Using cached lightkurve-2.4.0-py3-none-any.whl (261 kB)\n",
      "Collecting acstools\n",
      "  Using cached acstools-3.6.1-py3-none-any.whl (102 kB)\n",
      "Collecting alerce\n",
      "  Using cached alerce-1.2.0-py3-none-any.whl (11 kB)\n",
      "Collecting wget\n",
      "  Using cached wget-3.2-py3-none-any.whl\n",
      "Requirement already satisfied: reproject in /opt/conda/lib/python3.8/site-packages (from -r requirements.txt (line 15)) (0.8)\n",
      "Requirement already satisfied: pillow>=6.2.0 in /opt/conda/lib/python3.8/site-packages (from matplotlib->-r requirements.txt (line 5)) (9.0.1)\n",
      "Requirement already satisfied: fonttools>=4.22.0 in /opt/conda/lib/python3.8/site-packages (from matplotlib->-r requirements.txt (line 5)) (4.29.1)\n",
      "Requirement already satisfied: packaging>=20.0 in /opt/conda/lib/python3.8/site-packages (from matplotlib->-r requirements.txt (line 5)) (20.4)\n",
      "Requirement already satisfied: pyparsing>=2.2.1 in /opt/conda/lib/python3.8/site-packages (from matplotlib->-r requirements.txt (line 5)) (2.4.7)\n",
      "Requirement already satisfied: python-dateutil>=2.7 in /opt/conda/lib/python3.8/site-packages (from matplotlib->-r requirements.txt (line 5)) (2.8.1)\n",
      "Requirement already satisfied: cycler>=0.10 in /opt/conda/lib/python3.8/site-packages (from matplotlib->-r requirements.txt (line 5)) (0.11.0)\n",
      "Requirement already satisfied: kiwisolver>=1.0.1 in /opt/conda/lib/python3.8/site-packages (from matplotlib->-r requirements.txt (line 5)) (1.3.2)\n",
      "Requirement already satisfied: pytz>=2017.3 in /opt/conda/lib/python3.8/site-packages (from pandas->-r requirements.txt (line 6)) (2021.3)\n",
      "Requirement already satisfied: PyYAML>=3.13 in /opt/conda/lib/python3.8/site-packages (from astropy->-r requirements.txt (line 7)) (6.0)\n",
      "Requirement already satisfied: pyerfa>=2.0 in /opt/conda/lib/python3.8/site-packages (from astropy->-r requirements.txt (line 7)) (2.0.0.1)\n",
      "Requirement already satisfied: requests>=2.4.3 in /opt/conda/lib/python3.8/site-packages (from astroquery->-r requirements.txt (line 8)) (2.24.0)\n",
      "Requirement already satisfied: beautifulsoup4>=4.3.2 in /opt/conda/lib/python3.8/site-packages (from astroquery->-r requirements.txt (line 8)) (4.10.0)\n",
      "Requirement already satisfied: html5lib>=0.999 in /opt/conda/lib/python3.8/site-packages (from astroquery->-r requirements.txt (line 8)) (1.1)\n",
      "Requirement already satisfied: keyring>=4.0 in /opt/conda/lib/python3.8/site-packages (from astroquery->-r requirements.txt (line 8)) (22.3.0)\n",
      "Requirement already satisfied: pyvo>=1.1 in /opt/conda/lib/python3.8/site-packages (from astroquery->-r requirements.txt (line 8)) (1.3)\n",
      "Requirement already satisfied: scipy>=1.7 in /opt/conda/lib/python3.8/site-packages (from lightkurve->-r requirements.txt (line 10)) (1.8.0)\n",
      "Collecting uncertainties>=3.1.4\n",
      "  Using cached uncertainties-3.1.7-py2.py3-none-any.whl (98 kB)\n",
      "Requirement already satisfied: patsy>=0.5.0 in /opt/conda/lib/python3.8/site-packages (from lightkurve->-r requirements.txt (line 10)) (0.5.2)\n",
      "Requirement already satisfied: scikit-learn>=0.24.0 in /opt/conda/lib/python3.8/site-packages (from lightkurve->-r requirements.txt (line 10)) (1.0.2)\n",
      "Requirement already satisfied: urllib3>=1.23 in /opt/conda/lib/python3.8/site-packages (from lightkurve->-r requirements.txt (line 10)) (1.25.11)\n",
      "Collecting memoization>=0.3.1\n",
      "  Using cached memoization-0.4.0-py3-none-any.whl\n",
      "Collecting oktopus>=0.1.2\n",
      "  Using cached oktopus-0.1.2-py3-none-any.whl\n",
      "Requirement already satisfied: bokeh>=2.0.0 in /opt/conda/lib/python3.8/site-packages (from lightkurve->-r requirements.txt (line 10)) (2.4.2)\n",
      "Collecting fbpca>=1.0\n",
      "  Using cached fbpca-1.0-py3-none-any.whl\n",
      "Requirement already satisfied: astropy-healpix>=0.6 in /opt/conda/lib/python3.8/site-packages (from reproject->-r requirements.txt (line 15)) (0.6)\n",
      "Requirement already satisfied: soupsieve>1.2 in /opt/conda/lib/python3.8/site-packages (from beautifulsoup4>=4.3.2->astroquery->-r requirements.txt (line 8)) (2.3.1)\n",
      "Requirement already satisfied: Jinja2>=2.9 in /opt/conda/lib/python3.8/site-packages (from bokeh>=2.0.0->lightkurve->-r requirements.txt (line 10)) (2.11.2)\n",
      "Requirement already satisfied: typing-extensions>=3.10.0 in /opt/conda/lib/python3.8/site-packages (from bokeh>=2.0.0->lightkurve->-r requirements.txt (line 10)) (4.1.1)\n",
      "Requirement already satisfied: tornado>=5.1 in /opt/conda/lib/python3.8/site-packages (from bokeh>=2.0.0->lightkurve->-r requirements.txt (line 10)) (6.1)\n",
      "Requirement already satisfied: webencodings in /opt/conda/lib/python3.8/site-packages (from html5lib>=0.999->astroquery->-r requirements.txt (line 8)) (0.5.1)\n",
      "Requirement already satisfied: six>=1.9 in /opt/conda/lib/python3.8/site-packages (from html5lib>=0.999->astroquery->-r requirements.txt (line 8)) (1.15.0)\n",
      "Requirement already satisfied: jeepney>=0.4.2 in /opt/conda/lib/python3.8/site-packages (from keyring>=4.0->astroquery->-r requirements.txt (line 8)) (0.7.1)\n",
      "Requirement already satisfied: SecretStorage>=3.2 in /opt/conda/lib/python3.8/site-packages (from keyring>=4.0->astroquery->-r requirements.txt (line 8)) (3.3.1)\n",
      "Collecting autograd\n",
      "  Downloading autograd-1.6.2-py3-none-any.whl (49 kB)\n",
      "\u001b[2K     \u001b[90m━━━━━━━━━━━━━━━━━━━━━━━━━━━━━━━━━━━━━━━━\u001b[0m \u001b[32m49.3/49.3 KB\u001b[0m \u001b[31m3.0 MB/s\u001b[0m eta \u001b[36m0:00:00\u001b[0m\n",
      "\u001b[?25hRequirement already satisfied: certifi>=2017.4.17 in /opt/conda/lib/python3.8/site-packages (from requests>=2.4.3->astroquery->-r requirements.txt (line 8)) (2022.12.7)\n",
      "Requirement already satisfied: chardet<4,>=3.0.2 in /opt/conda/lib/python3.8/site-packages (from requests>=2.4.3->astroquery->-r requirements.txt (line 8)) (3.0.4)\n",
      "Requirement already satisfied: idna<3,>=2.5 in /opt/conda/lib/python3.8/site-packages (from requests>=2.4.3->astroquery->-r requirements.txt (line 8)) (2.10)\n",
      "Requirement already satisfied: joblib>=0.11 in /opt/conda/lib/python3.8/site-packages (from scikit-learn>=0.24.0->lightkurve->-r requirements.txt (line 10)) (1.1.0)\n",
      "Requirement already satisfied: threadpoolctl>=2.0.0 in /opt/conda/lib/python3.8/site-packages (from scikit-learn>=0.24.0->lightkurve->-r requirements.txt (line 10)) (3.1.0)\n",
      "Requirement already satisfied: future in /opt/conda/lib/python3.8/site-packages (from uncertainties>=3.1.4->lightkurve->-r requirements.txt (line 10)) (0.18.2)\n",
      "Requirement already satisfied: MarkupSafe>=0.23 in /opt/conda/lib/python3.8/site-packages (from Jinja2>=2.9->bokeh>=2.0.0->lightkurve->-r requirements.txt (line 10)) (1.1.1)\n",
      "Requirement already satisfied: cryptography>=2.0 in /opt/conda/lib/python3.8/site-packages (from SecretStorage>=3.2->keyring>=4.0->astroquery->-r requirements.txt (line 8)) (3.1.1)\n",
      "Requirement already satisfied: cffi!=1.11.3,>=1.8 in /opt/conda/lib/python3.8/site-packages (from cryptography>=2.0->SecretStorage>=3.2->keyring>=4.0->astroquery->-r requirements.txt (line 8)) (1.14.3)\n",
      "Requirement already satisfied: pycparser in /opt/conda/lib/python3.8/site-packages (from cffi!=1.11.3,>=1.8->cryptography>=2.0->SecretStorage>=3.2->keyring>=4.0->astroquery->-r requirements.txt (line 8)) (2.20)\n",
      "Building wheels for collected packages: unTimely-Catalog-explorer\n",
      "  Building wheel for unTimely-Catalog-explorer (setup.py) ... \u001b[?25ldone\n",
      "\u001b[?25h  Created wheel for unTimely-Catalog-explorer: filename=unTimely_Catalog_explorer-1.1.0-py3-none-any.whl size=13236 sha256=51f5f970bd6ba87095d927d3b7d203d3a0743dc642afe55478776d421d8f2001\n",
      "  Stored in directory: /tmp/pip-ephem-wheel-cache-bjtsuu43/wheels/65/f3/e0/31f40898885d4eab8b87bde8a37bdf01dd79d8a96e5825d3c8\n",
      "Successfully built unTimely-Catalog-explorer\n",
      "Installing collected packages: wget, fbpca, uncertainties, memoization, autograd, oktopus, alerce, acstools, unTimely-Catalog-explorer, lightkurve\n",
      "Successfully installed acstools-3.6.1 alerce-1.2.0 autograd-1.6.2 fbpca-1.0 lightkurve-2.4.0 memoization-0.4.0 oktopus-0.1.2 unTimely-Catalog-explorer-1.1.0 uncertainties-3.1.7 wget-3.2\n",
      "\u001b[33mWARNING: You are using pip version 22.0.3; however, version 23.1.2 is available.\n",
      "You should consider upgrading via the '/opt/conda/bin/python3 -m pip install --upgrade pip' command.\u001b[0m\u001b[33m\n",
      "\u001b[0m"
     ]
    }
   ],
   "source": [
    "#ensure all dependencies are installed\n",
    "!pip install -r requirements.txt"
   ]
  },
  {
   "cell_type": "code",
   "execution_count": 2,
   "metadata": {
    "scrolled": true,
    "tags": []
   },
   "outputs": [],
   "source": [
    "import sys\n",
    "import time\n",
    "import warnings\n",
    "from math import ceil\n",
    "from multiprocessing import Pool\n",
    "\n",
    "import astropy.units as u\n",
    "import matplotlib.pyplot as plt\n",
    "import numpy as np\n",
    "from astropy.table import Table\n",
    "from scipy import stats\n",
    "import pandas as pd\n",
    "\n",
    "warnings.filterwarnings('ignore')\n",
    "\n",
    "# local code imports\n",
    "sys.path.append('code/')\n",
    "from panstarrs import panstarrs_get_lightcurves\n",
    "from gaia_functions import Gaia_get_lightcurve\n",
    "from HCV_functions import HCV_get_lightcurves\n",
    "from icecube_functions import icecube_get_lightcurve\n",
    "from sample_selection import get_lamassa_sample, get_macleod16_sample, get_ruan_sample, get_macleod19_sample, get_sheng_sample, \\\n",
    "    get_green_sample, get_lyu_sample, get_lopeznavas_sample, get_hon_sample, get_yang_sample,  get_SDSS_sample, clean_sample\n",
    "from ztf_functions import ZTF_get_lightcurve\n",
    "from data_structures import MultiIndexDFObject\n",
    "from heasarc_functions import HEASARC_get_lightcurves\n",
    "from TESS_Kepler_functions import TESS_Kepler_get_lightcurves\n",
    "from WISE_functions import WISE_get_lightcurves\n"
   ]
  },
  {
   "cell_type": "markdown",
   "metadata": {},
   "source": [
    "## 1. Define the Sample\n",
    " We define here a \"gold\" sample of spectroscopically confirmed changing look AGN and quasars. This sample includes both objects which change from type 1 to type 2 and also the opposite.  Future studies may want to treat these as seperate objects or seperate QSOs from AGN.\n",
    " \n",
    " Bibcodes for the samples used are listed next to their functions for reference.  \n",
    " \n",
    " Functions used to grab the samples from the papers use Astroquery, NED, SIMBAD, Vizier, and in a few cases grab the tables from the html versions of the paper."
   ]
  },
  {
   "cell_type": "code",
   "execution_count": 3,
   "metadata": {},
   "outputs": [
    {
     "name": "stdout",
     "output_type": "stream",
     "text": [
      "Changing Look AGN- Yang et al:  31\n",
      "after duplicates removal, sample size: 30\n"
     ]
    }
   ],
   "source": [
    "#build up the sample\n",
    "coords =[]\n",
    "labels = []\n",
    "\n",
    "#choose your own adventure:\n",
    "\n",
    "#get_lamassa_sample(coords, labels)  #2015ApJ...800..144L\n",
    "#get_macleod16_sample(coords, labels) #2016MNRAS.457..389M\n",
    "#get_ruan_sample(coords, labels) #2016ApJ...826..188R\n",
    "#get_macleod19_sample(coords, labels)  #2019ApJ...874....8M\n",
    "#get_sheng_sample(coords, labels)  #2020ApJ...889...46S\n",
    "#get_green_sample(coords, labels)  #2022ApJ...933..180G\n",
    "#get_lyu_sample(coords, labels)  #z32022ApJ...927..227L\n",
    "#get_lopeznavas_sample(coords, labels)  #2022MNRAS.513L..57L\n",
    "#get_hon_sample(coords, labels)  #2022MNRAS.511...54H\n",
    "get_yang_sample(coords, labels)   #2018ApJ...862..109Y\n",
    "\n",
    "#now get some \"normal\" QSOs for use in the classifier\n",
    "#there are ~500K of these, so choose the number based on\n",
    "#a balance between speed of running the light curves and whatever \n",
    "#the ML algorithms would like to have\n",
    "\n",
    "# num_normal_QSO = 100 \n",
    "#get_SDSS_sample(coords, labels, num_normal_QSO)\n",
    "\n",
    "# remove duplicates and attach an objectid to the coords\n",
    "coords_list, labels_list = clean_sample(coords, labels)\n",
    "\n"
   ]
  },
  {
   "cell_type": "markdown",
   "metadata": {},
   "source": [
    "### 1.1 Build your own Sample\n",
    "\n",
    "To build your own sample, you can follow the examples of functions above to grab coordinates from your favorite literature resource, \n",
    "\n",
    "or\n",
    "\n",
    "You can use [astropy's read](https://docs.astropy.org/en/stable/io/ascii/read.html) function to read in an input table\n",
    "and then convert that table into a list of [skycoords](https://docs.astropy.org/en/stable/api/astropy.coordinates.SkyCoord.html) "
   ]
  },
  {
   "cell_type": "markdown",
   "metadata": {},
   "source": [
    "## 2. Find light curves for these targets in NASA catalogs\n",
    "  - We search a curated list of time-domain catalogs from all NASA astrophysics archives\n"
   ]
  },
  {
   "cell_type": "code",
   "execution_count": 4,
   "metadata": {},
   "outputs": [],
   "source": [
    "### Initialize Pandas MultiIndex data frame for storing the light curves\n",
    "df_lc = MultiIndexDFObject()"
   ]
  },
  {
   "cell_type": "markdown",
   "metadata": {},
   "source": [
    "### 2.1 HEASARC: FERMI & Beppo SAX\n"
   ]
  },
  {
   "cell_type": "code",
   "execution_count": 5,
   "metadata": {},
   "outputs": [
    {
     "name": "stderr",
     "output_type": "stream",
     "text": [
      "100%|██████████| 30/30 [00:01<00:00, 25.76it/s]\n"
     ]
    }
   ],
   "source": [
    "start_serial = time.time()\n",
    "mission_list = ['FERMIGTRIG', 'SAXGRBMGRB']\n",
    "radius = 0.1*u.degree\n",
    "\n",
    "#go out and find all light curves in the above curated list which match our target positions\n",
    "df_lc_heasarc = HEASARC_get_lightcurves(coords_list,labels_list,radius, mission_list)\n",
    "\n",
    "df_lc.append(df_lc_heasarc)"
   ]
  },
  {
   "cell_type": "markdown",
   "metadata": {},
   "source": [
    "### 2.2 IRSA: ZTF"
   ]
  },
  {
   "cell_type": "code",
   "execution_count": 6,
   "metadata": {
    "scrolled": true
   },
   "outputs": [
    {
     "name": "stderr",
     "output_type": "stream",
     "text": [
      "100%|██████████| 30/30 [02:01<00:00,  4.07s/it]"
     ]
    },
    {
     "name": "stdout",
     "output_type": "stream",
     "text": [
      "0  objects did not match to ztf\n"
     ]
    },
    {
     "name": "stderr",
     "output_type": "stream",
     "text": [
      "\n"
     ]
    }
   ],
   "source": [
    "df_lc_ZTF = ZTF_get_lightcurve(coords_list,labels_list,plotprint=0) ## number of plots to show to be set by plotprint\n",
    "\n",
    "#add the resulting dataframe to all other archives\n",
    "df_lc.append(df_lc_ZTF)"
   ]
  },
  {
   "cell_type": "markdown",
   "metadata": {},
   "source": [
    "### 2.3 IRSA:WISE\n",
    "\n",
    "- use the unTimely catalog which ties together all WISE & NEOWISE 2010 - 2020 epochs.  Specifically it combined all observations at a single epoch to achieve deeper mag limits than individual observations alone.\n",
    "- https://github.com/fkiwy/unTimely_Catalog_explorer\n",
    "- https://iopscience-iop-org.caltech.idm.oclc.org/article/10.3847/1538-3881/aca2ab"
   ]
  },
  {
   "cell_type": "code",
   "execution_count": null,
   "metadata": {
    "scrolled": true,
    "tags": []
   },
   "outputs": [],
   "source": [
    "bandlist = ['w1', 'w2']\n",
    "WISE_radius = 1.0\n",
    "\n",
    "df_lc_WISE = WISE_get_lightcurves(coords_list, labels_list, WISE_radius, bandlist)\n",
    "\n",
    "#add the resulting dataframe to all other archives\n",
    "df_lc.append(df_lc_WISE)"
   ]
  },
  {
   "cell_type": "markdown",
   "metadata": {},
   "source": [
    "### 2.4 MAST: Pan-STARRS\n",
    "Query the Pan-STARRS API; based on this [example](https://ps1images.stsci.edu/ps1_dr2_api.html)"
   ]
  },
  {
   "cell_type": "code",
   "execution_count": null,
   "metadata": {},
   "outputs": [],
   "source": [
    "#Do a panstarrs search\n",
    "panstarrs_radius = 1.0/3600.0    # search radius = 1 arcsec\n",
    "df_lc_panstarrs = panstarrs_get_lightcurves(coords_list, labels_list, panstarrs_radius)\n",
    "\n",
    "#add the resulting dataframe to all other archives\n",
    "df_lc.append(df_lc_panstarrs)"
   ]
  },
  {
   "cell_type": "markdown",
   "metadata": {},
   "source": [
    "### 2.5 MAST: Asteroid Terrestrial-impact Last Alert System (ATLAS)\n",
    " - All-sky stellar reference catalog \n",
    " -  MAST hosts this catalog but there are three barriers to using it\n",
    "     1. it is unclear if the MAST [holdings]( https://archive.stsci.edu/hlsp/atlas-refcat2#section-a737bc3e-2d56-4827-9ab4-838fbf8d67c1) include the individual epoch photometry and \n",
    "     2. it is only accessible with casjobs, not through python notebooks.  \n",
    "     3. magnitude range (g, r, i) < 19mag makes it not relevant for this use case\n",
    " \n",
    "One path forward if this catalog becomes scientifically interesting is to put in a MAST helpdesk ticket to see if 1) they do have the light curves, and 2) they could switch the catalog to a searchable with python version.  There are some ways of [accessing casjobs with python](<https://github.com/spacetelescope/notebooks/blob/master/notebooks/MAST/HSC/HCV_CASJOBS/HCV_casjobs_demo.ipynb), but not this particular catalog.  \n",
    " "
   ]
  },
  {
   "cell_type": "markdown",
   "metadata": {},
   "source": [
    "### 2.6 MAST: TESS, Kepler and K2\n",
    " - use [`lightKurve`](https://docs.lightkurve.org/index.html) to search all 3 missions and download light curves\n",
    " \n"
   ]
  },
  {
   "cell_type": "code",
   "execution_count": null,
   "metadata": {
    "scrolled": true
   },
   "outputs": [],
   "source": [
    "#go get the lightcurves using lightkurve\n",
    "TESS_radius = 1.0  #arcseconds\n",
    "df_lc_TESS = TESS_Kepler_get_lightcurves(coords_list, labels_list, TESS_radius)\n",
    "\n",
    "#add the resulting dataframe to all other archives\n",
    "df_lc.append(df_lc_TESS)"
   ]
  },
  {
   "cell_type": "markdown",
   "metadata": {},
   "source": [
    "### 2.7 MAST: HCV\n",
    " - [hubble catalog of variables](https://archive.stsci.edu/hlsp/hcv) \n",
    " - using [this notebook](https://archive.stsci.edu/hst/hsc/help/HCV/HCV_API_demo.html) as a reference to search and download light curves via API"
   ]
  },
  {
   "cell_type": "code",
   "execution_count": null,
   "metadata": {},
   "outputs": [],
   "source": [
    "#Do an HCV search\n",
    "HCV_radius = 1.0/3600.0 # radius = 1 arcsec\n",
    "df_lc_HCV = HCV_get_lightcurves(coords_list, labels_list, HCV_radius)\n",
    "\n",
    "#add the resulting dataframe to all other archives\n",
    "df_lc.append(df_lc_HCV)"
   ]
  },
  {
   "cell_type": "markdown",
   "metadata": {},
   "source": [
    "## 3. Find light curves for these targets in relevant, non-NASA catalogs\n"
   ]
  },
  {
   "cell_type": "markdown",
   "metadata": {},
   "source": [
    "### 3.1 Gaia \n"
   ]
  },
  {
   "cell_type": "code",
   "execution_count": null,
   "metadata": {},
   "outputs": [],
   "source": [
    "gaiastarttime = time.time()\n",
    "## Note: This is very slow. Can probably make faster with direct SQL search?\n",
    "df_lc_gaia = Gaia_get_lightcurve(coords_list,  labels_list , verbose = 1)\n",
    "\n",
    "#add the resulting dataframe to all other archives\n",
    "df_lc.append(df_lc_gaia)\n",
    "\n",
    "print('gaia search took:', time.time() - gaiastarttime, 's')"
   ]
  },
  {
   "cell_type": "markdown",
   "metadata": {},
   "source": [
    "### 3.2 ASAS-SN (all sky automated survey for supernovae) \n",
    "- Has a [website](https://asas-sn.osu.edu/photometry) that can be manually searched; but no API which would allow automatic searches from within this notebook\n",
    "- Magnitude range of this survey is not consistent with the magnitude range of our CLAGN.  If this catalog becomes scientifically interesting, one path forward would be to ask ASAS-SN team about implementing an API\n",
    "\n"
   ]
  },
  {
   "cell_type": "markdown",
   "metadata": {},
   "source": [
    "### 3.3 Icecube Neutrinos\n",
    "\n",
    "There are several [catalogs](https://icecube.wisc.edu/data-releases/2021/01/all-sky-point-source-icecube-data-years-2008-2018) (basically one for each year of IceCube data from 2008 - 2018). The following code creates a large catalog by combining\n",
    "all the yearly catalogs.\n",
    "The IceCube catalog contains Neutrino detections with associated energy and time and approximate direction (which is uncertain by half-degree scales....). Usually, for active events only one or two Neutrinos are detected, which makes matching quite different compared to \"photons\". For our purpose, we will list the top 3 events in energy that are within a given distance to the target.\n",
    "\n",
    "This time series (time vs. neutrino energy) information is similar to photometry. We choose to storing time and energy in our data structure, leaving error = 0. What is __not__ stored in this format is the distance or angular uncertainty of the event direction. "
   ]
  },
  {
   "cell_type": "code",
   "execution_count": null,
   "metadata": {},
   "outputs": [],
   "source": [
    "df_lc_icecube = icecube_get_lightcurve(coords_list , labels_list ,\n",
    "                                   icecube_select_topN = 3,\n",
    "                                   path = \"./data/\",\n",
    "                                   verbose = 1)\n",
    "\n",
    "#add the resulting dataframe to all other archives\n",
    "df_lc.append(df_lc_icecube)\n",
    "end_serial = time.time()"
   ]
  },
  {
   "cell_type": "code",
   "execution_count": null,
   "metadata": {},
   "outputs": [],
   "source": [
    "#benchmarking\n",
    "print('total time for serial archive calls is ', end_serial - start_serial, 's')"
   ]
  },
  {
   "cell_type": "markdown",
   "metadata": {},
   "source": [
    "## 4. Parallel Processing the archive calls\n"
   ]
  },
  {
   "cell_type": "code",
   "execution_count": null,
   "metadata": {},
   "outputs": [],
   "source": [
    "# define some variables in case the above serial cells are not run\n",
    "mission_list = [\"FERMIGTRIG\", \"SAXGRBMGRB\"]\n",
    "heasarc_radius = 0.1 * u.degree\n",
    "bandlist = [\"w1\", \"w2\"]\n",
    "wise_radius = 1.0\n",
    "panstarrs_radius = 1.0 / 3600.0  # search radius = 1 arcsec\n",
    "lk_radius = 1.0  # arcseconds\n",
    "hcv_radius = 1.0 / 3600.0  # radius = 1 arcsec"
   ]
  },
  {
   "cell_type": "code",
   "execution_count": null,
   "metadata": {},
   "outputs": [],
   "source": [
    "# calculate the number of workers needed\n",
    "n_single_archives, n_multiple_archives = 6, 2  # must sum to total number of archives called\n",
    "n_chunks_per_archive = 5  # will make one api call per chunk per 'multiple' archive\n",
    "n_workers = n_single_archives + n_multiple_archives * n_chunks_per_archive"
   ]
  },
  {
   "cell_type": "code",
   "execution_count": null,
   "metadata": {
    "scrolled": true
   },
   "outputs": [],
   "source": [
    "parallel_starttime = time.time()\n",
    "\n",
    "# start a multiprocessing pool and run all the archive queries\n",
    "parallel_df_lc = MultiIndexDFObject()  # to collect the results\n",
    "callback = parallel_df_lc.append  # will be called once on the result returned by each archive\n",
    "with Pool(processes=n_workers) as pool:\n",
    "\n",
    "    # start the processes that call the fast archives\n",
    "    pool.apply_async(\n",
    "        Gaia_get_lightcurve, (coords_list, labels_list, 1), callback=callback\n",
    "    )\n",
    "    pool.apply_async(\n",
    "        HEASARC_get_lightcurves, (coords_list, labels_list, heasarc_radius, mission_list), callback=callback\n",
    "    )\n",
    "    pool.apply_async(\n",
    "        HCV_get_lightcurves, (coords_list, labels_list, hcv_radius), callback=callback\n",
    "    )\n",
    "    pool.apply_async(\n",
    "        icecube_get_lightcurve, (coords_list, labels_list, 3, \"./data/\", 1), callback=callback\n",
    "    )\n",
    "    pool.apply_async(\n",
    "        panstarrs_get_lightcurves, (coords_list, labels_list, panstarrs_radius), callback=callback\n",
    "    )\n",
    "    pool.apply_async(\n",
    "        TESS_Kepler_get_lightcurves, (coords_list, labels_list, lk_radius), callback=callback\n",
    "    )\n",
    "\n",
    "    # split coords_list into smaller chunks and call remaining archives\n",
    "    chunksize = ceil(len(coords_list) / n_chunks_per_archive)  # num coords per api call\n",
    "    for n in range(0, len(coords_list), chunksize):\n",
    "        coords = coords_list[n : n + chunksize]\n",
    "\n",
    "        # start the processes that call the slow archives\n",
    "        pool.apply_async(\n",
    "            WISE_get_lightcurves, (coords, labels_list, wise_radius, bandlist), callback=callback\n",
    "        )\n",
    "        pool.apply_async(\n",
    "            ZTF_get_lightcurve, (coords, labels_list, 0), callback=callback\n",
    "        )\n",
    "\n",
    "    pool.close()  # signal that no more jobs will be submitted to the pool\n",
    "    pool.join()  # wait for all jobs to complete, including the callback\n",
    "\n",
    "parallel_endtime = time.time()"
   ]
  },
  {
   "cell_type": "code",
   "execution_count": null,
   "metadata": {},
   "outputs": [],
   "source": [
    "# How long did parallel processing take?\n",
    "# and look at the results\n",
    "print('parallel processing took', parallel_endtime - parallel_starttime, 's')\n",
    "parallel_df_lc.data"
   ]
  },
  {
   "cell_type": "code",
   "execution_count": null,
   "metadata": {},
   "outputs": [],
   "source": [
    "# # Save the data for future use with ML notebook\n",
    "parquet_savename = 'data/df_lc_051123.parquet.gzip'\n",
    "#parallel_df_lc.data.to_parquet(parquet_savename)\n",
    "#print(\"file saved!\")"
   ]
  },
  {
   "cell_type": "code",
   "execution_count": null,
   "metadata": {},
   "outputs": [],
   "source": [
    "# could load a previously saved file in order to plot\n",
    "#parallel_df_lc = MultiIndexDFObject()\n",
    "#parallel_df_lc.data = pd.read_parquet(parquet_savename)\n",
    "#print(\"file loaded!\")"
   ]
  },
  {
   "cell_type": "markdown",
   "metadata": {},
   "source": [
    "## 5. Make plots of luminosity as a function of time\n",
    "- model plots after [van Velzen et al., 2021](https://arxiv.org/pdf/2111.09391.pdf)\n"
   ]
  },
  {
   "cell_type": "code",
   "execution_count": null,
   "metadata": {
    "lines_to_end_of_cell_marker": 2
   },
   "outputs": [],
   "source": [
    "%%time\n",
    "\n",
    "for objectid, coord in coords_list:\n",
    "    \n",
    "    ## Set up =================\n",
    "    # choose whether to plot data from the serial or parallel calls\n",
    "    singleobj = df_lc.data.loc[objectid]\n",
    "    # singleobj = parallel_df_lc.data.loc[objectid]\n",
    "\n",
    "    # Set up for plotting. We use the \"mosaic\" method so we can plot\n",
    "    # the ZTF data in a subplot for better visibility.\n",
    "    fig, axes = plt.subplot_mosaic(mosaic=[[\"A\"],[\"A\"],[\"B\"]] , figsize=(10,8))\n",
    "    plt.subplots_adjust(hspace=0.3 , wspace=0.3)\n",
    "\n",
    "    ## Plot all the bands in the *main plot* (A) ====================\n",
    "    leg_handles_A = []\n",
    "    max_list = [] # store maximum flux for each band\n",
    "    ztf_minmax_tab = Table(names=[\"tmin\",\"tmax\",\"fluxmin\",\"fluxmax\"]) # store the min and max of the ZTF band fluxes and time\n",
    "    has_ztf = False # flag to set to True if ZTF data is available.\n",
    "    has_icecube = False # flag to set to True if IceCube data is available.\n",
    "    \n",
    "    for band in singleobj.index.unique('band'):\n",
    "                \n",
    "        # get data\n",
    "        band_lc = singleobj.loc[:, band, :]\n",
    "        band_lc.reset_index(inplace = True)\n",
    "\n",
    "        # first clean dataframe to remove erroneous rows\n",
    "        band_lc_clean = band_lc[band_lc['time'] < 65000]\n",
    "        \n",
    "        # Do some sigma-clipping, but only if more than 10 data points.\n",
    "        if len(band_lc_clean) >= 10:\n",
    "            band_lc_clean = band_lc_clean[np.abs(stats.zscore(band_lc_clean.flux.values.astype(float))) < 3.0]\n",
    "        \n",
    "        # before plotting need to scale the Kepler, K2, and TESS fluxes to the other available fluxes\n",
    "        if band in ['Kepler', 'K2', 'TESS']: # Note: these are not included anymore...\n",
    "            \n",
    "            #remove outliers in the dataset\n",
    "            #bandlc_clip = band_lc_clean[(np.abs(stats.zscore(band_lc_clean['flux'])) < 3.0)]\n",
    "\n",
    "            #find the maximum value of 'other bands'\n",
    "            max_electrons = max(band_lc_clean.flux)\n",
    "            factor = np.mean(max_list)/ max_electrons\n",
    "            lh = axes[\"A\"].errorbar(bandlc_clip.time, bandlc_clip.flux * factor, bandlc_clip.err* factor,\n",
    "                                    capsize = 3.0,label = band)\n",
    "            \n",
    "        # ZTF is special because we are plotting the data also in \"B\" zoom-in\n",
    "        elif band in ['zg','zr','zi']: # for ZTF\n",
    "            has_ztf = True\n",
    "            max_list.append(max(band_lc_clean.flux)) \n",
    "            lh = axes[\"A\"].errorbar(band_lc_clean.time, band_lc_clean.flux, band_lc_clean.err,\n",
    "                                    capsize = 1.0, elinewidth=0.5,marker='o',markersize=2,linestyle='', label = \"ZTF {}\".format(band))\n",
    "            ztf_minmax_tab.add_row( [np.min(band_lc_clean.time) , np.max(band_lc_clean.time) , np.min(band_lc_clean.flux) , np.max(band_lc_clean.flux) ] )\n",
    "            \n",
    "            \n",
    "            # plot ZTF in zoomin\n",
    "            p1 = axes[\"B\"].errorbar(band_lc_clean.time, band_lc_clean.flux, band_lc_clean.err,\n",
    "                                    capsize = 1.0, elinewidth=0.5, marker='o',linestyle='',markersize=0.5, alpha=0.5,\n",
    "                                    label = \"ZTF {}\".format(band) , color=lh.lines[0].get_color())\n",
    "            \n",
    "            \n",
    "            \n",
    "            # overplot running mean fo ZTF in zoomin \n",
    "            xx = band_lc_clean.time.values # Note: need to use .values here to remove indexing.\n",
    "            yy = band_lc_clean.flux.values # Note: need to use .values here to remove indexing.\n",
    "            ee = band_lc_clean.err.values # Note: need to use .values here to remove indexing.\n",
    "            x_bin = 30 # in MJD\n",
    "            x_grid = np.arange(np.nanmin(xx) , np.nanmax(xx)+x_bin/4 , x_bin/4)\n",
    "            tmp = Table(names=[\"xbin\",\"ybin\",\"yerr\"])\n",
    "            \n",
    "            for xxx in x_grid:\n",
    "                s = np.where( np.abs(xx - xxx) < x_bin/2 )[0]\n",
    "                if len(s) > 1:\n",
    "                    mn = np.nansum(yy[s]*ee[s]) / np.nansum(ee[s]) # weighted mean\n",
    "                    tmp.add_row([xxx , mn , np.nanstd(yy[s])])\n",
    "                else:\n",
    "                    tmp.add_row([xxx , np.nan , np.nan])\n",
    "                    \n",
    "            axes[\"B\"].plot(tmp[\"xbin\"] , tmp[\"ybin\"] , \"-\", linewidth=1.5 , color=p1.lines[0].get_color())\n",
    "            \n",
    "            \n",
    "        \n",
    "        # IceCube is special because it's only events (= limits on plot.)\n",
    "        elif band in [\"IceCube\"]:\n",
    "            has_icecube = True\n",
    "            # We deal with this later. Need to wait for all the things to plot\n",
    "            # so we know the y limits.\n",
    "            \n",
    "        # Now plot everything else\n",
    "        else:\n",
    "            max_list.append(max(band_lc_clean.flux)) \n",
    "            lh = axes[\"A\"].errorbar(band_lc_clean.time, band_lc_clean.flux, band_lc_clean.err,\n",
    "                                    capsize = 3.0, label = band)\n",
    "        \n",
    "        if band not in [\"IceCube\"]:\n",
    "            leg_handles_A.append(lh) # add legend handles\n",
    "        \n",
    "    ## Now plot IceCube.\n",
    "    # we had to wait for all the data to be plotted so we know\n",
    "    # the y-limits of the resulting final plot. So, we do IceCube\n",
    "    # at the end.\n",
    "    if has_icecube:\n",
    "        band_lc = singleobj.loc[:, \"IceCube\", :]\n",
    "        band_lc.reset_index(inplace = True)\n",
    "        band_lc_clean = band_lc[band_lc['time'] < 65000]\n",
    "        \n",
    "        y = axes[\"A\"].get_ylim()[0] + np.diff(axes[\"A\"].get_ylim())*0.7\n",
    "        dy = np.diff(axes[\"A\"].get_ylim())/20\n",
    "        lh = axes[\"A\"].errorbar(band_lc_clean.time , np.repeat(y , len(band_lc_clean.time)) , yerr=dy, uplims=True ,\n",
    "                                fmt=\"o\"  , label=\"IceCube\" , color=\"black\")\n",
    "    \n",
    "        leg_handles_A.append(lh) # add legend handles (for IceCube)\n",
    "    \n",
    "    \n",
    "    ## Do Axes ===============\n",
    "    axes[\"A\"].set_ylabel('Flux(mJy)')\n",
    "    \n",
    "    # Plot the ZTF bands in a separate plot to show their variability\n",
    "    # more clearly. Can still also plot the rest, just change the x and\n",
    "    # y axis limits. Only do this if ZTF is available for source.\n",
    "    if has_ztf:\n",
    "        axes[\"B\"].set_ylabel('Flux(mJy)')\n",
    "        axes[\"B\"].set_xlabel('Time(MJD)')\n",
    "        axes[\"B\"].set_xlim( np.min(ztf_minmax_tab[\"tmin\"])-100 , np.max(ztf_minmax_tab[\"tmax\"])+100 )\n",
    "    else:\n",
    "        axes[\"A\"].set_xlabel('Time(MJD)')\n",
    "    \n",
    "    ## Make nice axis\n",
    "    axes[\"A\"].grid(linestyle=\":\",color=\"lightgray\", linewidth=1)\n",
    "    axes[\"A\"].minorticks_on()\n",
    "    axes[\"A\"].tick_params(axis='x', which='minor', bottom=True)\n",
    "    axes[\"A\"].tick_params(axis=\"both\", which=\"major\",direction='in', length=6, width=1)\n",
    "    axes[\"A\"].tick_params(axis=\"both\", which=\"minor\",direction='in', length=3, width=1)\n",
    "    axes[\"B\"].grid(linestyle=\":\",color=\"lightgray\", linewidth=1)\n",
    "    axes[\"B\"].minorticks_on()\n",
    "    axes[\"B\"].tick_params(axis='x', which='minor', bottom=True)\n",
    "    axes[\"B\"].tick_params(axis=\"both\", which=\"major\",direction='in', length=6, width=1)\n",
    "    axes[\"B\"].tick_params(axis=\"both\", which=\"minor\",direction='in', length=3, width=1)\n",
    "    \n",
    "    plt.legend(handles=leg_handles_A , bbox_to_anchor=(1.2,3.5))\n",
    "    plt.tight_layout()\n",
    "    #save the plot to data/*.pdf\n",
    "    savename = \"data/lightcurve_{}.pdf\".format(objectid)\n",
    "    plt.savefig(savename, bbox_inches=\"tight\")\n",
    "    plt.show()"
   ]
  },
  {
   "cell_type": "markdown",
   "metadata": {},
   "source": [
    "## References\n",
    "\n",
    "This work made use of:\n",
    "\n",
    "- Astroquery; Ginsburg et al., 2019, 2019AJ....157...98G\n",
    "\n",
    "- Astropy; Astropy Collaboration 2022, Astropy Collaboration 2018, Astropy Collaboration 2013, 2022ApJ...935..167A, 2018AJ....156..123A, 2013A&A...558A..33A\n",
    "\n",
    "- Lightkurve; Lightkurve Collaboration 2018, 2018ascl.soft12013L\n",
    "\n",
    "- acstools; https://zenodo.org/record/7406933#.ZBH1HS-B0eY\n",
    "\n",
    "- unTimely; Meisner et al., 2023, 2023AJ....165...36M\n",
    "\n",
    "- Alerce; Forster et al., 2021, 2021AJ....161..242F"
   ]
  },
  {
   "cell_type": "code",
   "execution_count": null,
   "metadata": {},
   "outputs": [],
   "source": []
  }
 ],
 "metadata": {
  "kernelspec": {
   "display_name": "Python 3",
   "language": "python",
   "name": "python3"
  },
  "language_info": {
   "codemirror_mode": {
    "name": "ipython",
    "version": 3
   },
   "file_extension": ".py",
   "mimetype": "text/x-python",
   "name": "python",
   "nbconvert_exporter": "python",
   "pygments_lexer": "ipython3",
   "version": "3.8.6"
  }
 },
 "nbformat": 4,
 "nbformat_minor": 4
}
