{
 "cells": [
  {
   "cell_type": "markdown",
   "id": "a217ca90-0ef5-46f0-90e0-03b8f3848599",
   "metadata": {},
   "source": [
    "# This notebook is to read the CLAGNs from the literature with their redshifts and types\n",
    "Last edit: Oct 4th, 2023"
   ]
  },
  {
   "cell_type": "code",
   "execution_count": 17,
   "id": "6d783244-83d1-4fca-94bb-2e856b760b7d",
   "metadata": {},
   "outputs": [],
   "source": [
    "import pandas as pd\n",
    "import numpy as np\n",
    "from astropy.coordinates import SkyCoord\n",
    "import astropy.units as u\n",
    "from astropy import table\n",
    "from astropy.table import Table, join, join_skycoord\n",
    "from astroquery.ipac.ned import Ned\n",
    "from astroquery.vizier import Vizier\n",
    "from astroquery.simbad import Simbad\n",
    "import sys\n",
    "sys.path.append('../code/')\n",
    "from sample_selection import clean_sample"
   ]
  },
  {
   "cell_type": "code",
   "execution_count": 2,
   "id": "1d0d0fb9-553c-4a3c-8e6f-0eba2ba0a8fc",
   "metadata": {},
   "outputs": [
    {
     "name": "stdout",
     "output_type": "stream",
     "text": [
      "10 added, turn_on= 4, turn_off=6\n"
     ]
    }
   ],
   "source": [
    "# LaMassa 2015, Macleod 2016\n",
    "macleod_CSQ = Table.read('https://academic.oup.com/mnras/article/457/1/389/989199', htmldict={'table_id': 5}, format='ascii.html')\n",
    "coord_str = macleod_CSQ['Name\\n            .'][0]\n",
    "test_str = coord_str[0:2]+ \" \"+ coord_str[2:4]+ \" \" + coord_str[4:9] + \" \" + coord_str[9:12] + \" \" + coord_str[12:14]+ \" \" + coord_str[14:]\n",
    "c = SkyCoord(test_str, unit=(u.hourangle, u.deg))\n",
    "d={'ra':[c.ra.degree],'dec':[c.dec.degree],'redshift':[macleod_CSQ['z\\n            .'][0]],'turnon':[1]}\n",
    "\n",
    "k=1\n",
    "ton,toff = 1,0\n",
    "for i in range(1,len(macleod_CSQ)):\n",
    "    coord_str = macleod_CSQ['Name\\n            .'][i]\n",
    "    test_str = coord_str[0:2]+ \" \"+ coord_str[2:4]+ \" \" + coord_str[4:9] + \" \" + coord_str[9:12] + \" \" + coord_str[12:14]+ \" \" + coord_str[14:]\n",
    "    c = SkyCoord(test_str, unit=(u.hourangle, u.deg))\n",
    "    d['ra'].append(c.ra.degree)\n",
    "    d['dec'].append(c.dec.degree)\n",
    "    d['redshift'].append(macleod_CSQ['z\\n            .'][i])\n",
    "    label = macleod_CSQ['BEL\\n            .'][i]\n",
    "    if label=='Appear':\n",
    "        d['turnon'].append(1)\n",
    "        ton+=1\n",
    "    else:\n",
    "        d['turnon'].append(0)  \n",
    "        toff+=1\n",
    "    k+=1\n",
    "print(str(k)+' added, turn_on=',str(ton)+', turn_off='+str(toff))        "
   ]
  },
  {
   "cell_type": "code",
   "execution_count": 3,
   "id": "3191ad4b-03b7-4da7-8bdf-0cbfa598e1b2",
   "metadata": {},
   "outputs": [
    {
     "name": "stdout",
     "output_type": "stream",
     "text": [
      "3 added, turn_on= 0, turn_off=3\n"
     ]
    }
   ],
   "source": [
    "# Ruan 2016\n",
    "ruan_CSQ = Ned.query_refcode('2016ApJ...826..188R')\n",
    "ruan_coords = [SkyCoord(ra, dec, frame='icrs', unit='deg') for ra, dec in zip(ruan_CSQ['RA'], ruan_CSQ['DEC'])]\n",
    "k=0\n",
    "ton,toff = 0,0\n",
    "\n",
    "for i in range(len(ruan_CSQ['RA'])):\n",
    "    coord = SkyCoord(ruan_coords[i], unit=(u.hourangle, u.deg))\n",
    "    d['ra'].append(coord.ra.degree)\n",
    "    d['dec'].append(coord.dec.degree)\n",
    "    d['redshift'].append(ruan_CSQ['Redshift'][i])\n",
    "    d['turnon'].append(0)\n",
    "    k+=1\n",
    "    toff+=1\n",
    "\n",
    "print(str(k)+' added, turn_on=',str(ton)+', turn_off='+str(toff))        "
   ]
  },
  {
   "cell_type": "code",
   "execution_count": 4,
   "id": "092afe36-18f3-4b9f-bcef-178fc45c134f",
   "metadata": {},
   "outputs": [
    {
     "name": "stdout",
     "output_type": "stream",
     "text": [
      "26 added, turn_on= 16, turn_off=10\n"
     ]
    }
   ],
   "source": [
    "#Yang 2018\n",
    "CLQ = np.genfromtxt('yangg.cat', dtype=[('SDSSid', 'S18'), ('RA', 'S18'), ('DEC', 'S18'),\n",
    "                                        ('Redshift','<f8'),('Transition','S18')])\n",
    "k=0\n",
    "ton,toff = 0,0\n",
    "for i in range(len(CLQ['RA'])):\n",
    "    ra = CLQ['RA'][i].decode('utf8')\n",
    "    dec = CLQ['DEC'][i].decode('utf8')    \n",
    "    c = SkyCoord(ra+dec, unit=(u.hourangle, u.deg))\n",
    "    d['ra'].append(c.ra.degree)\n",
    "    d['dec'].append(c.dec.degree)\n",
    "    d['redshift'].append(CLQ['Redshift'][i])\n",
    "    if CLQ['Transition'][i]==b'Turn-on':\n",
    "        d['turnon'].append(1)\n",
    "        ton+=1\n",
    "    else:\n",
    "        d['turnon'].append(0)\n",
    "        toff+=1\n",
    "\n",
    "    k+=1\n",
    "print(str(k)+' added, turn_on=',str(ton)+', turn_off='+str(toff))        "
   ]
  },
  {
   "cell_type": "code",
   "execution_count": 5,
   "id": "17c434a2-7bfb-463a-8706-aa26fc34b0b5",
   "metadata": {},
   "outputs": [
    {
     "name": "stdout",
     "output_type": "stream",
     "text": [
      "262 added, turn_on= 17, turn_off=245\n"
     ]
    }
   ],
   "source": [
    "# MacLeod2019\n",
    "a = np.genfromtxt('table2.dat', dtype=[('SDSSid', 'S18'), ('redshift', '<f8'), ('morphology', '<i8'),\n",
    "                                      ('mjd1', 'S24'), ('mag1', '<f8'),('dmag1', '<f8'),\n",
    "                                      ('mjd2', 'S24'), ('mag2', '<f8'),('dmag2', '<f8'),\n",
    "                                      ('mjds', 'S24'), ('mjdps1', 'S24'), ('magps', '<f8'),('dmagps', '<f8'),\n",
    "                                       ('mjdps2', 'S24'), ('tel', 'S24'), ('clq', '<i8'),('nsigma', '<f8')])\n",
    "k=0\n",
    "ton,toff = 0,0\n",
    "\n",
    "for i in range(len(a['SDSSid'])):\n",
    "    coord_str = a['SDSSid'][i].decode('utf8')\n",
    "    test_str = coord_str[0:2]+ \" \"+ coord_str[2:4]+ \" \" + coord_str[4:9] + \" \" + coord_str[9:12] + \" \" + coord_str[12:14]+ \" \" + coord_str[14:]\n",
    "    coords = SkyCoord(test_str, unit=(u.hourangle, u.deg))\n",
    "    \n",
    "    d['ra'].append(coords.ra.degree)\n",
    "    d['dec'].append(coords.dec.degree)\n",
    "    d['redshift'].append(a['redshift'][i])\n",
    "\n",
    "    if a['mag1'][i]>a['mag2'][i]:\n",
    "        d['turnon'].append(1)\n",
    "        ton+=1\n",
    "\n",
    "    else:\n",
    "        d['turnon'].append(0)\n",
    "        toff+=1\n",
    "\n",
    "    k+=1\n",
    "print(str(k)+' added, turn_on=',str(ton)+', turn_off='+str(toff))        "
   ]
  },
  {
   "cell_type": "code",
   "execution_count": 6,
   "id": "68b6bf1c-a2ce-4df8-ab15-f8adee892f06",
   "metadata": {},
   "outputs": [
    {
     "name": "stdout",
     "output_type": "stream",
     "text": [
      "6 added, turn_on= 0, turn_off=6\n"
     ]
    }
   ],
   "source": [
    "#Sheng \n",
    "CLQ = Ned.query_refcode('2020ApJ...889...46S') \n",
    "sheng_CLQ = CLQ[[0,1,2,3,5,6]]#need the first 3 objects in their table, \n",
    "sheng_coords = [SkyCoord(ra, dec, frame='icrs', unit='deg') for ra, dec in zip(sheng_CLQ['RA'], sheng_CLQ['DEC'])]\n",
    "k=0\n",
    "ton,toff = 0,0\n",
    "for i in range(len(sheng_CLQ['Redshift'])):\n",
    "    d['ra'].append(sheng_coords[i].ra.degree)\n",
    "    d['dec'].append(sheng_coords[i].dec.degree)\n",
    "    d['redshift'].append(sheng_CLQ['Redshift'][i])\n",
    "    d['turnon'].append(0)\n",
    "    k+=1\n",
    "    toff+=1\n",
    "    \n",
    "print(str(k)+' added, turn_on=',str(ton)+', turn_off='+str(toff))        "
   ]
  },
  {
   "cell_type": "code",
   "execution_count": 7,
   "id": "a8505c1a-1159-422f-96d0-0cb2aec9770e",
   "metadata": {},
   "outputs": [
    {
     "name": "stdout",
     "output_type": "stream",
     "text": [
      "19 added, turn_on= 4, turn_off=15\n"
     ]
    }
   ],
   "source": [
    "#green\n",
    "Vizier.ROW_LIMIT = -1\n",
    "catalog_list = Vizier.find_catalogs('J/ApJ/933/180')\n",
    "catalogs = Vizier.get_catalogs(catalog_list.keys())\n",
    "table2 = catalogs[0]\n",
    "green_CSQ = table2.to_pandas()\n",
    "k=0\n",
    "ton,toff = 0,0\n",
    "\n",
    "for i in range(len(green_CSQ)):\n",
    "    if \"CLQ\" in (green_CSQ['Notes'][i]):\n",
    "\n",
    "        d['ra'].append(green_CSQ['_RA'][i])\n",
    "        d['dec'].append(green_CSQ['_DE'][i])\n",
    "        d['redshift'].append(green_CSQ['zspec'][i])\n",
    "        if \"TurnOn\" in (green_CSQ['Notes'][i]):\n",
    "            d['turnon'].append(1)\n",
    "            ton+=1\n",
    "        else:\n",
    "            d['turnon'].append(0)\n",
    "            toff+=1\n",
    "        k+=1\n",
    "print(str(k)+' added, turn_on=',str(ton)+', turn_off='+str(toff))        "
   ]
  },
  {
   "cell_type": "code",
   "execution_count": 8,
   "id": "4aac5214-72bb-4f2a-9d83-04d3fa47ab54",
   "metadata": {},
   "outputs": [],
   "source": [
    "#Lyu\n",
    "CLQ = Ned.query_refcode('2022ApJ...927..227L') \n",
    "#CLQ['RA'], CLQ['DEC'], CLQ['Redshift'], CLQ['Type']"
   ]
  },
  {
   "cell_type": "code",
   "execution_count": 9,
   "id": "61258835-77f4-4441-abf0-ab4611170d04",
   "metadata": {},
   "outputs": [
    {
     "name": "stdout",
     "output_type": "stream",
     "text": [
      "4 added, turn_on= 4, turn_off=0\n"
     ]
    }
   ],
   "source": [
    "result_table = Simbad.query_bibobj('2022MNRAS.513L..57L')\n",
    "result_table = result_table[[0,1,2,3]]  #pick the correct sources by hand\n",
    "result_table.columns\n",
    "\n",
    "k=0\n",
    "ton,toff = 0,0\n",
    "z = [0.1022,0.2375,0.1083,0.0849]\n",
    "for i in range(len(result_table)):\n",
    "    d['ra'].append(result_table['RA'][i])\n",
    "    d['dec'].append(result_table['DEC'][i])\n",
    "    d['redshift'].append(z[i])\n",
    "    d['turnon'].append(1)\n",
    "    ton+=1\n",
    "    k+=1\n",
    "print(str(k)+' added, turn_on=',str(ton)+', turn_off='+str(toff))  "
   ]
  },
  {
   "cell_type": "code",
   "execution_count": 10,
   "id": "d8d8501c-a490-4df2-9164-6d598ad893ca",
   "metadata": {},
   "outputs": [
    {
     "name": "stdout",
     "output_type": "stream",
     "text": [
      "16 added, turn_on= 14, turn_off=2\n"
     ]
    }
   ],
   "source": [
    "CLQ = Ned.query_refcode('2022MNRAS.511...54H') \n",
    "#CLQ.columns\n",
    "ids = [2,3,5,6,10,11,12,13,16,20,24,25,27,28,14,26]\n",
    "onoff = [1,1,1,1,1,1,1,1,1,1,1,1,1,1,0,0]\n",
    "k=0\n",
    "ton,toff = 0,0\n",
    "for i,idd in enumerate(ids):    \n",
    "    d['ra'].append(CLQ['RA'][idd])\n",
    "    d['dec'].append(CLQ['DEC'][idd])\n",
    "    d['redshift'].append(CLQ['Redshift'][idd])\n",
    "    if onoff[i]==1:\n",
    "        d['turnon'].append(1)\n",
    "        ton+=1\n",
    "    else:\n",
    "        d['turnon'].append(0)\n",
    "        toff+=1\n",
    "    k+=1\n",
    "print(str(k)+' added, turn_on=',str(ton)+', turn_off='+str(toff))  "
   ]
  },
  {
   "cell_type": "code",
   "execution_count": 16,
   "id": "b44f2a38-ad22-4b93-b5dc-2930640b26e5",
   "metadata": {},
   "outputs": [
    {
     "data": {
      "text/html": [
       "<div>\n",
       "<style scoped>\n",
       "    .dataframe tbody tr th:only-of-type {\n",
       "        vertical-align: middle;\n",
       "    }\n",
       "\n",
       "    .dataframe tbody tr th {\n",
       "        vertical-align: top;\n",
       "    }\n",
       "\n",
       "    .dataframe thead th {\n",
       "        text-align: right;\n",
       "    }\n",
       "</style>\n",
       "<table border=\"1\" class=\"dataframe\">\n",
       "  <thead>\n",
       "    <tr style=\"text-align: right;\">\n",
       "      <th></th>\n",
       "      <th>ra</th>\n",
       "      <th>dec</th>\n",
       "      <th>redshift</th>\n",
       "      <th>turnon</th>\n",
       "    </tr>\n",
       "  </thead>\n",
       "  <tbody>\n",
       "    <tr>\n",
       "      <th>0</th>\n",
       "      <td>5.796083</td>\n",
       "      <td>0.588194</td>\n",
       "      <td>0.422000</td>\n",
       "      <td>1</td>\n",
       "    </tr>\n",
       "    <tr>\n",
       "      <th>1</th>\n",
       "      <td>29.990167</td>\n",
       "      <td>0.552889</td>\n",
       "      <td>0.312000</td>\n",
       "      <td>0</td>\n",
       "    </tr>\n",
       "    <tr>\n",
       "      <th>2</th>\n",
       "      <td>36.483625</td>\n",
       "      <td>0.507417</td>\n",
       "      <td>0.504000</td>\n",
       "      <td>0</td>\n",
       "    </tr>\n",
       "    <tr>\n",
       "      <th>3</th>\n",
       "      <td>36.717667</td>\n",
       "      <td>-0.654583</td>\n",
       "      <td>0.625000</td>\n",
       "      <td>0</td>\n",
       "    </tr>\n",
       "    <tr>\n",
       "      <th>4</th>\n",
       "      <td>150.584042</td>\n",
       "      <td>45.157583</td>\n",
       "      <td>0.400000</td>\n",
       "      <td>0</td>\n",
       "    </tr>\n",
       "    <tr>\n",
       "      <th>...</th>\n",
       "      <td>...</td>\n",
       "      <td>...</td>\n",
       "      <td>...</td>\n",
       "      <td>...</td>\n",
       "    </tr>\n",
       "    <tr>\n",
       "      <th>341</th>\n",
       "      <td>309.4995</td>\n",
       "      <td>-50.39264</td>\n",
       "      <td>0.063087</td>\n",
       "      <td>1</td>\n",
       "    </tr>\n",
       "    <tr>\n",
       "      <th>342</th>\n",
       "      <td>347.33004</td>\n",
       "      <td>-32.49933</td>\n",
       "      <td>0.054167</td>\n",
       "      <td>1</td>\n",
       "    </tr>\n",
       "    <tr>\n",
       "      <th>343</th>\n",
       "      <td>352.63454</td>\n",
       "      <td>-2.46251</td>\n",
       "      <td>0.033430</td>\n",
       "      <td>1</td>\n",
       "    </tr>\n",
       "    <tr>\n",
       "      <th>344</th>\n",
       "      <td>205.064</td>\n",
       "      <td>-4.89214</td>\n",
       "      <td>0.086537</td>\n",
       "      <td>0</td>\n",
       "    </tr>\n",
       "    <tr>\n",
       "      <th>345</th>\n",
       "      <td>311.68586</td>\n",
       "      <td>-1.36887</td>\n",
       "      <td>0.025171</td>\n",
       "      <td>0</td>\n",
       "    </tr>\n",
       "  </tbody>\n",
       "</table>\n",
       "<p>346 rows × 4 columns</p>\n",
       "</div>"
      ],
      "text/plain": [
       "             ra        dec  redshift  turnon\n",
       "0      5.796083   0.588194  0.422000       1\n",
       "1     29.990167   0.552889  0.312000       0\n",
       "2     36.483625   0.507417  0.504000       0\n",
       "3     36.717667  -0.654583  0.625000       0\n",
       "4    150.584042  45.157583  0.400000       0\n",
       "..          ...        ...       ...     ...\n",
       "341    309.4995  -50.39264  0.063087       1\n",
       "342   347.33004  -32.49933  0.054167       1\n",
       "343   352.63454   -2.46251  0.033430       1\n",
       "344     205.064   -4.89214  0.086537       0\n",
       "345   311.68586   -1.36887  0.025171       0\n",
       "\n",
       "[346 rows x 4 columns]"
      ]
     },
     "execution_count": 16,
     "metadata": {},
     "output_type": "execute_result"
    }
   ],
   "source": [
    "df = pd.DataFrame(data=d)\n",
    "df"
   ]
  },
  {
   "cell_type": "code",
   "execution_count": 19,
   "id": "a92b8567-4d91-4e06-952c-8faa754eb74c",
   "metadata": {},
   "outputs": [
    {
     "name": "stdout",
     "output_type": "stream",
     "text": [
      "59 287\n",
      "after duplicates removal, sample size: 54\n",
      "after duplicates removal, sample size: 272\n"
     ]
    }
   ],
   "source": [
    "\n",
    "d1 = df[df['turnon']==1]\n",
    "d0 = df[df['turnon']==0]\n",
    "print(len(d1),len(d0))\n",
    "\n",
    "coords1 = [SkyCoord(ra, dec, frame='icrs', unit='deg') for ra, dec in zip(d1['ra'], d1['dec'])]\n",
    "labels1 = ['CL-On' for l in d1['ra']]\n",
    "c1,l1 = clean_sample(coords1,labels1)\n",
    "\n",
    "coords0 = [SkyCoord(ra, dec, frame='icrs', unit='deg') for ra, dec in zip(d0['ra'], d0['dec'])]\n",
    "labels0 = ['CL-Off' for l in d0['ra']]\n",
    "c0,l0 = clean_sample(coords0,labels0)"
   ]
  },
  {
   "cell_type": "markdown",
   "id": "49252379-c753-4002-bab7-7fd9359058d1",
   "metadata": {},
   "source": [
    "## "
   ]
  }
 ],
 "metadata": {
  "kernelspec": {
   "display_name": "Python 3 (ipykernel)",
   "language": "python",
   "name": "python3"
  },
  "language_info": {
   "codemirror_mode": {
    "name": "ipython",
    "version": 3
   },
   "file_extension": ".py",
   "mimetype": "text/x-python",
   "name": "python",
   "nbconvert_exporter": "python",
   "pygments_lexer": "ipython3",
   "version": "3.9.13"
  }
 },
 "nbformat": 4,
 "nbformat_minor": 5
}
